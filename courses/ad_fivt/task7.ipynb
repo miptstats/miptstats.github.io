{
 "cells": [
  {
   "cell_type": "markdown",
   "metadata": {},
   "source": [
    "# <a href=\"https://miptstats.github.io/courses/ad_fivt.html\">Введение в анализ данных</a>\n",
    "## Домашнее задание 7. Кластеризация и понижение размерности"
   ]
  },
  {
   "cell_type": "markdown",
   "metadata": {},
   "source": [
    "**Правила, <font color=\"red\">прочитайте внимательно</font>:**\n",
    "\n",
    "* Выполненную работу нужно отправить телеграм-боту `@miptstats_ds24_bot`. Для начала работы с ботом каждый раз отправляйте `/start`. **Работы, присланные иным способом, не принимаются.**\n",
    "* Дедлайн см. в боте. После дедлайна работы не принимаются кроме случаев наличия уважительной причины.\n",
    "* Прислать нужно **ноутбук в формате `ipynb`**.\n",
    "* Следите за размером файлов. **Бот не может принимать файлы весом более 20 Мб.** Если файл получается больше, заранее разделите его на несколько.\n",
    "* Выполнять задание необходимо полностью самостоятельно. **При обнаружении списывания все участники списывания будут сдавать устный зачет.**\n",
    "* Решения, размещенные на каких-либо интернет-ресурсах, не принимаются. Кроме того, публикация решения в открытом доступе может быть приравнена к предоставлении возможности списать.\n",
    "* Для выполнения задания используйте этот ноутбук в качестве основы, ничего не удаляя из него. Можно добавлять необходимое количество ячеек.\n",
    "* Комментарии к решению пишите в markdown-ячейках.\n",
    "* Выполнение задания (ход решения, выводы и пр.) должно быть осуществлено на русском языке.\n",
    "* Если код будет не понятен проверяющему, оценка может быть снижена.\n",
    "* Никакой код из данного задания при проверке запускаться не будет. *Если код студента не выполнен, недописан и т.д., то он не оценивается.*\n",
    "\n",
    "**Правила оформления теоретических задач:**\n",
    "\n",
    "* Решения необходимо прислать одним из следующих способов:\n",
    "  * фотографиями в правильной ориентации, где все четко видно, а почерк разборчив,\n",
    "    * отправив их как файл (`pdf`/`png`/`jpg`) боту вместе с ноутбуком\n",
    "    * *или* вставив ее в ноутбук посредством `Edit -> Insert Image` при редактировании markdown-ячейки (<font color=\"red\">фото, вставленные ссылкой, не принимаются</font>);\n",
    "  * в виде $\\LaTeX$ в markdown-ячейках.\n",
    "* Решения не проверяются, если какое-то требование не выполнено. Особенно внимательно все проверьте в случае выбора второго пункта (вставки фото в ноутбук). **<font color=\"red\">Неправильно вставленные фотографии могут не передаться при отправке.</font>** Для проверки попробуйте переместить `ipynb` в другую папку и открыть его там.\n",
    "* **В решениях поясняйте, чем вы пользуетесь**, хотя бы кратко. Например, если пользуетесь независимостью, то достаточно подписи вида \"*X и Y незав.*\"\n",
    "* Решение, в котором есть только ответ, и отсутствуют вычисления, оценивается в 0 баллов.\n",
    "\n",
    "\n",
    "\n",
    "**Баллы за задание:**\n",
    "\n",
    "* Задача 1 &mdash; 30 баллов\n",
    "* Задача 2 &mdash; 30 баллов\n",
    "* Задача 3 &mdash; 120 баллов\n",
    "\n",
    "Баллы учитываются в <b><font color=\"green\">факультативной части</font></b> курса и не влияют на оценку по основной части."
   ]
  },
  {
   "cell_type": "code",
   "execution_count": null,
   "metadata": {},
   "outputs": [],
   "source": [
    "# Bot check\n",
    "\n",
    "# HW_ID: fpmi_ad7\n",
    "# Бот проверит этот ID и предупредит, если случайно сдать что-то не то.\n",
    "\n",
    "# Status: not final\n",
    "# Перед отправкой в финальном решении удали \"not\" в строчке выше.\n",
    "# Так бот проверит, что ты отправляешь финальную версию, а не промежуточную.\n",
    "# Никакие значения в этой ячейке не влияют на факт сдачи работы."
   ]
  },
  {
   "cell_type": "markdown",
   "metadata": {},
   "source": [
    "При необходимости установите библиотеку-расширение для `plotly`, позволяющую рисовать картинки на всплывающих окнах.\n",
    "\n",
    "    pip install dash"
   ]
  },
  {
   "cell_type": "code",
   "execution_count": null,
   "metadata": {
    "notebookRunGroups": {
     "groupValue": "1"
    }
   },
   "outputs": [],
   "source": [
    "import io\n",
    "import os\n",
    "import base64\n",
    "\n",
    "import numpy as np\n",
    "import pandas as pd\n",
    "from tqdm.cli import tqdm\n",
    "\n",
    "import matplotlib.pyplot as plt\n",
    "import seaborn as sns\n",
    "from PIL import Image\n",
    "import plotly.express as px\n",
    "from dash import Dash, dcc, html, Input, Output, no_update, callback\n",
    "\n",
    "from sklearn.cluster import KMeans\n",
    "from sklearn.decomposition import PCA\n",
    "import torch\n",
    "from transformers import ViTImageProcessor, ViTModel\n",
    "\n",
    "sns.set_theme(style=\"darkgrid\", palette=\"Set2\")"
   ]
  },
  {
   "cell_type": "markdown",
   "metadata": {},
   "source": [
    "<font size=\"4\"><b>Внимание! Файл с решением может быть тяжелым. Если он весит 20 Мб и более, заранее разделите его на несколько частей.</b></font>"
   ]
  },
  {
   "cell_type": "markdown",
   "metadata": {},
   "source": [
    "---\n",
    "### Задача 1. \n",
    "\n",
    "Докажите, что метод KMeans делит все пространство объектов на выпуклые многоугольники, возможно, неограниченные."
   ]
  },
  {
   "cell_type": "markdown",
   "metadata": {},
   "source": [
    "---\n",
    "### Задача 2. \n",
    "\n",
    "Как мы знаем из <a href=\"https://miptstats.github.io/courses/ad_fivt/lecture8.pdf\">лекции</a>, в пространствах большой размерности расстояния между случайными объектами становятся неинформативными. Эта проблема известна как *проклятие размерности*, и она влечет соответствующие ограничения на использование методов, основанных на использовании расстоянии между объектами.\n",
    "\n",
    "В этой задаче предлагается промоделировать ситуацию понижения размерности. Сгенерируйте достаточно большое количество точек в единичном кубе в пространстве некоторой размерности. Пример кода дан ниже"
   ]
  },
  {
   "cell_type": "code",
   "execution_count": null,
   "metadata": {},
   "outputs": [],
   "source": [
    "sample_size = 1000\n",
    "dimention = 100\n",
    "sample = np.random.uniform(size=(sample_size, dimention))"
   ]
  },
  {
   "cell_type": "markdown",
   "metadata": {},
   "source": [
    "Повторите генерацию для нескольких размерностей пространства от 2 до 1000. Используйте не менее 7 различных значений размерностей пространства."
   ]
  },
  {
   "cell_type": "code",
   "execution_count": null,
   "metadata": {},
   "outputs": [],
   "source": []
  },
  {
   "cell_type": "markdown",
   "metadata": {},
   "source": [
    "Для каждой размерности посчитайте норму каждой точки, тем самым получая набор значений расстояния от 0 до случайной точки. Нормируйте все расстояния, поделив на среднее полученных расстояний для каждой размерности пространства."
   ]
  },
  {
   "cell_type": "code",
   "execution_count": null,
   "metadata": {},
   "outputs": [],
   "source": []
  },
  {
   "cell_type": "markdown",
   "metadata": {},
   "source": [
    "Нарисуйте на одном графике <a href=\"https://miptstats.github.io/courses/python/09_seaborn.html#3.-Оценки-плотности\" target=\"_blank\">KDE-оценки плотности</a> нормированных расстояний для каждой размерности пространства."
   ]
  },
  {
   "cell_type": "code",
   "execution_count": null,
   "metadata": {},
   "outputs": [],
   "source": []
  },
  {
   "cell_type": "markdown",
   "metadata": {},
   "source": [
    "Сделайте выводы"
   ]
  },
  {
   "cell_type": "markdown",
   "metadata": {},
   "source": [
    "---\n",
    "### Задача 3."
   ]
  },
  {
   "cell_type": "markdown",
   "metadata": {},
   "source": [
    "В этой задаче мы попробуем кластеризовать различными способами изображения котиков из датасета с <a href=\"https://miptstats.github.io/courses/ad_fivt/pca.html\" target=\"_blank\">семинара</a>.\n",
    "\n",
    "Скачайте данные, загрузите их и отрисуйте несколько примеров."
   ]
  },
  {
   "cell_type": "code",
   "execution_count": null,
   "metadata": {},
   "outputs": [],
   "source": [
    "# Загружаем картинки\n",
    "# <...>\n",
    "cats = <...>\n",
    "\n",
    "# Визуализируем примеры\n",
    "# <...>"
   ]
  },
  {
   "cell_type": "markdown",
   "metadata": {},
   "source": [
    "#### 1. Свойства метрики в пространстве котиков\n",
    "\n",
    "Прежде всего давайте исследуем, наблюдается ли проблема проклятия размерности в пространстве котиков, фактически повторив исследование предыдущей задачи. Для этого выберите не менее 10000 случайных пар изображений и посчитайте расстояния между ними. Визуализируйте <a href=\"https://miptstats.github.io/courses/python/09_seaborn.html#3.-Оценки-плотности\" target=\"_blank\">KDE-оценку плотности</a> нормированных расстояний.\n",
    "\n",
    "Повторите те же действия к результату применения PCA, рассмотрев разное количество компонент, например, для 30, 100 и 500. Обратите внимание, что PCA нужно обучать на всех изображениях, а не только для тех, для которых вы будете считать расстояния. Примеры обучения PCA можно посмотреть в <a href=\"https://miptstats.github.io/courses/ad_fivt/pca.html\" target=\"_blank\">ноутбуке</a> с занятия."
   ]
  },
  {
   "cell_type": "code",
   "execution_count": null,
   "metadata": {},
   "outputs": [],
   "source": []
  },
  {
   "cell_type": "markdown",
   "metadata": {},
   "source": [
    "Сделайте выводы"
   ]
  },
  {
   "cell_type": "markdown",
   "metadata": {},
   "source": [
    "#### 2. Кластеризация котиков по вектору изображения\n",
    "\n",
    "Начнем эксперименты с самого простого способа: каждое изображение можно вытянуть в вектор размерности $64 \\cdot 64 \\cdot 3$, их и попытаемся кластеризовать. Обучите по этим объектам метод KMeans, пример можно посмотреть в <a href=\"https://miptstats.github.io/courses/ad_fivt/clustering.html\" target=\"_blank\">ноутбуке</a> по кластеризации"
   ]
  },
  {
   "cell_type": "code",
   "execution_count": null,
   "metadata": {},
   "outputs": [],
   "source": [
    "%%time\n",
    "# <...>"
   ]
  },
  {
   "cell_type": "markdown",
   "metadata": {},
   "source": [
    "Теперь отобразим изображения на плоскость с помощью PCA и визуализируем полученные предсказания цветом, как это было сделано на семинаре для ответов на вопросы в бот. Ниже уже реализована функция отрисовки `visualize_images_clusterisation`, вам требуется лишь применить PCA и вызвать функцию с правильными параметрами."
   ]
  },
  {
   "cell_type": "code",
   "execution_count": null,
   "metadata": {},
   "outputs": [],
   "source": [
    "def visualize_images_clusterisation(images, projection, clusters, port=None):\n",
    "    \"\"\"\n",
    "    Визуализиует двумерную проекцию эмбеддингов изображений,\n",
    "    во всплывающем окне показывает сами изображения\n",
    "\n",
    "    :param images: набор изображений\n",
    "    :param projection: двумерная проекция изображений или эмбеддингов изображений\n",
    "    :param clusters: предсказанные кластера\n",
    "    :param port: опциональный параметр, порт на котором поднимается визуализация:\n",
    "                 одинаковые порты - одинаковые графики, но если в ноутбуке открыто много портов, то могут начаться лаги\n",
    "    \"\"\"\n",
    "    # Рисуем график с точками как на семинаре\n",
    "    fig = px.scatter(\n",
    "        x=projection[:, 0],\n",
    "        y=projection[:, 1],\n",
    "        hover_name=clusters,\n",
    "        hover_data={\"image_idx\": list(range(len(images)))},\n",
    "        color=clusters.astype(str),\n",
    "        width=1000,\n",
    "        height=800,\n",
    "        title=\"PCA проекция изображений на плоскость\",\n",
    "        size=[1] * len(images),\n",
    "        size_max=12,\n",
    "    )\n",
    "\n",
    "    # Добавляем во всплывающее окошко (hover box) изображения\n",
    "    fig.update_traces(\n",
    "        hoverinfo=\"none\",\n",
    "        hovertemplate=None,\n",
    "    )\n",
    "\n",
    "    app = Dash(__name__)\n",
    "\n",
    "    app.layout = html.Div(\n",
    "        className=\"container\",\n",
    "        children=[\n",
    "            dcc.Graph(id=\"graph-2-dcc\", figure=fig, clear_on_unhover=True),\n",
    "            dcc.Tooltip(id=\"graph-tooltip-2\", direction=\"bottom\"),\n",
    "        ],\n",
    "    )\n",
    "\n",
    "    @callback(\n",
    "        Output(\"graph-tooltip-2\", \"show\"),\n",
    "        Output(\"graph-tooltip-2\", \"bbox\"),\n",
    "        Output(\"graph-tooltip-2\", \"children\"),\n",
    "        Output(\"graph-tooltip-2\", \"direction\"),\n",
    "        Input(\"graph-2-dcc\", \"hoverData\"),\n",
    "    )\n",
    "    def display_hover(hoverData):\n",
    "        \"\"\"\n",
    "        Настраивает всплывающее окно hover box.\n",
    "\n",
    "        :param hoverData: данные соответствующей точки\n",
    "        \"\"\"\n",
    "        if hoverData is None:\n",
    "            return False, no_update, no_update, no_update\n",
    "\n",
    "        # Достаем индекс картинки, который выше положили в hover_data\n",
    "        hover_data = hoverData[\"points\"][0]\n",
    "        image_idx = hover_data[\"customdata\"][0]\n",
    "        # И получаем само изображение кота\n",
    "        image = Image.fromarray(images[image_idx].reshape(64, 64, 3))\n",
    "\n",
    "        # Преобразовываем изображение в base64 кодировку\n",
    "        buffer = io.BytesIO()\n",
    "        image.save(buffer, format=\"jpeg\")\n",
    "        encoded_image = base64.b64encode(buffer.getvalue()).decode()\n",
    "        image_url = \"data:image/jpeg;base64, \" + encoded_image\n",
    "\n",
    "        image_children = [\n",
    "            html.Img(\n",
    "                src=image_url,\n",
    "                style={\"width\": \"196px\"},\n",
    "            ),\n",
    "        ]\n",
    "\n",
    "        return True, hover_data[\"bbox\"], image_children, \"top\"\n",
    "\n",
    "    if port is None:\n",
    "        port = str(np.random.randint(5000, 15000))\n",
    "    app.run(port=port, debug=True, jupyter_height=800)\n",
    "\n",
    "    return app"
   ]
  },
  {
   "cell_type": "code",
   "execution_count": null,
   "metadata": {},
   "outputs": [],
   "source": [
    "# <...>"
   ]
  },
  {
   "cell_type": "markdown",
   "metadata": {},
   "source": [
    "Для каждого кластера нарисуйте по 5-10 типичных изображений, то есть ближайших к центру кластера. Похожую операцию мы видели на занятии в <a href=\"https://miptstats.github.io/courses/ad_fivt/clustering.html\" target=\"_blank\">ноутбуке</a> по кластеризации.\n",
    "\n",
    "*Примечание.* Для одного кластера рисуйте картинки \"в строчку\". Так будет удобно как вам самим, так и проверяющему. Примеры можно посмотреть в <a href=\"https://miptstats.github.io/courses/ad_fivt/pca.html\" target=\"_blank\">ноутбуке</a> по PCA."
   ]
  },
  {
   "cell_type": "code",
   "execution_count": null,
   "metadata": {},
   "outputs": [],
   "source": [
    "# <...>"
   ]
  },
  {
   "cell_type": "markdown",
   "metadata": {},
   "source": [
    "Наблюдаются ли какие-то закономерности в изображениях внутри одного кластера? Если да, то опишите отличительные черты кластеров.\n",
    "\n",
    "<...>\n",
    "\n",
    "Подумайте, чем может быть плох такой подход? Какая проблема могла возникнуть и возникла ли? Обратите внимание на проведенное ранее исследование.\n",
    "\n",
    "<...>"
   ]
  },
  {
   "cell_type": "markdown",
   "metadata": {},
   "source": [
    "#### 3. PCA + кластеризация\n",
    "\n",
    "Попробуем уменьшить размерность перед кластеризацией с помощью PCA, спроектировав изображения на первые несколько главных компонент \n",
    "\n",
    "**Примечание.** Не стоит брать больше 100 главных компонент\n",
    "\n",
    "Сделайте кластеризацию:"
   ]
  },
  {
   "cell_type": "code",
   "execution_count": null,
   "metadata": {},
   "outputs": [],
   "source": [
    "%%time\n",
    "# <...>"
   ]
  },
  {
   "cell_type": "markdown",
   "metadata": {},
   "source": [
    "Визуализируйте полученные кластера:"
   ]
  },
  {
   "cell_type": "code",
   "execution_count": null,
   "metadata": {},
   "outputs": [],
   "source": [
    "# <...>"
   ]
  },
  {
   "cell_type": "markdown",
   "metadata": {},
   "source": [
    "Нарисуйте по 5-10 типичных изображений для новых кластеров"
   ]
  },
  {
   "cell_type": "code",
   "execution_count": null,
   "metadata": {},
   "outputs": [],
   "source": [
    "# <...>"
   ]
  },
  {
   "cell_type": "markdown",
   "metadata": {},
   "source": [
    "Опишите отличительные черты кластеров:\n",
    "\n",
    "<...>\n",
    "\n",
    "Сильно ли они отличаются от предыдущего способа?\n",
    "\n",
    "<...>"
   ]
  },
  {
   "cell_type": "markdown",
   "metadata": {},
   "source": [
    "#### 4. Нейросетевые эмбеддинги + кластеризация\n",
    "\n",
    "Попробуем применить к изображениям такой же подход, как с текстами. То есть возьмем хорошую уже обученную нейросеть, получим с ее помощью эмбеддинги изображений и будем дулеть кластеризацию этих эмбеддингов.\n",
    "\n",
    "Выберите на <a target=\"_blank\" href=\"https://huggingface.co/models\">huggingface</a> модель для получения эмбеддингов изображений.\n",
    "\n",
    "**Примечания**\n",
    "- Нам нужны `CV` модели для задачи извлечения признаков (в фильтрах huggingface называются `Image Feature Extraction`).\n",
    "- Не выбирайте слишком тяжелые модели (с суффиксами `-huge`, `-giant`, `-large` и прочим), нам это ни к чему, так как картинки маленькие и простые. К тому же это замедлит предсказание эмбеддингов.\n",
    "- Обычно в карточке модели есть пример применения, который можно скопировать и как в семинаре в цикле применить ко всем батчам изображениям.\n",
    "- Некоторые модели могут возвращать не эмбеддинг размерности `(D,)`, а матрицу признаков размерности `(n, D)`, в этому случае надо применить average-pooling, усреднив по предпоследней оси.\n",
    "\n",
    "Загрузите модель, примените к одному тестовому изображению кота и посмотрите на размерность полученного тензора"
   ]
  },
  {
   "cell_type": "code",
   "execution_count": null,
   "metadata": {},
   "outputs": [],
   "source": [
    "example_image = cats[0].reshape(64, 64, 3)\n",
    "\n",
    "# Загрузка и тестовое применение модели\n",
    "# <...>"
   ]
  },
  {
   "cell_type": "markdown",
   "metadata": {},
   "source": [
    "Теперь примените загруженную модель ко всем картинкам"
   ]
  },
  {
   "cell_type": "code",
   "execution_count": null,
   "metadata": {},
   "outputs": [],
   "source": [
    "# <...>"
   ]
  },
  {
   "cell_type": "markdown",
   "metadata": {},
   "source": [
    "Сделайте кластеризацию полученных эмбеддингов"
   ]
  },
  {
   "cell_type": "code",
   "execution_count": null,
   "metadata": {},
   "outputs": [],
   "source": [
    "# <...>"
   ]
  },
  {
   "cell_type": "markdown",
   "metadata": {},
   "source": [
    "Визуализируйте полученные кластера:"
   ]
  },
  {
   "cell_type": "code",
   "execution_count": null,
   "metadata": {},
   "outputs": [],
   "source": [
    "# <...>"
   ]
  },
  {
   "cell_type": "markdown",
   "metadata": {},
   "source": [
    "Нарисуйте по 5-10 типичных изображений для новых кластеров"
   ]
  },
  {
   "cell_type": "code",
   "execution_count": null,
   "metadata": {},
   "outputs": [],
   "source": [
    "# <...>"
   ]
  },
  {
   "cell_type": "markdown",
   "metadata": {},
   "source": [
    "Опишите отличительные черты кластеров:\n",
    "\n",
    "<...>\n",
    "\n",
    "Чем отличаются кластеры, полученные этим способом от первых двух?\n",
    "\n",
    "<...>"
   ]
  },
  {
   "cell_type": "markdown",
   "metadata": {},
   "source": [
    "#### 5. Выводы\n",
    "Сделайте выводы: \n",
    "\n",
    "<...>"
   ]
  }
 ],
 "metadata": {
  "hide_input": false,
  "kernelspec": {
   "display_name": "Python 3 (ipykernel)",
   "language": "python",
   "name": "python3"
  },
  "language_info": {
   "codemirror_mode": {
    "name": "ipython",
    "version": 3
   },
   "file_extension": ".py",
   "mimetype": "text/x-python",
   "name": "python",
   "nbconvert_exporter": "python",
   "pygments_lexer": "ipython3",
   "version": "3.11.6"
  }
 },
 "nbformat": 4,
 "nbformat_minor": 2
}
