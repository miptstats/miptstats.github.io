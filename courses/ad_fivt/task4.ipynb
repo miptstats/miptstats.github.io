{
 "cells": [
  {
   "cell_type": "markdown",
   "metadata": {},
   "source": [
    "# <a href=\"https://miptstats.github.io/courses/ad_fivt.html\">Введение в анализ данных</a>\n",
    "## Домашнее задание 4. Анализ вакансий.\n"
   ]
  },
  {
   "cell_type": "markdown",
   "metadata": {},
   "source": [
    "**Правила, <font color=\"red\">прочитайте внимательно</font>:**\n",
    "\n",
    "* Выполненную работу нужно отправить телеграм-боту `@miptstats_ds23_bot`. Для начала работы с ботом каждый раз отправляйте `/start`. Дождитесь подтверждения от бота, что он принял файл. Если подтверждения нет, то что-то не так. **Работы, присланные иным способом, не принимаются.**\n",
    "* Дедлайн см. в боте. После дедлайна работы не принимаются кроме случаев наличия уважительной причины.\n",
    "* Прислать нужно **ноутбук в формате `ipynb` и полученные данные** (подробности далее). Если вы строите интерактивные графики, их стоит прислать в формате html.\n",
    "* Следите за размером файлов. **Бот не может принимать файлы весом более 20 Мб.** Если файл получается больше, заранее разделите его на несколько.\n",
    "* Будьте внимательны при работе со сбором данных. Ответственность за корректность ваших действий лежит на вас. Не нагружайте сервера, *делайте паузы между запросами*. Как следствие, начинайте выполнять задание заранее. **Если вас где-то забаннили и т.п., то это не является уважительной причиной продления дедлайна.**\n",
    "* Выполнять задание необходимо полностью самостоятельно. **При обнаружении списывания все участники списывания будут сдавать устный зачет.**\n",
    "* Решения, размещенные на каких-либо интернет-ресурсах, не принимаются. Кроме того, публикация решения в открытом доступе может быть приравнена к предоставлении возможности списать.\n",
    "* Для выполнения задания используйте этот ноутбук в качестве основы, ничего не удаляя из него. Можно добавлять необходимое количество ячеек.\n",
    "* Комментарии к решению пишите в markdown-ячейках.\n",
    "* Выполнение задания (ход решения, выводы и пр.) должно быть осуществлено на русском языке.\n",
    "* Если код будет не понятен проверяющему, оценка может быть снижена.\n",
    "* Никакой код из данного задания при проверке запускаться не будет. *Если код студента не выполнен, недописан и т.д., то он не оценивается.*\n",
    "\n",
    "**Перед выполнением задания посмотрите презентацию по выполнению и оформлению домашних заданий с занятия 2.**\n",
    "\n",
    "---\n",
    "\n",
    "**Баллы за задание:**\n",
    "\n",
    "<b><a href=\"#Легкая-часть\" style=\"text-decoration: none;\"><font color=\"blue\">Легкая часть</font></a></b> (достаточно на \"хор\"):\n",
    "* Задача 1 &mdash; 60 баллов\n",
    "\n",
    "<b><a href=\"#Сложная-часть\" style=\"text-decoration: none;\"><font color=\"orange\">Сложная часть</font></a></b> (необходимо на \"отл\"):\n",
    "* Задача 2 &mdash; 60 баллов"
   ]
  },
  {
   "cell_type": "code",
   "execution_count": null,
   "metadata": {},
   "outputs": [],
   "source": [
    "# Bot check\n",
    "\n",
    "# HW_ID: fpmi_ad4\n",
    "# Бот проверит этот ID и предупредит, если случайно сдать что-то не то.\n",
    "\n",
    "# Status: not final\n",
    "# Перед отправкой в финальном решении удали \"not\" в строчке выше.\n",
    "# Так бот проверит, что ты отправляешь финальную версию, а не промежуточную.\n",
    "# Никакие значения в этой ячейке не влияют на факт сдачи работы."
   ]
  },
  {
   "cell_type": "code",
   "execution_count": 1,
   "metadata": {
    "colab": {},
    "colab_type": "code",
    "id": "ht9Xm0EucoAr"
   },
   "outputs": [],
   "source": [
    "import requests\n",
    "from time import sleep\n",
    "import json\n",
    "\n",
    "import numpy as np\n",
    "import pandas as pd\n",
    "import matplotlib.pyplot as plt\n",
    "import seaborn as sns\n",
    "\n",
    "sns.set(style='whitegrid', font_scale=1.3, palette='Set2')"
   ]
  },
  {
   "attachments": {},
   "cell_type": "markdown",
   "metadata": {},
   "source": [
    "\n",
    "Второй курс &mdash; самое время задуматься о будущей профессии и проанализировать существующие предложения. Дело тут даже не в том, чтобы найти интересную стажировку. В первую очередь сейчас стоит подумать о том, в какую сторону развиваться дальше. Например, если вы хотите работать в какой-либо конкретной профессии, то наверняка стоит развивать какие-то определенные навыки, и даже выбрать подходящую кафедру. Анализ существующих вакансий поможет определить, какие навыки вам нужны. \n",
    "\n",
    "Задание предполагает вариативность исследуемых данных. Вы можете выбрать один из следующих вариантов.\n",
    "1. Стандартный вариант &mdash; проанализировать вакансии на сайте <a target=\"_blank\" href=\"https://hh.ru/\">hh.ru</a> с использованием <a target=\"_blank\" href=\"https://dev.hh.ru/\">официального API</a>. Далее приведен пример работы с этим API. *Если вы не достаточно уверены в своих силах, рекомендуется выбрать этот вариант.*\n",
    "2. Разобраться с API других сервисов по поиску вакансий, например, <a target=\"_blank\" href=\"https://career.habr.com/\">Хабр.Карьера</a> или <a target=\"_blank\" href=\"https://www.superjob.ru/\">SuperJob</a>.\n",
    "3. Извлечение данных с помощью <a target=\"_blank\" href=\"https://miptstats.github.io/courses/ad_fivt/data_parsing.html#2.-Парсинг-HTML-напрямую\">парсинга HTML напрямую</a> некоторых сайтов. Например, вы можете попробовать напрямую распарсить пул вакансий из тех источников, которые не предоставляют API. **Внимание! Обращайте внимание на пользовательские соглашения и на <a target=\"_blank\" href=\"https://miptstats.github.io/courses/ad_fivt/data_parsing.html#Сбор-данных-из-открытых-источников\">эти рекомендации</a>.**\n",
    "4. Комбинирование нескольких подходов. В этом случае нужно понимать, как находить одинаковые вакансии из разных источников для избежания их двойного учета.\n",
    "5. Можно также *дополнительно* брать архивные данные из недавнего прошлого, например, из <a target=\"_blank\" href=\"https://boosters.pro/championship/HeadHunter/overview/description\">этого соревнования</a>.\n",
    "\n",
    "Перед выполнением задания ознакомьтесь с <a target=\"_blank\" href=\"https://miptstats.github.io/courses/ad_fivt/data_parsing.html\">материалом</a> о сборе данных из открытых источников.\n",
    "\n",
    "Для получения максимального балла за задание достаточно выполнить все задание по стандартному варианту. Альтернативные варианты, даже более сложные, не дают больше баллов, чем максимальное количество баллов по стандартному варианту.\n",
    "\n",
    "Работа в некоторой степени творческая, поэтому конкретные детали решения в основном остаются на усмотрение автора решения. Например, если в вакансии зарплата укзана \"*от ...*\" или  \"*до ...*\", то вы сами решаете, как это обрабатывать, но не забывайте про четкую аргументацию. Не забывайте также заглядывать в презентацию по выполнению и оформлению домашних заданий с занятия 2."
   ]
  },
  {
   "cell_type": "markdown",
   "metadata": {},
   "source": [
    " ---\n",
    "### Справка по работе с API сервиса hh.ru.   \n",
    "\n",
    "<b><font color=\"red\">Внимание!</font> При работе с API не забывайте делать паузы между запросами, чтобы не задудосить сервер. Если вас заблокируют, это не будет являться уважительной причиной переноса дедлайна.</b>\n",
    "\n",
    "Мы будем работать только с вакансиями. Для этого не требуется регистрироваться и получать токен. Ниже приведен краткий пример работы с API. Подробное описание работы с вакансиями, включая параметры запросов и формат ответа можно почитать в <a target=\"_blank\" href=\"https://github.com/hhru/api/blob/master/docs/vacancies.md#search\">документации</a>.\n",
    "\n",
    "Например, мы хотим найти вакансии по запросу `Data Scientist` в Москве. Тогда первую страницу поиска из 10 вакансий на страницу мы можем получить с запроса к API:"
   ]
  },
  {
   "cell_type": "code",
   "execution_count": 2,
   "metadata": {},
   "outputs": [],
   "source": [
    "URL = 'https://api.hh.ru/vacancies'\n",
    "\n",
    "params = {\n",
    "    'text': \"Data Scientist\",\n",
    "    'area': 1,\n",
    "    'page': 0,\n",
    "    'per_page': 10\n",
    "}\n",
    "\n",
    "req = requests.get(URL, params)\n",
    "data = json.loads(req.content.decode())"
   ]
  },
  {
   "cell_type": "markdown",
   "metadata": {},
   "source": [
    "Если все прошло успешно, полученный словарь будет иметь следующие ключи"
   ]
  },
  {
   "cell_type": "code",
   "execution_count": 3,
   "metadata": {},
   "outputs": [
    {
     "data": {
      "text/plain": [
       "dict_keys(['items', 'found', 'pages', 'per_page', 'page', 'clusters', 'arguments', 'alternate_url'])"
      ]
     },
     "execution_count": 3,
     "metadata": {},
     "output_type": "execute_result"
    }
   ],
   "source": [
    "data.keys()"
   ]
  },
  {
   "cell_type": "markdown",
   "metadata": {},
   "source": [
    "Можем посмотреть на краткое описание первой вакансии"
   ]
  },
  {
   "cell_type": "code",
   "execution_count": 4,
   "metadata": {
    "scrolled": false
   },
   "outputs": [
    {
     "data": {
      "text/plain": [
       "{'id': '74376536',\n",
       " 'premium': False,\n",
       " 'name': 'Data scientist',\n",
       " 'department': None,\n",
       " 'has_test': False,\n",
       " 'response_letter_required': False,\n",
       " 'area': {'id': '1', 'name': 'Москва', 'url': 'https://api.hh.ru/areas/1'},\n",
       " 'salary': {'from': 200000, 'to': 240000, 'currency': 'RUR', 'gross': False},\n",
       " 'type': {'id': 'open', 'name': 'Открытая'},\n",
       " 'address': {'city': 'Москва',\n",
       "  'street': 'Походный проезд',\n",
       "  'building': '14',\n",
       "  'lat': 55.838091,\n",
       "  'lng': 37.417167,\n",
       "  'description': None,\n",
       "  'raw': 'Москва, Походный проезд, 14',\n",
       "  'metro': None,\n",
       "  'metro_stations': [],\n",
       "  'id': '953346'},\n",
       " 'response_url': None,\n",
       " 'sort_point_distance': None,\n",
       " 'published_at': '2023-02-23T13:01:29+0300',\n",
       " 'created_at': '2023-02-23T13:01:29+0300',\n",
       " 'archived': False,\n",
       " 'apply_alternate_url': 'https://hh.ru/applicant/vacancy_response?vacancyId=74376536',\n",
       " 'insider_interview': None,\n",
       " 'url': 'https://api.hh.ru/vacancies/74376536?host=hh.ru',\n",
       " 'adv_response_url': None,\n",
       " 'alternate_url': 'https://hh.ru/vacancy/74376536',\n",
       " 'relations': [],\n",
       " 'employer': {'id': '606',\n",
       "  'name': 'Астор',\n",
       "  'url': 'https://api.hh.ru/employers/606',\n",
       "  'alternate_url': 'https://hh.ru/employer/606',\n",
       "  'logo_urls': {'original': 'https://hhcdn.ru/employer-logo-original/895922.png',\n",
       "   '90': 'https://hhcdn.ru/employer-logo/4024375.png',\n",
       "   '240': 'https://hhcdn.ru/employer-logo/4024376.png'},\n",
       "  'vacancies_url': 'https://api.hh.ru/vacancies?employer_id=606',\n",
       "  'trusted': True},\n",
       " 'snippet': {'requirement': 'Опыт работы на позиции <highlighttext>data</highlighttext> <highlighttext>scientist</highlighttext> от 2ух лет. Знание основных алгоритмов и метрик машинного обучения. Ключевые навыки: Python...',\n",
       "  'responsibility': 'Работа в команде по созданию модуля <highlighttext>Data</highlighttext> Science & AI, отвечающего за обработку данных, консолидированных в хранилище, и интеллектуальное обеспечение различных...'},\n",
       " 'contacts': None,\n",
       " 'schedule': {'id': 'remote', 'name': 'Удаленная работа'},\n",
       " 'working_days': [],\n",
       " 'working_time_intervals': [],\n",
       " 'working_time_modes': [],\n",
       " 'accept_temporary': False,\n",
       " 'professional_roles': [{'id': '10', 'name': 'Аналитик'}],\n",
       " 'accept_incomplete_resumes': False}"
      ]
     },
     "execution_count": 4,
     "metadata": {},
     "output_type": "execute_result"
    }
   ],
   "source": [
    "data['items'][0]"
   ]
  },
  {
   "cell_type": "markdown",
   "metadata": {},
   "source": [
    "Сколько всего найдено вакансий"
   ]
  },
  {
   "cell_type": "code",
   "execution_count": 5,
   "metadata": {},
   "outputs": [
    {
     "data": {
      "text/plain": [
       "241"
      ]
     },
     "execution_count": 5,
     "metadata": {},
     "output_type": "execute_result"
    }
   ],
   "source": [
    "data['found']"
   ]
  },
  {
   "cell_type": "markdown",
   "metadata": {},
   "source": [
    "Количество страниц в результатах поиска"
   ]
  },
  {
   "cell_type": "code",
   "execution_count": 6,
   "metadata": {},
   "outputs": [
    {
     "data": {
      "text/plain": [
       "25"
      ]
     },
     "execution_count": 6,
     "metadata": {},
     "output_type": "execute_result"
    }
   ],
   "source": [
    "data['pages']"
   ]
  },
  {
   "cell_type": "markdown",
   "metadata": {},
   "source": [
    "Из результатов можем сделать удобную таблицу, причем в дальнейшем можно оставить только те колонки, которые необходимы для анализа."
   ]
  },
  {
   "cell_type": "code",
   "execution_count": 7,
   "metadata": {},
   "outputs": [
    {
     "data": {
      "text/html": [
       "<div>\n",
       "<style scoped>\n",
       "    .dataframe tbody tr th:only-of-type {\n",
       "        vertical-align: middle;\n",
       "    }\n",
       "\n",
       "    .dataframe tbody tr th {\n",
       "        vertical-align: top;\n",
       "    }\n",
       "\n",
       "    .dataframe thead th {\n",
       "        text-align: right;\n",
       "    }\n",
       "</style>\n",
       "<table border=\"1\" class=\"dataframe\">\n",
       "  <thead>\n",
       "    <tr style=\"text-align: right;\">\n",
       "      <th></th>\n",
       "      <th>id</th>\n",
       "      <th>premium</th>\n",
       "      <th>name</th>\n",
       "      <th>department</th>\n",
       "      <th>has_test</th>\n",
       "      <th>response_letter_required</th>\n",
       "      <th>response_url</th>\n",
       "      <th>sort_point_distance</th>\n",
       "      <th>published_at</th>\n",
       "      <th>created_at</th>\n",
       "      <th>...</th>\n",
       "      <th>address.metro.line_id</th>\n",
       "      <th>address.metro.lat</th>\n",
       "      <th>address.metro.lng</th>\n",
       "      <th>address</th>\n",
       "      <th>employer.logo_urls</th>\n",
       "      <th>salary</th>\n",
       "      <th>department.id</th>\n",
       "      <th>department.name</th>\n",
       "      <th>insider_interview.id</th>\n",
       "      <th>insider_interview.url</th>\n",
       "    </tr>\n",
       "  </thead>\n",
       "  <tbody>\n",
       "    <tr>\n",
       "      <th>0</th>\n",
       "      <td>74376536</td>\n",
       "      <td>False</td>\n",
       "      <td>Data scientist</td>\n",
       "      <td>NaN</td>\n",
       "      <td>False</td>\n",
       "      <td>False</td>\n",
       "      <td>None</td>\n",
       "      <td>None</td>\n",
       "      <td>2023-02-23T13:01:29+0300</td>\n",
       "      <td>2023-02-23T13:01:29+0300</td>\n",
       "      <td>...</td>\n",
       "      <td>NaN</td>\n",
       "      <td>NaN</td>\n",
       "      <td>NaN</td>\n",
       "      <td>NaN</td>\n",
       "      <td>NaN</td>\n",
       "      <td>NaN</td>\n",
       "      <td>NaN</td>\n",
       "      <td>NaN</td>\n",
       "      <td>NaN</td>\n",
       "      <td>NaN</td>\n",
       "    </tr>\n",
       "    <tr>\n",
       "      <th>1</th>\n",
       "      <td>74257661</td>\n",
       "      <td>False</td>\n",
       "      <td>Data scientist</td>\n",
       "      <td>NaN</td>\n",
       "      <td>False</td>\n",
       "      <td>False</td>\n",
       "      <td>None</td>\n",
       "      <td>None</td>\n",
       "      <td>2023-02-23T15:02:29+0300</td>\n",
       "      <td>2023-02-23T15:02:29+0300</td>\n",
       "      <td>...</td>\n",
       "      <td>133</td>\n",
       "      <td>55.7232</td>\n",
       "      <td>37.5038</td>\n",
       "      <td>NaN</td>\n",
       "      <td>NaN</td>\n",
       "      <td>NaN</td>\n",
       "      <td>NaN</td>\n",
       "      <td>NaN</td>\n",
       "      <td>NaN</td>\n",
       "      <td>NaN</td>\n",
       "    </tr>\n",
       "    <tr>\n",
       "      <th>2</th>\n",
       "      <td>76925483</td>\n",
       "      <td>False</td>\n",
       "      <td>Data Scientist</td>\n",
       "      <td>NaN</td>\n",
       "      <td>False</td>\n",
       "      <td>False</td>\n",
       "      <td>None</td>\n",
       "      <td>None</td>\n",
       "      <td>2023-02-25T14:31:00+0300</td>\n",
       "      <td>2023-02-25T14:31:00+0300</td>\n",
       "      <td>...</td>\n",
       "      <td>NaN</td>\n",
       "      <td>NaN</td>\n",
       "      <td>NaN</td>\n",
       "      <td>NaN</td>\n",
       "      <td>NaN</td>\n",
       "      <td>NaN</td>\n",
       "      <td>NaN</td>\n",
       "      <td>NaN</td>\n",
       "      <td>NaN</td>\n",
       "      <td>NaN</td>\n",
       "    </tr>\n",
       "    <tr>\n",
       "      <th>3</th>\n",
       "      <td>77208642</td>\n",
       "      <td>False</td>\n",
       "      <td>Data Scientist middle+/Senior</td>\n",
       "      <td>NaN</td>\n",
       "      <td>False</td>\n",
       "      <td>False</td>\n",
       "      <td>None</td>\n",
       "      <td>None</td>\n",
       "      <td>2023-02-23T12:06:39+0300</td>\n",
       "      <td>2023-02-23T12:06:39+0300</td>\n",
       "      <td>...</td>\n",
       "      <td>NaN</td>\n",
       "      <td>NaN</td>\n",
       "      <td>NaN</td>\n",
       "      <td>NaN</td>\n",
       "      <td>NaN</td>\n",
       "      <td>NaN</td>\n",
       "      <td>NaN</td>\n",
       "      <td>NaN</td>\n",
       "      <td>NaN</td>\n",
       "      <td>NaN</td>\n",
       "    </tr>\n",
       "    <tr>\n",
       "      <th>4</th>\n",
       "      <td>77223284</td>\n",
       "      <td>False</td>\n",
       "      <td>Аналитик данных (Data Scientist) / ML-разработчик</td>\n",
       "      <td>NaN</td>\n",
       "      <td>False</td>\n",
       "      <td>False</td>\n",
       "      <td>None</td>\n",
       "      <td>None</td>\n",
       "      <td>2023-02-23T15:00:20+0300</td>\n",
       "      <td>2023-02-23T15:00:20+0300</td>\n",
       "      <td>...</td>\n",
       "      <td>NaN</td>\n",
       "      <td>NaN</td>\n",
       "      <td>NaN</td>\n",
       "      <td>NaN</td>\n",
       "      <td>NaN</td>\n",
       "      <td>NaN</td>\n",
       "      <td>NaN</td>\n",
       "      <td>NaN</td>\n",
       "      <td>NaN</td>\n",
       "      <td>NaN</td>\n",
       "    </tr>\n",
       "  </tbody>\n",
       "</table>\n",
       "<p>5 rows × 69 columns</p>\n",
       "</div>"
      ],
      "text/plain": [
       "         id  premium                                               name  \\\n",
       "0  74376536    False                                     Data scientist   \n",
       "1  74257661    False                                     Data scientist   \n",
       "2  76925483    False                                     Data Scientist   \n",
       "3  77208642    False                      Data Scientist middle+/Senior   \n",
       "4  77223284    False  Аналитик данных (Data Scientist) / ML-разработчик   \n",
       "\n",
       "   department  has_test  response_letter_required response_url  \\\n",
       "0         NaN     False                     False         None   \n",
       "1         NaN     False                     False         None   \n",
       "2         NaN     False                     False         None   \n",
       "3         NaN     False                     False         None   \n",
       "4         NaN     False                     False         None   \n",
       "\n",
       "  sort_point_distance              published_at                created_at  \\\n",
       "0                None  2023-02-23T13:01:29+0300  2023-02-23T13:01:29+0300   \n",
       "1                None  2023-02-23T15:02:29+0300  2023-02-23T15:02:29+0300   \n",
       "2                None  2023-02-25T14:31:00+0300  2023-02-25T14:31:00+0300   \n",
       "3                None  2023-02-23T12:06:39+0300  2023-02-23T12:06:39+0300   \n",
       "4                None  2023-02-23T15:00:20+0300  2023-02-23T15:00:20+0300   \n",
       "\n",
       "   ...  address.metro.line_id address.metro.lat  address.metro.lng address  \\\n",
       "0  ...                    NaN               NaN                NaN     NaN   \n",
       "1  ...                    133           55.7232            37.5038     NaN   \n",
       "2  ...                    NaN               NaN                NaN     NaN   \n",
       "3  ...                    NaN               NaN                NaN     NaN   \n",
       "4  ...                    NaN               NaN                NaN     NaN   \n",
       "\n",
       "  employer.logo_urls salary department.id department.name  \\\n",
       "0                NaN    NaN           NaN             NaN   \n",
       "1                NaN    NaN           NaN             NaN   \n",
       "2                NaN    NaN           NaN             NaN   \n",
       "3                NaN    NaN           NaN             NaN   \n",
       "4                NaN    NaN           NaN             NaN   \n",
       "\n",
       "  insider_interview.id insider_interview.url  \n",
       "0                  NaN                   NaN  \n",
       "1                  NaN                   NaN  \n",
       "2                  NaN                   NaN  \n",
       "3                  NaN                   NaN  \n",
       "4                  NaN                   NaN  \n",
       "\n",
       "[5 rows x 69 columns]"
      ]
     },
     "execution_count": 7,
     "metadata": {},
     "output_type": "execute_result"
    }
   ],
   "source": [
    "df = pd.json_normalize(data['items'])\n",
    "df.head()"
   ]
  },
  {
   "cell_type": "markdown",
   "metadata": {},
   "source": [
    "Для получения полного описания вакансии потребуется задать отдельный запрос, используя ее `id`."
   ]
  },
  {
   "cell_type": "code",
   "execution_count": 8,
   "metadata": {},
   "outputs": [],
   "source": [
    "vacancy = df['id'].iloc[0]\n",
    "vacancy_url = f'https://api.hh.ru/vacancies/{vacancy}'\n",
    "\n",
    "req = requests.get(vacancy_url)\n",
    "vacancy_info = json.loads(req.content.decode())"
   ]
  },
  {
   "cell_type": "code",
   "execution_count": 9,
   "metadata": {
    "scrolled": false
   },
   "outputs": [
    {
     "data": {
      "text/plain": [
       "{'id': '74376536',\n",
       " 'premium': False,\n",
       " 'billing_type': {'id': 'standard_plus', 'name': 'Стандарт плюс'},\n",
       " 'relations': [],\n",
       " 'name': 'Data scientist',\n",
       " 'insider_interview': None,\n",
       " 'response_letter_required': False,\n",
       " 'area': {'id': '1', 'name': 'Москва', 'url': 'https://api.hh.ru/areas/1'},\n",
       " 'salary': {'from': 200000, 'to': 240000, 'currency': 'RUR', 'gross': False},\n",
       " 'type': {'id': 'open', 'name': 'Открытая'},\n",
       " 'address': {'city': 'Москва',\n",
       "  'street': 'Походный проезд',\n",
       "  'building': '14',\n",
       "  'lat': 55.838091,\n",
       "  'lng': 37.417167,\n",
       "  'description': None,\n",
       "  'raw': 'Москва, Походный проезд, 14',\n",
       "  'metro': None,\n",
       "  'metro_stations': []},\n",
       " 'allow_messages': True,\n",
       " 'experience': {'id': 'between3And6', 'name': 'От 3 до 6 лет'},\n",
       " 'schedule': {'id': 'remote', 'name': 'Удаленная работа'},\n",
       " 'employment': {'id': 'full', 'name': 'Полная занятость'},\n",
       " 'department': None,\n",
       " 'contacts': None,\n",
       " 'description': '<strong>Обязанности:</strong> <ul> <li>Работа в команде по созданию модуля Data Science &amp; AI, отвечающего за обработку данных, консолидированных в хранилище, и интеллектуальное обеспечение различных бизнес-процессов розничной компании.</li> <li>Анализ и обработка больших массивов структурированных и неструктурированных данных;</li> <li>Создание и развитие batch/real-time моделей персональных товарных предложений и рекомендаций для покупателей; развитие моделей сегментации и прогнозирования оттока; поиск структур в данных, прогнозирование спроса, оптимизация цен, распознавание изображений товаров, анализ тональности откликов, выявление мошенничества и пр.;</li> <li>Полный цикл (data collection, feature engineering, model fitting, model management, visualization, model serving) создания набора моделей на основе транзакционной и поведенческой информации;</li> <li>Участие в разработке и стандартизации ML-пайплайнов;</li> <li>Еxperiment и code-review.</li> </ul> <strong>Требования:</strong> <ul> <li>Опыт работы на позиции data scientist от 2ух лет;</li> <li>Знание основных алгоритмов и метрик машинного обучения;</li> <li>Ключевые навыки: Python, SQL, ML;</li> <li>Практические навыки работы с рекомендательными системами: знание архитектур и алгоритмов в основе collaborative filtering / content based / hybrid recommender systems;</li> <li>Аналитические способности и логическое мышление;</li> <li>Знание математической статистики и теории вероятности;</li> <li>Умение объяснять и адаптировать сложные системы и технические термины к ясной лаконичной форме для нетехнических специалистов;</li> <li>Умение работать в команде на результат;</li> <li>Внимательность;</li> <li>Ответственность;</li> <li>Целеустремлённость;</li> <li>Знание английского языка на уровне чтения технических материалов.</li> </ul> <p><strong>Приветствуется:</strong></p> <ul> <li>Опыт работы в компаниях в сфере розничной торговли;</li> <li>Образование - МФТИ, МГТУ им. Баумана, МГУ, СПбГУ, Сколтех, НГУ;</li> <li>Достижения по итогам участия в олимпиадах по техническим дисциплинам (математика, программирование, физика);</li> <li>Практические навыки работы с Deep Learning фреймворками PyTorch, TensorFlow и пр.;</li> <li>Участие в соревнованиях по решению задач с помощью машинного обучения (Kaggle, RecSys пр.);</li> <li>Участие в разработке opensourсe библиотек, пройденные за последний год оффлайн и онлайн курсы (coursera, udemy и пр.);</li> <li>Желателен опыт работы со Spark, Scala, Airflow.</li> </ul> <strong>Условия:</strong> <ul> <li>работа в аккредитованной IT-компании</li> <li>Оформление по ТК РФ</li> <li>График работы - гибкий, с учетом часовых поясов</li> <li>Перспективы профессионального роста (рост в зарплате и по карьерной лестнице)</li> <li>Возможна удаленная работа из-за границы, в том числе из Турции, Грузии, Армении, Казахстан, Узбекистан и др.</li> </ul>',\n",
       " 'branded_description': None,\n",
       " 'vacancy_constructor_template': None,\n",
       " 'key_skills': [{'name': 'Python'},\n",
       "  {'name': 'PyTorch'},\n",
       "  {'name': 'Machine Learning'},\n",
       "  {'name': 'Spark'},\n",
       "  {'name': 'SQL'}],\n",
       " 'accept_handicapped': False,\n",
       " 'accept_kids': False,\n",
       " 'archived': False,\n",
       " 'response_url': None,\n",
       " 'specializations': [{'id': '17.751',\n",
       "   'name': 'Другое',\n",
       "   'profarea_id': '17',\n",
       "   'profarea_name': 'Продажи'},\n",
       "  {'id': '1.25',\n",
       "   'name': 'Аналитик',\n",
       "   'profarea_id': '1',\n",
       "   'profarea_name': 'Информационные технологии, интернет, телеком'},\n",
       "  {'id': '3.26',\n",
       "   'name': 'Аналитик',\n",
       "   'profarea_id': '3',\n",
       "   'profarea_name': 'Маркетинг, реклама, PR'},\n",
       "  {'id': '12.746',\n",
       "   'name': 'Другое',\n",
       "   'profarea_id': '12',\n",
       "   'profarea_name': 'Консультирование'}],\n",
       " 'professional_roles': [{'id': '10', 'name': 'Аналитик'}],\n",
       " 'code': None,\n",
       " 'hidden': False,\n",
       " 'quick_responses_allowed': False,\n",
       " 'driver_license_types': [],\n",
       " 'accept_incomplete_resumes': False,\n",
       " 'employer': {'id': '606',\n",
       "  'name': 'Астор',\n",
       "  'url': 'https://api.hh.ru/employers/606',\n",
       "  'alternate_url': 'https://hh.ru/employer/606',\n",
       "  'logo_urls': {'original': 'https://hhcdn.ru/employer-logo-original/895922.png',\n",
       "   '90': 'https://hhcdn.ru/employer-logo/4024375.png',\n",
       "   '240': 'https://hhcdn.ru/employer-logo/4024376.png'},\n",
       "  'vacancies_url': 'https://api.hh.ru/vacancies?employer_id=606',\n",
       "  'trusted': True},\n",
       " 'published_at': '2023-02-23T13:01:29+0300',\n",
       " 'created_at': '2023-02-23T13:01:29+0300',\n",
       " 'initial_created_at': '2022-12-29T12:15:51+0300',\n",
       " 'negotiations_url': None,\n",
       " 'suitable_resumes_url': None,\n",
       " 'apply_alternate_url': 'https://hh.ru/applicant/vacancy_response?vacancyId=74376536',\n",
       " 'has_test': False,\n",
       " 'test': None,\n",
       " 'alternate_url': 'https://hh.ru/vacancy/74376536',\n",
       " 'working_days': [],\n",
       " 'working_time_intervals': [],\n",
       " 'working_time_modes': [],\n",
       " 'accept_temporary': False,\n",
       " 'languages': []}"
      ]
     },
     "execution_count": 9,
     "metadata": {},
     "output_type": "execute_result"
    }
   ],
   "source": [
    "vacancy_info"
   ]
  },
  {
   "cell_type": "markdown",
   "metadata": {},
   "source": [
    "### <font color=\"blue\"><i>Легкая часть</i></font>"
   ]
  },
  {
   "cell_type": "markdown",
   "metadata": {},
   "source": [
    " ---\n",
    "### Задача 1.   \n",
    "\n",
    "Исследуем профессию Data Scientist. Найдите как можно больше вакансий по этой профессии в Москве. Учтите, что имеет смысл искать также по другим ключевым словам, например, `аналитик данных`."
   ]
  },
  {
   "cell_type": "code",
   "execution_count": null,
   "metadata": {},
   "outputs": [],
   "source": []
  },
  {
   "cell_type": "markdown",
   "metadata": {},
   "source": [
    "В полученную выборку некоторые вакансии могли попасть несколько раз. Удалите дубликаты."
   ]
  },
  {
   "cell_type": "code",
   "execution_count": null,
   "metadata": {},
   "outputs": [],
   "source": []
  },
  {
   "cell_type": "markdown",
   "metadata": {},
   "source": [
    "Загрузите подробное описание каждой вакансии и создайте удобную для дальнейших действий таблицу данных."
   ]
  },
  {
   "cell_type": "code",
   "execution_count": null,
   "metadata": {},
   "outputs": [],
   "source": []
  },
  {
   "cell_type": "markdown",
   "metadata": {},
   "source": [
    "**Полученную таблицу необходимо сохранить в формате xlsx и отправить боту вместе с решением.**"
   ]
  },
  {
   "cell_type": "markdown",
   "metadata": {},
   "source": [
    "**Вопрос 1.** Сколько сейчас доступно вакансий по вашему запросу?"
   ]
  },
  {
   "cell_type": "code",
   "execution_count": null,
   "metadata": {},
   "outputs": [],
   "source": []
  },
  {
   "cell_type": "markdown",
   "metadata": {},
   "source": [
    "**Вопрос 2.** Какие навыки чаще всего встречаются в вакансиях по данной специальности?\n",
    "\n",
    "Для этого найдите соответствующее поле в данных из полного описания вакансий, проанализируйте его и составьте список навыков и количество упоминаний каждого. Визуализируйте полученную информацию по топ-15 навыков."
   ]
  },
  {
   "cell_type": "code",
   "execution_count": null,
   "metadata": {},
   "outputs": [],
   "source": []
  },
  {
   "cell_type": "markdown",
   "metadata": {},
   "source": [
    "**Вопрос 3.** Какую зарплату готовы платить работодатели? Соберите некоторым образом статистику и постройте гистограмму.\n",
    "\n",
    "При работе с данными о заработной плате обратите внимание на валюту и <a target=\"_blank\" href=\"https://yandex.ru/search/?text=gross%2Fnet&clid=1955455&win=446&lr=213&noreask=1\">gross/net</a>. Постоянно подгружать курс валюты не требуется, достаточно фиксировать какой-то один более менее актуальный."
   ]
  },
  {
   "cell_type": "code",
   "execution_count": null,
   "metadata": {},
   "outputs": [],
   "source": []
  },
  {
   "cell_type": "markdown",
   "metadata": {},
   "source": [
    "Проведите аналогичный анализ для наиболее привлекательной для вас профессии в любом регионе. Если это Data Scientist, то для анализа выберите другую. В данном пункте спокойно можно сделать копипасту кода."
   ]
  },
  {
   "cell_type": "code",
   "execution_count": null,
   "metadata": {},
   "outputs": [],
   "source": []
  },
  {
   "cell_type": "markdown",
   "metadata": {},
   "source": [
    "Не забывайте про выводы."
   ]
  },
  {
   "cell_type": "markdown",
   "metadata": {},
   "source": [
    "\n",
    "---\n",
    "### <font color=\"orange\"><i>Сложная часть</i></font>\n",
    "\n",
    "### Задача 2.   \n",
    "\n",
    "Для *одной* из рассмотренных ранее профессий ответьте на следующие вопросы:  \n",
    "- Какой опыт требуется для данной вакансии?\n",
    "- Какие работодатели в топе? \n",
    "- В каком районе Москвы данная вакансия пользуется наибольшим и наименьшим спросом?\n",
    "\n",
    "Не забудьте про визуализацию, в частности, постройте распределений вакансий на карте.\n",
    "\n",
    "*Напоминание.* Работа в некоторой степени творческая, поэтому конкретные детали решения в основном остаются на усмотрение автора решения.\n"
   ]
  },
  {
   "cell_type": "code",
   "execution_count": null,
   "metadata": {},
   "outputs": [],
   "source": [
    "..."
   ]
  },
  {
   "cell_type": "markdown",
   "metadata": {},
   "source": [
    "Какие выводы можно сделать из построенных графиков?\n",
    "\n",
    "<...>"
   ]
  }
 ],
 "metadata": {
  "colab": {
   "collapsed_sections": [],
   "name": "stats.ipynb",
   "provenance": [],
   "version": "0.3.2"
  },
  "kernelspec": {
   "display_name": "Python 3",
   "language": "python",
   "name": "python3"
  },
  "language_info": {
   "codemirror_mode": {
    "name": "ipython",
    "version": 3
   },
   "file_extension": ".py",
   "mimetype": "text/x-python",
   "name": "python",
   "nbconvert_exporter": "python",
   "pygments_lexer": "ipython3",
   "version": "3.8.10"
  }
 },
 "nbformat": 4,
 "nbformat_minor": 1
}
