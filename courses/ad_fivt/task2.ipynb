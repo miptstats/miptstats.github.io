{
 "cells": [
  {
   "cell_type": "markdown",
   "metadata": {},
   "source": [
    "# <a href=\"https://miptstats.gitlhub.io/courses/ad_fivt.html\">Введение в анализ данных</a>\n",
    "## Домашнее задание 2. Библиотеки `pandas` и `matplotlib`"
   ]
  },
  {
   "cell_type": "markdown",
   "metadata": {},
   "source": [
    "**Что куда присылать?**\n",
    "* Код по задачам 1-3 в Яндекс.Контест. Ссылка будет отправлена каждому через бот.\n",
    "* Отчет (задача 4) в формате `pdf` на русском языке телеграм-боту `@miptstats_ds23_bot`. \n",
    "* Для начала работы с ботом каждый раз отправляйте `/start`. Дождитесь подтверждения от бота, что он принял файл. Если подтверждения нет, то что-то не так.\n",
    "* Ноутбук никуда отправлять не нужно.\n",
    "* Работы, присланные иным способом, не принимаются.\n",
    "\n",
    "**Правила, <font color=\"red\">прочитайте внимательно</font>:**\n",
    "* Дедлайн см. в боте. После дедлайна работы не принимаются кроме случаев наличия уважительной причины.\n",
    "* Телеграм не разрешает боту получать файлы более **20 Мб**. Если ваше решение весит больше, *заранее* разделите на несколько.\n",
    "* Выполнять задание необходимо полностью самостоятельно. **При обнаружении списывания все участники списывания будут сдавать устный зачет.**\n",
    "* Решения, размещенные на каких-либо интернет-ресурсах, не принимаются. Кроме того, публикация решения в открытом доступе может быть приравнена к предоставлении возможности списать.\n",
    "\n",
    "**Перед выполнением задания посмотрите презентацию по выполнению и оформлению домашних заданий с занятия 2. При подготовке графиков к отчету используйте также библиотеку `seaborn`.**\n",
    "\n",
    "---\n",
    "\n",
    "**Баллы за задание:**\n",
    "\n",
    "<b><font color=\"blue\">Легкая часть</font></b> (достаточно на \"хор\"):\n",
    "* Задача 1 &mdash; 20 баллов\n",
    "* Задача 2 &mdash; 20 баллов\n",
    "\n",
    "<b><font color=\"orange\">Сложная часть</font></b> (необходимо на \"отл\"):\n",
    "\n",
    "* Задача 3 &mdash; 20 баллов \n",
    "* Задача 4 &mdash; 40 баллов \n",
    "\n",
    "---"
   ]
  },
  {
   "cell_type": "markdown",
   "metadata": {},
   "source": [
    "### <font color=\"blue\"><i>Легкая часть</i></font>\n",
    "\n",
    "\n",
    "### Задача 1.\n",
    "\n",
    "Прочитайте условие задачи в системе Яндекс.Контест. Для отправки решения вам нужно заполнить пропуски в следующем классе."
   ]
  },
  {
   "cell_type": "code",
   "execution_count": null,
   "metadata": {},
   "outputs": [],
   "source": [
    "import pandas as pd\n",
    "import matplotlib.pyplot as plt\n",
    "import typing as tp\n",
    "from matplotlib.axes import Axes\n",
    "\n",
    "\n",
    "class CatExam:\n",
    "    def __init__(self, path_to_df: str=\"cat_exam_data.csv\"):  # task0\n",
    "        self.df =  # read df\n",
    "\n",
    "    def task1(self) -> pd.DataFrame:\n",
    "        return ...\n",
    "    \n",
    "    def task2(self) -> tp.List[str]:\n",
    "        return ...\n",
    "\n",
    "    def task3(self) -> pd.DataFrame:\n",
    "        return ...\n",
    "    \n",
    "    def task4(self) -> pd.DataFrame:\n",
    "        return ...\n",
    "    \n",
    "    def task5(self) -> int:\n",
    "        return ...\n",
    "    \n",
    "    def task6(self) -> pd.DataFrame:\n",
    "        return ...\n",
    "\n",
    "    def task7(self) -> pd.DataFrame:\n",
    "        return ...\n",
    "\n",
    "    def task8(self) -> pd.DataFrame:\n",
    "        return ...\n",
    "\n",
    "    def task9(self) -> Axes:\n",
    "        ...\n",
    "        return plt.gca()"
   ]
  },
  {
   "cell_type": "markdown",
   "metadata": {},
   "source": [
    "Решение вы можете выполнить в данном ноутбуке, поочередно выполняя каждый пункт."
   ]
  },
  {
   "cell_type": "code",
   "execution_count": null,
   "metadata": {},
   "outputs": [],
   "source": []
  },
  {
   "cell_type": "markdown",
   "metadata": {},
   "source": [
    "Отчет по задаче присылать не нужно."
   ]
  },
  {
   "cell_type": "markdown",
   "metadata": {},
   "source": [
    "---\n",
    "\n",
    "### Задача 2.\n",
    "\n",
    "Прочитайте условие задачи в системе Яндекс.Контест. Для отправки решения вам нужно заполнить пропуски в следующем классе."
   ]
  },
  {
   "cell_type": "code",
   "execution_count": null,
   "metadata": {},
   "outputs": [],
   "source": [
    "from datetime import datetime\n",
    "import numpy as np\n",
    "import pandas as pd\n",
    "import matplotlib.pyplot as plt\n",
    "import seaborn as sns\n",
    "from matplotlib.figure import Figure\n",
    "import typing as tp\n",
    "\n",
    "\n",
    "class YouTube:\n",
    "    def __init__(self, path_to_df: str = \"RUvideos_short.csv\"):\n",
    "        self.df = ...\n",
    "\n",
    "    def task1(self) -> pd.DataFrame:\n",
    "        return ...\n",
    "\n",
    "    def task2(self) -> pd.DataFrame:\n",
    "        return ...\n",
    "\n",
    "    def task3(self) -> Figure:\n",
    "        ...\n",
    "        return plt.gcf()\n",
    "\n",
    "    def task4(self) -> Figure:\n",
    "        ...\n",
    "        return plt.gcf()\n",
    "\n",
    "    def task5(self) -> Figure:\n",
    "        ...\n",
    "        return plt.gcf()\n",
    "\n",
    "    def task6(self) -> Figure:\n",
    "        ...\n",
    "        return plt.gcf()"
   ]
  },
  {
   "cell_type": "markdown",
   "metadata": {},
   "source": [
    "Решение вы можете выполнить в данном ноутбуке, поочередно выполняя каждый пункт."
   ]
  },
  {
   "cell_type": "code",
   "execution_count": null,
   "metadata": {},
   "outputs": [],
   "source": []
  },
  {
   "cell_type": "markdown",
   "metadata": {},
   "source": [
    "По задаче нужно прислать отчет, см. задачу 4."
   ]
  },
  {
   "cell_type": "markdown",
   "metadata": {},
   "source": [
    "---\n",
    "\n",
    "\n",
    "\n",
    "### <font color=\"orange\"><i>Сложная часть</i></font>\n",
    "\n",
    "\n",
    "### Задача 3.\n",
    "\n",
    "Прочитайте условие задачи в системе Яндекс.Контест. Для отправки решения вам нужно заполнить пропуски в следующем классе."
   ]
  },
  {
   "cell_type": "code",
   "execution_count": null,
   "metadata": {},
   "outputs": [],
   "source": [
    "import json\n",
    "import typing as tp\n",
    "\n",
    "import numpy as np\n",
    "import pandas as pd\n",
    "import matplotlib.pyplot as plt\n",
    "\n",
    "from datetime import datetime\n",
    "from matplotlib.figure import Figure\n",
    "\n",
    "\n",
    "class YouTube2:\n",
    "    def __init__(  # task0\n",
    "        self,\n",
    "        trends_df_path: str=\"RUvideos_short.csv\",\n",
    "        categories_df_path: str=\"RU_category_id.json\"\n",
    "    ):\n",
    "        self.trends_df =  # read trends df\n",
    "\n",
    "        with open(categories_df_path) as json_file:\n",
    "            json_data = json.load(json_file)\n",
    "            \n",
    "        self.categories_df = pd.DataFrame(columns=['id', 'name'])\n",
    "\n",
    "        for item in json_data['items']:\n",
    "            self.categories_df = self.categories_df.append(\n",
    "                {'id': int(item['id']),\n",
    "                'name': item['snippet']['title']},\n",
    "                ignore_index=True\n",
    "            )\n",
    "            \n",
    "        self.categories_df['id'] = self.categories_df['id'].astype(int)\n",
    "\n",
    "\n",
    "    def task1(self) -> pd.DataFrame:\n",
    "        return ...\n",
    "    \n",
    "\n",
    "    def task2(self) -> pd.DataFrame:\n",
    "        return ...\n",
    "\n",
    "\n",
    "    def task3(self) -> Figure:\n",
    "        ...\n",
    "        return plt.gcf()\n",
    "\n",
    "\n",
    "    def task4(self) -> pd.DataFrame:\n",
    "        return ...\n",
    "\n",
    "\n",
    "    def task5(self) -> Figure:\n",
    "        ...\n",
    "        return plt.gcf()"
   ]
  },
  {
   "cell_type": "markdown",
   "metadata": {},
   "source": [
    "Решение вы можете выполнить в данном ноутбуке, поочередно выполняя каждый пункт."
   ]
  },
  {
   "cell_type": "code",
   "execution_count": null,
   "metadata": {},
   "outputs": [],
   "source": []
  },
  {
   "cell_type": "markdown",
   "metadata": {},
   "source": [
    "По задаче нужно прислать отчет, см. задачу 4."
   ]
  },
  {
   "cell_type": "markdown",
   "metadata": {},
   "source": [
    "---\n",
    "\n",
    "### Задача 4.\n"
   ]
  },
  {
   "cell_type": "markdown",
   "metadata": {},
   "source": [
    "По задачам 2-3 сохраните все необходимые графики, проследив за их информативностью и эстетичностью. Оформите проведенное исследование в pdf-файл, в котором будут:\n",
    "* краткая постановка каждой задачи (1-2 предложения);\n",
    "* все необходимые графики с кратким описанием;\n",
    "* выводы.\n",
    "\n",
    "Выводы должны быть достаточно краткими, но емкими. Не нужно специально \"доливать воды\", но и выводы-отписки не лучше. Никакой код размещать в pdf не нужно."
   ]
  }
 ],
 "metadata": {
  "colab": {
   "collapsed_sections": [],
   "name": "stats.ipynb",
   "provenance": [],
   "version": "0.3.2"
  },
  "kernelspec": {
   "display_name": "Python 3",
   "language": "python",
   "name": "python3"
  },
  "language_info": {
   "codemirror_mode": {
    "name": "ipython",
    "version": 3
   },
   "file_extension": ".py",
   "mimetype": "text/x-python",
   "name": "python",
   "nbconvert_exporter": "python",
   "pygments_lexer": "ipython3",
   "version": "3.8.10"
  }
 },
 "nbformat": 4,
 "nbformat_minor": 1
}
