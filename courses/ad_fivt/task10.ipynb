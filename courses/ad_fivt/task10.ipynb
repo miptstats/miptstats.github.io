{
 "cells": [
  {
   "cell_type": "markdown",
   "metadata": {},
   "source": [
    "# <a href=\"https://miptstats.github.io/courses/ad_fivt.html\">Введение в анализ данных</a>\n",
    "## Домашнее задание 10. Анализ вакансий.\n"
   ]
  },
  {
   "cell_type": "markdown",
   "metadata": {},
   "source": [
    "**Правила, <font color=\"red\">прочитайте внимательно</font>:**\n",
    "\n",
    "* Выполненную работу нужно отправить телеграм-боту `@miptstats_ds24_bot`. Для начала работы с ботом каждый раз отправляйте `/start`. Дождитесь подтверждения от бота, что он принял файл. Если подтверждения нет, то что-то не так. **Работы, присланные иным способом, не принимаются.**\n",
    "* Дедлайн см. в боте. После дедлайна работы не принимаются кроме случаев наличия уважительной причины.\n",
    "* Прислать нужно **ноутбук в формате `ipynb` и полученные данные** (подробности далее). Если вы строите интерактивные графики, их стоит прислать в формате html.\n",
    "* Следите за размером файлов. **Бот не может принимать файлы весом более 20 Мб.** Если файл получается больше, заранее разделите его на несколько.\n",
    "* Будьте внимательны при работе со сбором данных. Ответственность за корректность ваших действий лежит на вас. Не нагружайте сервера, *делайте паузы между запросами*. Как следствие, начинайте выполнять задание заранее. **Если вас где-то забаннили и т.п., то это не является уважительной причиной продления дедлайна.**\n",
    "* Выполнять задание необходимо полностью самостоятельно. **При обнаружении списывания все участники списывания будут сдавать устный зачет.**\n",
    "* Решения, размещенные на каких-либо интернет-ресурсах, не принимаются. Кроме того, публикация решения в открытом доступе может быть приравнена к предоставлении возможности списать.\n",
    "* Для выполнения задания используйте этот ноутбук в качестве основы, ничего не удаляя из него. Можно добавлять необходимое количество ячеек.\n",
    "* Комментарии к решению пишите в markdown-ячейках.\n",
    "* Выполнение задания (ход решения, выводы и пр.) должно быть осуществлено на русском языке.\n",
    "* Если код будет не понятен проверяющему, оценка может быть снижена.\n",
    "* Никакой код из данного задания при проверке запускаться не будет. *Если код студента не выполнен, недописан и т.д., то он не оценивается.*\n",
    "\n",
    "\n",
    "---\n",
    "\n",
    "**Баллы за задание:**\n",
    "\n",
    "<b><a href=\"#Сложная-часть\" style=\"text-decoration: none;\"><font color=\"orange\">Сложная часть</font></a></b> (учитывается только в основной части курса, необходимо на \"отл\"):\n",
    "* Задача 1 &mdash; 70 баллов\n",
    "\n",
    "<b><a href=\"#Факультативная-часть\" style=\"text-decoration: none;\"><font color=\"green\">Факультативная часть</font></a></b> (учитывается только в факультативной части курса):\n",
    "* Задача 2 &mdash; 30 баллов\n",
    "* Задача 3 &mdash; 70 баллов\n",
    "\n",
    "**Внимание!** Указанные баллы являются бонусными. Они не учитываются в максимальных суммах баллов в знаменателе при вычислении процента выполненных заданий. Но все полученные вами баллы будут учтены в числителе. Тем самым, выполняя или не выполняя домашку, вы не сможете понизить оценку, но сможете ее повысить."
   ]
  },
  {
   "cell_type": "code",
   "execution_count": 1,
   "metadata": {
    "ExecuteTime": {
     "end_time": "2024-05-02T18:37:22.803984Z",
     "start_time": "2024-05-02T18:37:22.800522Z"
    }
   },
   "outputs": [],
   "source": [
    "# Bot check\n",
    "\n",
    "# HW_ID: fpmi_ad10\n",
    "# Бот проверит этот ID и предупредит, если случайно сдать что-то не то.\n",
    "\n",
    "# Status: not final\n",
    "# Перед отправкой в финальном решении удали \"not\" в строчке выше.\n",
    "# Так бот проверит, что ты отправляешь финальную версию, а не промежуточную.\n",
    "# Никакие значения в этой ячейке не влияют на факт сдачи работы."
   ]
  },
  {
   "cell_type": "code",
   "execution_count": 2,
   "metadata": {
    "ExecuteTime": {
     "end_time": "2024-05-02T18:37:23.761610Z",
     "start_time": "2024-05-02T18:37:22.805684Z"
    },
    "colab": {},
    "colab_type": "code",
    "id": "ht9Xm0EucoAr"
   },
   "outputs": [],
   "source": [
    "import requests\n",
    "from time import sleep\n",
    "import json\n",
    "\n",
    "import numpy as np\n",
    "import pandas as pd\n",
    "import matplotlib.pyplot as plt\n",
    "import seaborn as sns\n",
    "\n",
    "sns.set(style=\"whitegrid\", font_scale=1.3, palette=\"Set2\")"
   ]
  },
  {
   "cell_type": "markdown",
   "metadata": {},
   "source": [
    "\n",
    "Второй курс &mdash; самое время задуматься о будущей профессии и проанализировать существующие предложения. Дело тут даже не в том, чтобы найти интересную стажировку. В первую очередь сейчас стоит подумать о том, в какую сторону развиваться дальше. Например, если вы хотите работать в какой-либо конкретной профессии, то наверняка стоит развивать какие-то определенные навыки, и даже выбрать подходящую кафедру. Анализ существующих вакансий поможет определить, какие навыки вам нужны. \n",
    "\n",
    "**Внимание!**\n",
    "В первую очередь задание призвано помочь вам понять, какие навыки стоит развивать, и может быть даже выбрать подходящую кафедру. Однако, не стоит идти на работу/стажировку раньше времени. Даже только летнюю, абсолютное большинство людей не могут работать круглый год без перерыва. У всех из вас 3 курс достаточно нагруженный, а на DS-потоке нагрузка с первой недели сентября. И если вы идете на стажировку, то каникул у вас может просто не остаться. Даже если вам сейчас/летом/в сентябре кажется \"я же справлюсь\", к ноябрю-декабрю с большой вероятностью вы выдохнетесь. Таких примеров *очень много*. Не все, кто-то успешно справляется совмещать работу и учебу, но таких *очень мало*. Берегите себя и свое здоровье :)\n",
    "\n",
    "---\n",
    "\n",
    "Задание предполагает вариативность исследуемых данных. Вы можете выбрать один из следующих вариантов.\n",
    "1. Стандартный вариант &mdash; проанализировать вакансии на сайте <a target=\"_blank\" href=\"https://hh.ru/\">hh.ru</a> с использованием <a target=\"_blank\" href=\"https://dev.hh.ru/\">официального API</a>. Далее приведен пример работы с этим API. *Если вы не достаточно уверены в своих силах, рекомендуется выбрать этот вариант.*\n",
    "2. Разобраться с API других сервисов по поиску вакансий, например, <a target=\"_blank\" href=\"https://career.habr.com/\">Хабр.Карьера</a> или <a target=\"_blank\" href=\"https://www.superjob.ru/\">SuperJob</a>.\n",
    "3. Извлечение данных с помощью <a target=\"_blank\" href=\"https://miptstats.github.io/courses/ad_fivt/data_parsing.html#2.-Парсинг-HTML-напрямую\">парсинга HTML напрямую</a> некоторых сайтов. Например, вы можете попробовать напрямую распарсить пул вакансий из тех источников, которые не предоставляют API. **Внимание! Обращайте внимание на пользовательские соглашения и на <a target=\"_blank\" href=\"https://miptstats.github.io/courses/ad_fivt/data_parsing.html#Сбор-данных-из-открытых-источников\">эти рекомендации</a>.**\n",
    "4. Комбинирование нескольких подходов. В этом случае нужно понимать, как находить одинаковые вакансии из разных источников для избежания их двойного учета.\n",
    "5. Можно также *дополнительно* брать архивные данные из недавнего прошлого, например, из <a target=\"_blank\" href=\"https://boosters.pro/championship/HeadHunter/overview/description\">этого соревнования</a>.\n",
    "\n",
    "Перед выполнением задания ознакомьтесь с <a target=\"_blank\" href=\"https://miptstats.github.io/courses/ad_fivt/data_parsing.html\">материалом</a> о сборе данных из открытых источников.\n",
    "\n",
    "Для получения максимального балла за задание достаточно выполнить все задание по стандартному варианту. Альтернативные варианты, даже более сложные, не дают больше баллов, чем максимальное количество баллов по стандартному варианту.\n",
    "\n",
    "Работа в некоторой степени творческая, поэтому конкретные детали решения в основном остаются на усмотрение автора решения. Например, если в вакансии зарплата укзана \"*от ...*\" или  \"*до ...*\", то вы сами решаете, как это обрабатывать, но не забывайте про четкую аргументацию. Не забывайте также заглядывать в презентацию по выполнению и оформлению домашних заданий с занятия 2."
   ]
  },
  {
   "cell_type": "markdown",
   "metadata": {},
   "source": [
    " ---\n",
    "### Справка по работе с API сервиса hh.ru.   \n",
    "\n",
    "<b><font color=\"red\">Внимание!</font> При работе с API не забывайте делать паузы между запросами, чтобы не задудосить сервер. Если вас заблокируют, это не будет являться уважительной причиной переноса дедлайна.</b>\n",
    "\n",
    "Мы будем работать только с вакансиями. Для этого не требуется регистрироваться и получать токен. Ниже приведен краткий пример работы с API. Подробное описание работы с вакансиями, включая параметры запросов и формат ответа можно почитать в <a target=\"_blank\" href=\"https://github.com/hhru/api/blob/master/docs/vacancies.md#search\">документации</a>.\n",
    "\n",
    "Например, мы хотим найти вакансии по запросу `Data Scientist` в Москве. Тогда первую страницу поиска из 10 вакансий на страницу мы можем получить с запроса к API:"
   ]
  },
  {
   "cell_type": "code",
   "execution_count": 3,
   "metadata": {
    "ExecuteTime": {
     "end_time": "2024-05-02T18:37:25.378457Z",
     "start_time": "2024-05-02T18:37:23.769505Z"
    }
   },
   "outputs": [],
   "source": [
    "URL = \"https://api.hh.ru/vacancies\"\n",
    "\n",
    "params = {\n",
    "    \"text\": \"Data Scientist\",\n",
    "    \"area\": 1,\n",
    "    \"page\": 0,\n",
    "    \"per_page\": 10,\n",
    "}\n",
    "\n",
    "req = requests.get(URL, params)\n",
    "data = json.loads(req.content.decode())"
   ]
  },
  {
   "cell_type": "markdown",
   "metadata": {},
   "source": [
    "Если все прошло успешно, полученный словарь будет иметь следующие ключи"
   ]
  },
  {
   "cell_type": "code",
   "execution_count": 4,
   "metadata": {
    "ExecuteTime": {
     "end_time": "2024-05-02T18:37:25.386082Z",
     "start_time": "2024-05-02T18:37:25.379910Z"
    }
   },
   "outputs": [
    {
     "data": {
      "text/plain": [
       "dict_keys(['items', 'found', 'pages', 'page', 'per_page', 'clusters', 'arguments', 'fixes', 'suggests', 'alternate_url'])"
      ]
     },
     "execution_count": 4,
     "metadata": {},
     "output_type": "execute_result"
    }
   ],
   "source": [
    "data.keys()"
   ]
  },
  {
   "cell_type": "markdown",
   "metadata": {},
   "source": [
    "Можем посмотреть на краткое описание первой вакансии"
   ]
  },
  {
   "cell_type": "code",
   "execution_count": 5,
   "metadata": {
    "ExecuteTime": {
     "end_time": "2024-05-02T18:37:25.402771Z",
     "start_time": "2024-05-02T18:37:25.387537Z"
    },
    "scrolled": false
   },
   "outputs": [
    {
     "data": {
      "text/plain": [
       "{'id': '98269481',\n",
       " 'premium': False,\n",
       " 'name': 'Data Scientist / ML-инженер',\n",
       " 'department': None,\n",
       " 'has_test': False,\n",
       " 'response_letter_required': False,\n",
       " 'area': {'id': '1', 'name': 'Москва', 'url': 'https://api.hh.ru/areas/1'},\n",
       " 'salary': None,\n",
       " 'type': {'id': 'open', 'name': 'Открытая'},\n",
       " 'address': None,\n",
       " 'response_url': None,\n",
       " 'sort_point_distance': None,\n",
       " 'published_at': '2024-05-02T17:45:01+0300',\n",
       " 'created_at': '2024-05-02T17:45:01+0300',\n",
       " 'archived': False,\n",
       " 'apply_alternate_url': 'https://hh.ru/applicant/vacancy_response?vacancyId=98269481',\n",
       " 'show_logo_in_search': None,\n",
       " 'insider_interview': None,\n",
       " 'url': 'https://api.hh.ru/vacancies/98269481?host=hh.ru',\n",
       " 'alternate_url': 'https://hh.ru/vacancy/98269481',\n",
       " 'relations': [],\n",
       " 'employer': {'id': '6382',\n",
       "  'name': 'Медиалогия',\n",
       "  'url': 'https://api.hh.ru/employers/6382',\n",
       "  'alternate_url': 'https://hh.ru/employer/6382',\n",
       "  'logo_urls': {'original': 'https://img.hhcdn.ru/employer-logo-original/867798.png',\n",
       "   '90': 'https://img.hhcdn.ru/employer-logo/3912067.png',\n",
       "   '240': 'https://img.hhcdn.ru/employer-logo/3912068.png'},\n",
       "  'vacancies_url': 'https://api.hh.ru/vacancies?employer_id=6382',\n",
       "  'accredited_it_employer': False,\n",
       "  'trusted': True},\n",
       " 'snippet': {'requirement': 'Знание Python и библиотек для работы с данными и классическим ML (numpy, pandas, sklearn, catboost и др.). Желателен опыт создания...',\n",
       "  'responsibility': 'Создание моделей для задач NLP и CV. Доработка и улучшение существующих моделей. Анализ данных из социальных сетей: классификация, кластеризация, определение...'},\n",
       " 'contacts': None,\n",
       " 'schedule': {'id': 'remote', 'name': 'Удаленная работа'},\n",
       " 'working_days': [],\n",
       " 'working_time_intervals': [],\n",
       " 'working_time_modes': [],\n",
       " 'accept_temporary': False,\n",
       " 'professional_roles': [{'id': '165', 'name': 'Дата-сайентист'}],\n",
       " 'accept_incomplete_resumes': False,\n",
       " 'experience': {'id': 'between1And3', 'name': 'От 1 года до 3 лет'},\n",
       " 'employment': {'id': 'full', 'name': 'Полная занятость'},\n",
       " 'adv_response_url': None,\n",
       " 'is_adv_vacancy': False,\n",
       " 'adv_context': None}"
      ]
     },
     "execution_count": 5,
     "metadata": {},
     "output_type": "execute_result"
    }
   ],
   "source": [
    "data[\"items\"][0]"
   ]
  },
  {
   "cell_type": "markdown",
   "metadata": {},
   "source": [
    "Сколько всего найдено вакансий"
   ]
  },
  {
   "cell_type": "code",
   "execution_count": 6,
   "metadata": {
    "ExecuteTime": {
     "end_time": "2024-05-02T18:37:25.414494Z",
     "start_time": "2024-05-02T18:37:25.404875Z"
    }
   },
   "outputs": [
    {
     "data": {
      "text/plain": [
       "362"
      ]
     },
     "execution_count": 6,
     "metadata": {},
     "output_type": "execute_result"
    }
   ],
   "source": [
    "data[\"found\"]"
   ]
  },
  {
   "cell_type": "markdown",
   "metadata": {},
   "source": [
    "Количество страниц в результатах поиска"
   ]
  },
  {
   "cell_type": "code",
   "execution_count": 7,
   "metadata": {
    "ExecuteTime": {
     "end_time": "2024-05-02T18:37:25.426241Z",
     "start_time": "2024-05-02T18:37:25.415941Z"
    }
   },
   "outputs": [
    {
     "data": {
      "text/plain": [
       "37"
      ]
     },
     "execution_count": 7,
     "metadata": {},
     "output_type": "execute_result"
    }
   ],
   "source": [
    "data[\"pages\"]"
   ]
  },
  {
   "cell_type": "markdown",
   "metadata": {},
   "source": [
    "Из результатов можем сделать удобную таблицу, причем в дальнейшем можно оставить только те колонки, которые необходимы для анализа."
   ]
  },
  {
   "cell_type": "code",
   "execution_count": 8,
   "metadata": {
    "ExecuteTime": {
     "end_time": "2024-05-02T18:37:25.455125Z",
     "start_time": "2024-05-02T18:37:25.428160Z"
    }
   },
   "outputs": [
    {
     "data": {
      "text/html": [
       "<div>\n",
       "<style scoped>\n",
       "    .dataframe tbody tr th:only-of-type {\n",
       "        vertical-align: middle;\n",
       "    }\n",
       "\n",
       "    .dataframe tbody tr th {\n",
       "        vertical-align: top;\n",
       "    }\n",
       "\n",
       "    .dataframe thead th {\n",
       "        text-align: right;\n",
       "    }\n",
       "</style>\n",
       "<table border=\"1\" class=\"dataframe\">\n",
       "  <thead>\n",
       "    <tr style=\"text-align: right;\">\n",
       "      <th></th>\n",
       "      <th>id</th>\n",
       "      <th>premium</th>\n",
       "      <th>name</th>\n",
       "      <th>department</th>\n",
       "      <th>has_test</th>\n",
       "      <th>response_letter_required</th>\n",
       "      <th>salary</th>\n",
       "      <th>address</th>\n",
       "      <th>response_url</th>\n",
       "      <th>sort_point_distance</th>\n",
       "      <th>...</th>\n",
       "      <th>address.metro.station_id</th>\n",
       "      <th>address.metro.line_id</th>\n",
       "      <th>address.metro.lat</th>\n",
       "      <th>address.metro.lng</th>\n",
       "      <th>address.metro_stations</th>\n",
       "      <th>address.id</th>\n",
       "      <th>department.id</th>\n",
       "      <th>department.name</th>\n",
       "      <th>insider_interview.id</th>\n",
       "      <th>insider_interview.url</th>\n",
       "    </tr>\n",
       "  </thead>\n",
       "  <tbody>\n",
       "    <tr>\n",
       "      <th>0</th>\n",
       "      <td>98263959</td>\n",
       "      <td>False</td>\n",
       "      <td>Logistics Manager</td>\n",
       "      <td>NaN</td>\n",
       "      <td>False</td>\n",
       "      <td>False</td>\n",
       "      <td>None</td>\n",
       "      <td>NaN</td>\n",
       "      <td>None</td>\n",
       "      <td>None</td>\n",
       "      <td>...</td>\n",
       "      <td>NaN</td>\n",
       "      <td>NaN</td>\n",
       "      <td>NaN</td>\n",
       "      <td>NaN</td>\n",
       "      <td>NaN</td>\n",
       "      <td>NaN</td>\n",
       "      <td>NaN</td>\n",
       "      <td>NaN</td>\n",
       "      <td>NaN</td>\n",
       "      <td>NaN</td>\n",
       "    </tr>\n",
       "    <tr>\n",
       "      <th>1</th>\n",
       "      <td>97153868</td>\n",
       "      <td>False</td>\n",
       "      <td>Junior Data Scientist (Ranking&amp;Search)</td>\n",
       "      <td>NaN</td>\n",
       "      <td>True</td>\n",
       "      <td>False</td>\n",
       "      <td>None</td>\n",
       "      <td>NaN</td>\n",
       "      <td>None</td>\n",
       "      <td>None</td>\n",
       "      <td>...</td>\n",
       "      <td>NaN</td>\n",
       "      <td>NaN</td>\n",
       "      <td>NaN</td>\n",
       "      <td>NaN</td>\n",
       "      <td>NaN</td>\n",
       "      <td>NaN</td>\n",
       "      <td>NaN</td>\n",
       "      <td>NaN</td>\n",
       "      <td>NaN</td>\n",
       "      <td>NaN</td>\n",
       "    </tr>\n",
       "    <tr>\n",
       "      <th>2</th>\n",
       "      <td>98214631</td>\n",
       "      <td>False</td>\n",
       "      <td>Data Scientist</td>\n",
       "      <td>NaN</td>\n",
       "      <td>False</td>\n",
       "      <td>False</td>\n",
       "      <td>None</td>\n",
       "      <td>NaN</td>\n",
       "      <td>None</td>\n",
       "      <td>None</td>\n",
       "      <td>...</td>\n",
       "      <td>5.36</td>\n",
       "      <td>5</td>\n",
       "      <td>55.728994</td>\n",
       "      <td>37.622533</td>\n",
       "      <td>[{'station_name': 'Добрынинская', 'line_name':...</td>\n",
       "      <td>1079022</td>\n",
       "      <td>NaN</td>\n",
       "      <td>NaN</td>\n",
       "      <td>NaN</td>\n",
       "      <td>NaN</td>\n",
       "    </tr>\n",
       "    <tr>\n",
       "      <th>3</th>\n",
       "      <td>98269481</td>\n",
       "      <td>False</td>\n",
       "      <td>Data Scientist / ML-инженер</td>\n",
       "      <td>NaN</td>\n",
       "      <td>False</td>\n",
       "      <td>False</td>\n",
       "      <td>None</td>\n",
       "      <td>NaN</td>\n",
       "      <td>None</td>\n",
       "      <td>None</td>\n",
       "      <td>...</td>\n",
       "      <td>NaN</td>\n",
       "      <td>NaN</td>\n",
       "      <td>NaN</td>\n",
       "      <td>NaN</td>\n",
       "      <td>NaN</td>\n",
       "      <td>NaN</td>\n",
       "      <td>NaN</td>\n",
       "      <td>NaN</td>\n",
       "      <td>NaN</td>\n",
       "      <td>NaN</td>\n",
       "    </tr>\n",
       "    <tr>\n",
       "      <th>4</th>\n",
       "      <td>98088762</td>\n",
       "      <td>False</td>\n",
       "      <td>Junior data scientist (модели кредитного риска)</td>\n",
       "      <td>NaN</td>\n",
       "      <td>False</td>\n",
       "      <td>False</td>\n",
       "      <td>None</td>\n",
       "      <td>NaN</td>\n",
       "      <td>None</td>\n",
       "      <td>None</td>\n",
       "      <td>...</td>\n",
       "      <td>2.512</td>\n",
       "      <td>2</td>\n",
       "      <td>55.695000</td>\n",
       "      <td>37.664167</td>\n",
       "      <td>[{'station_name': 'Технопарк', 'line_name': 'З...</td>\n",
       "      <td>602591</td>\n",
       "      <td>80-80-expert</td>\n",
       "      <td>Альфа-Банк. Центральный офис</td>\n",
       "      <td>32631</td>\n",
       "      <td>https://hh.ru/interview/32631?employerId=80</td>\n",
       "    </tr>\n",
       "  </tbody>\n",
       "</table>\n",
       "<p>5 rows × 73 columns</p>\n",
       "</div>"
      ],
      "text/plain": [
       "         id  premium                                             name  \\\n",
       "0  98263959    False                                Logistics Manager   \n",
       "1  97153868    False           Junior Data Scientist (Ranking&Search)   \n",
       "2  98214631    False                                   Data Scientist   \n",
       "3  98269481    False                      Data Scientist / ML-инженер   \n",
       "4  98088762    False  Junior data scientist (модели кредитного риска)   \n",
       "\n",
       "   department  has_test  response_letter_required salary  address  \\\n",
       "0         NaN     False                     False   None      NaN   \n",
       "1         NaN      True                     False   None      NaN   \n",
       "2         NaN     False                     False   None      NaN   \n",
       "3         NaN     False                     False   None      NaN   \n",
       "4         NaN     False                     False   None      NaN   \n",
       "\n",
       "  response_url sort_point_distance  ... address.metro.station_id  \\\n",
       "0         None                None  ...                      NaN   \n",
       "1         None                None  ...                      NaN   \n",
       "2         None                None  ...                     5.36   \n",
       "3         None                None  ...                      NaN   \n",
       "4         None                None  ...                    2.512   \n",
       "\n",
       "  address.metro.line_id  address.metro.lat address.metro.lng  \\\n",
       "0                   NaN                NaN               NaN   \n",
       "1                   NaN                NaN               NaN   \n",
       "2                     5          55.728994         37.622533   \n",
       "3                   NaN                NaN               NaN   \n",
       "4                     2          55.695000         37.664167   \n",
       "\n",
       "                              address.metro_stations  address.id  \\\n",
       "0                                                NaN         NaN   \n",
       "1                                                NaN         NaN   \n",
       "2  [{'station_name': 'Добрынинская', 'line_name':...     1079022   \n",
       "3                                                NaN         NaN   \n",
       "4  [{'station_name': 'Технопарк', 'line_name': 'З...      602591   \n",
       "\n",
       "  department.id               department.name insider_interview.id  \\\n",
       "0           NaN                           NaN                  NaN   \n",
       "1           NaN                           NaN                  NaN   \n",
       "2           NaN                           NaN                  NaN   \n",
       "3           NaN                           NaN                  NaN   \n",
       "4  80-80-expert  Альфа-Банк. Центральный офис                32631   \n",
       "\n",
       "                         insider_interview.url  \n",
       "0                                          NaN  \n",
       "1                                          NaN  \n",
       "2                                          NaN  \n",
       "3                                          NaN  \n",
       "4  https://hh.ru/interview/32631?employerId=80  \n",
       "\n",
       "[5 rows x 73 columns]"
      ]
     },
     "execution_count": 8,
     "metadata": {},
     "output_type": "execute_result"
    }
   ],
   "source": [
    "df = pd.json_normalize(data[\"items\"])\n",
    "df.head()"
   ]
  },
  {
   "cell_type": "markdown",
   "metadata": {},
   "source": [
    "Для получения полного описания вакансии потребуется задать отдельный запрос, используя ее `id`."
   ]
  },
  {
   "cell_type": "code",
   "execution_count": 9,
   "metadata": {
    "ExecuteTime": {
     "end_time": "2024-05-02T18:37:25.564865Z",
     "start_time": "2024-05-02T18:37:25.457599Z"
    }
   },
   "outputs": [],
   "source": [
    "vacancy = df[\"id\"].iloc[0]\n",
    "vacancy_url = f\"https://api.hh.ru/vacancies/{vacancy}\"\n",
    "\n",
    "req = requests.get(vacancy_url)\n",
    "vacancy_info = json.loads(req.content.decode())"
   ]
  },
  {
   "cell_type": "code",
   "execution_count": 10,
   "metadata": {
    "ExecuteTime": {
     "end_time": "2024-05-02T18:37:25.573084Z",
     "start_time": "2024-05-02T18:37:25.566564Z"
    },
    "scrolled": false
   },
   "outputs": [
    {
     "data": {
      "text/plain": [
       "{'id': '98269481',\n",
       " 'premium': False,\n",
       " 'billing_type': {'id': 'standard', 'name': 'Стандарт'},\n",
       " 'relations': [],\n",
       " 'name': 'Data Scientist / ML-инженер',\n",
       " 'insider_interview': None,\n",
       " 'response_letter_required': False,\n",
       " 'area': {'id': '1', 'name': 'Москва', 'url': 'https://api.hh.ru/areas/1'},\n",
       " 'salary': None,\n",
       " 'type': {'id': 'open', 'name': 'Открытая'},\n",
       " 'address': None,\n",
       " 'allow_messages': True,\n",
       " 'experience': {'id': 'between1And3', 'name': 'От 1 года до 3 лет'},\n",
       " 'schedule': {'id': 'remote', 'name': 'Удаленная работа'},\n",
       " 'employment': {'id': 'full', 'name': 'Полная занятость'},\n",
       " 'department': None,\n",
       " 'contacts': None,\n",
       " 'description': '<p>Медиалогия разрабатывает высоконагруженные системы, которые в режиме реального времени сканируют весь текстовый сегмент Интернета (100+ млн. сообщений в сутки, 1.7 млрд. метрик) и, используя уникальные технологии лингвистического анализа и компьютерного зрения, позволяют осуществлять мгновенный анализ упоминаний наших клиентов в соц.сетях, блогах, форумах и управлять их репутацией.</p> <p>Наша команда активно растет и сейчас мы в поиске <strong>Data Scientist / ML-инженер (Middle)</strong><strong>.</strong></p> <p><strong>Вам предстоит:</strong></p> <ul> <li>создание моделей для задач NLP и CV;</li> <li>доработка и улучшение существующих моделей;</li> <li>анализ данных из социальных сетей: классификация, кластеризация, определение сущностей, выявление аномалий;</li> <li>проведение экспериментов на &quot;больших данных&quot; и обработка результатов;</li> <li>построение и тестирование гипотез.</li> </ul> <p><strong>Наши пожелания к будущему коллеге:</strong></p> <ul> <li>знание Python и библиотек для работы с данными и классическим ML (numpy, pandas, sklearn, catboost и др.);</li> <li>желателен опыт создания моделей машинного обучения на TensorFlow, PyTorch;</li> <li>умение работать с неструктурированными контентом, правильно оценивать качество моделей;</li> <li>желателен опыт работы с большими данными (Spark, Hadoop).</li> <li>умение работать в команде, хорошие коммуникативные навыки;</li> <li>желание активно развиваться и браться за самые сложные задачи.</li> </ul> <p><strong>Мы предлагаем:</strong></p> <ul> <li> <p>работу в аккредитованной IT-компании со всеми преимуществами;</p> </li> <li>белую ЗП, официальное оформление по ТК РФ;</li> <li>ДМС с хорошим выбором клиник и международной страховкой;</li> <li>возможность посещения профильных мероприятий и карьерное развитие;</li> <li>гибкое начало рабочего дня;</li> <li>удаленный формат работы;</li> <li>активное развитие в сильной data science команде.</li> </ul>',\n",
       " 'branded_description': None,\n",
       " 'vacancy_constructor_template': None,\n",
       " 'key_skills': [{'name': 'Python'},\n",
       "  {'name': 'ML'},\n",
       "  {'name': 'NLP'},\n",
       "  {'name': 'Deep Learning'},\n",
       "  {'name': 'Машинное обучение'},\n",
       "  {'name': 'Pandas'},\n",
       "  {'name': 'Numpy'},\n",
       "  {'name': 'Hadoop'},\n",
       "  {'name': 'Spark'},\n",
       "  {'name': 'sklearn'},\n",
       "  {'name': 'catboost'},\n",
       "  {'name': 'CV'}],\n",
       " 'accept_handicapped': False,\n",
       " 'accept_kids': False,\n",
       " 'archived': False,\n",
       " 'response_url': None,\n",
       " 'specializations': [],\n",
       " 'professional_roles': [{'id': '165', 'name': 'Дата-сайентист'}],\n",
       " 'code': None,\n",
       " 'hidden': False,\n",
       " 'quick_responses_allowed': False,\n",
       " 'driver_license_types': [],\n",
       " 'accept_incomplete_resumes': False,\n",
       " 'employer': {'id': '6382',\n",
       "  'name': 'Медиалогия',\n",
       "  'url': 'https://api.hh.ru/employers/6382',\n",
       "  'alternate_url': 'https://hh.ru/employer/6382',\n",
       "  'logo_urls': {'original': 'https://img.hhcdn.ru/employer-logo-original/867798.png',\n",
       "   '90': 'https://img.hhcdn.ru/employer-logo/3912067.png',\n",
       "   '240': 'https://img.hhcdn.ru/employer-logo/3912068.png'},\n",
       "  'vacancies_url': 'https://api.hh.ru/vacancies?employer_id=6382',\n",
       "  'accredited_it_employer': False,\n",
       "  'trusted': True},\n",
       " 'published_at': '2024-05-02T17:45:01+0300',\n",
       " 'created_at': '2024-05-02T17:45:01+0300',\n",
       " 'initial_created_at': '2024-05-02T17:45:01+0300',\n",
       " 'negotiations_url': None,\n",
       " 'suitable_resumes_url': None,\n",
       " 'apply_alternate_url': 'https://hh.ru/applicant/vacancy_response?vacancyId=98269481',\n",
       " 'has_test': False,\n",
       " 'test': None,\n",
       " 'alternate_url': 'https://hh.ru/vacancy/98269481',\n",
       " 'working_days': [],\n",
       " 'working_time_intervals': [],\n",
       " 'working_time_modes': [],\n",
       " 'accept_temporary': False,\n",
       " 'languages': [],\n",
       " 'approved': True}"
      ]
     },
     "execution_count": 10,
     "metadata": {},
     "output_type": "execute_result"
    }
   ],
   "source": [
    "vacancy_info"
   ]
  },
  {
   "cell_type": "markdown",
   "metadata": {},
   "source": [
    "---\n",
    "\n",
    "### <font color=\"orange\"><i>Сложная часть</i></font>"
   ]
  },
  {
   "cell_type": "markdown",
   "metadata": {},
   "source": [
    " ---\n",
    "### Задача 1.   \n",
    "\n",
    "Исследуем профессию Data Scientist. Найдите как можно больше вакансий по этой профессии в Москве. Учтите, что имеет смысл искать также по другим ключевым словам, например, `аналитик данных`."
   ]
  },
  {
   "cell_type": "code",
   "execution_count": null,
   "metadata": {},
   "outputs": [],
   "source": []
  },
  {
   "cell_type": "markdown",
   "metadata": {},
   "source": [
    "В полученную выборку некоторые вакансии могли попасть несколько раз. Удалите дубликаты."
   ]
  },
  {
   "cell_type": "code",
   "execution_count": null,
   "metadata": {},
   "outputs": [],
   "source": []
  },
  {
   "cell_type": "markdown",
   "metadata": {},
   "source": [
    "Загрузите подробное описание каждой вакансии и создайте удобную для дальнейших действий таблицу данных."
   ]
  },
  {
   "cell_type": "code",
   "execution_count": null,
   "metadata": {},
   "outputs": [],
   "source": []
  },
  {
   "cell_type": "markdown",
   "metadata": {},
   "source": [
    "**Полученную таблицу необходимо сохранить в формате xlsx и отправить боту вместе с решением.**"
   ]
  },
  {
   "cell_type": "markdown",
   "metadata": {},
   "source": [
    "**Вопрос 1.** Сколько сейчас доступно вакансий по вашему запросу?"
   ]
  },
  {
   "cell_type": "code",
   "execution_count": null,
   "metadata": {},
   "outputs": [],
   "source": []
  },
  {
   "cell_type": "markdown",
   "metadata": {},
   "source": [
    "**Вопрос 2.** Какие навыки чаще всего встречаются в вакансиях по данной специальности?\n",
    "\n",
    "Для этого найдите соответствующее поле в данных из полного описания вакансий, проанализируйте его и составьте список навыков и количество упоминаний каждого. Визуализируйте полученную информацию по топ-15 навыков."
   ]
  },
  {
   "cell_type": "code",
   "execution_count": null,
   "metadata": {},
   "outputs": [],
   "source": []
  },
  {
   "cell_type": "markdown",
   "metadata": {},
   "source": [
    "**Вопрос 3.** Какую зарплату готовы платить работодатели? Соберите некоторым образом статистику и постройте гистограмму.\n",
    "\n",
    "При работе с данными о заработной плате обратите внимание на валюту и <a target=\"_blank\" href=\"https://yandex.ru/search/?text=gross%2Fnet&clid=1955455&win=446&lr=213&noreask=1\">gross/net</a>. Постоянно подгружать курс валюты не требуется, достаточно фиксировать какой-то один более менее актуальный."
   ]
  },
  {
   "cell_type": "code",
   "execution_count": null,
   "metadata": {},
   "outputs": [],
   "source": []
  },
  {
   "cell_type": "markdown",
   "metadata": {},
   "source": [
    "**Вопрос 4.** Какой формат работы предлагается (в офисе / удаленно / ...)?"
   ]
  },
  {
   "cell_type": "code",
   "execution_count": null,
   "metadata": {},
   "outputs": [],
   "source": []
  },
  {
   "cell_type": "markdown",
   "metadata": {},
   "source": [
    "Проведите аналогичный анализ для наиболее привлекательной для вас профессии в любом регионе. Если это Data Scientist, то для анализа выберите другую. В данном пункте спокойно можно сделать копипасту кода."
   ]
  },
  {
   "cell_type": "code",
   "execution_count": null,
   "metadata": {},
   "outputs": [],
   "source": []
  },
  {
   "cell_type": "markdown",
   "metadata": {},
   "source": [
    "Не забывайте про выводы."
   ]
  },
  {
   "cell_type": "markdown",
   "metadata": {},
   "source": [
    "\n",
    "---\n",
    "\n",
    "### <font color=\"green\"><i>Факультативная часть</i></font>\n",
    "\n",
    "---\n",
    "\n",
    "### Задача 2.   \n",
    "\n",
    "Для *одной* из рассмотренных ранее профессий исследуйте, в каком районе Москвы данная вакансия пользуется наибольшим и наименьшим спросом.\n",
    "Не забудьте про визуализацию, в частности, постройте распределений вакансий на карте.\n",
    "\n",
    "*Напоминание.* Работа в некоторой степени творческая, поэтому конкретные детали решения в основном остаются на усмотрение автора решения.\n"
   ]
  },
  {
   "cell_type": "code",
   "execution_count": null,
   "metadata": {},
   "outputs": [],
   "source": []
  },
  {
   "cell_type": "markdown",
   "metadata": {},
   "source": [
    "Какие выводы можно сделать из построенных графиков?"
   ]
  },
  {
   "cell_type": "markdown",
   "metadata": {},
   "source": [
    "---\n",
    "\n",
    "### Задача 3.   "
   ]
  },
  {
   "cell_type": "markdown",
   "metadata": {},
   "source": [
    "**1.** Проверьте, во скольких вакансиях среди выгруженных указана зарплата?\n"
   ]
  },
  {
   "cell_type": "code",
   "execution_count": null,
   "metadata": {},
   "outputs": [],
   "source": []
  },
  {
   "cell_type": "markdown",
   "metadata": {},
   "source": [
    "На основе описания вакансий с известной зарплатой попробуйте оценить ожидаемую зарплату для всех остальных вакансий. Для этого на основе текстового описания вакансии можно построить эмбеддинги (любые подходящие нейросетевые или просто one-hot кодирование). По этим эмбеддингам обучите некоторую модель предсказывать зарплату. \n",
    "\n",
    "Не забудьте по общий пайплайн ML-моделей, а также про применимость различных методов."
   ]
  },
  {
   "cell_type": "code",
   "execution_count": null,
   "metadata": {},
   "outputs": [],
   "source": []
  },
  {
   "cell_type": "markdown",
   "metadata": {
    "ExecuteTime": {
     "end_time": "2024-05-02T07:12:06.576122Z",
     "start_time": "2024-05-02T07:12:06.569338Z"
    }
   },
   "source": [
    "**2.** Выполните кластеризацию вакансий, используя построенные эмбеддинги. Визуализируйте результаты и проинтерпретируйте кластеры."
   ]
  },
  {
   "cell_type": "code",
   "execution_count": null,
   "metadata": {},
   "outputs": [],
   "source": []
  },
  {
   "cell_type": "markdown",
   "metadata": {},
   "source": [
    "Не забывайте про выводы."
   ]
  }
 ],
 "metadata": {
  "colab": {
   "collapsed_sections": [],
   "name": "stats.ipynb",
   "provenance": [],
   "version": "0.3.2"
  },
  "hide_input": false,
  "kernelspec": {
   "display_name": "Python 3 (ipykernel)",
   "language": "python",
   "name": "python3"
  },
  "language_info": {
   "codemirror_mode": {
    "name": "ipython",
    "version": 3
   },
   "file_extension": ".py",
   "mimetype": "text/x-python",
   "name": "python",
   "nbconvert_exporter": "python",
   "pygments_lexer": "ipython3",
   "version": "3.11.6"
  }
 },
 "nbformat": 4,
 "nbformat_minor": 1
}
