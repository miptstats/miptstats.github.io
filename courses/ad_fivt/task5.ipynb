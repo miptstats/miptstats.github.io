{
  "cells": [
    {
      "cell_type": "markdown",
      "metadata": {
        "id": "Kb_PVxXaW2Qy"
      },
      "source": [
        "# <a href=\"https://miptstats.github.io/courses/ad_fivt.html\">Введение в анализ данных</a>\n",
        "## Домашнее задание 5. Компьютерное зрение & генеративные модели\n"
      ]
    },
    {
      "cell_type": "markdown",
      "metadata": {
        "id": "duMi1QifW2Qz"
      },
      "source": [
        "**Правила, <font color=\"red\">прочитайте внимательно</font>:**\n",
        "\n",
        "* Выполненную работу нужно отправить телеграм-боту `@miptstats_ds24_bot`. Для начала работы с ботом каждый раз отправляйте `/start`. **Работы, присланные иным способом, не принимаются.**\n",
        "* Дедлайн см. в боте. После дедлайна работы не принимаются кроме случаев наличия уважительной причины.\n",
        "* Прислать нужно **ноутбук в формате `ipynb`**.\n",
        "* Следите за размером файлов. **Бот не может принимать файлы весом более 20 Мб.** Если файл получается больше, заранее разделите его на несколько.\n",
        "* Выполнять задание необходимо полностью самостоятельно. **При обнаружении списывания все участники списывания будут сдавать устный зачет.**\n",
        "* Решения, размещенные на каких-либо интернет-ресурсах, не принимаются. Кроме того, публикация решения в открытом доступе может быть приравнена к предоставлении возможности списать.\n",
        "* Для выполнения задания используйте этот ноутбук в качестве основы, ничего не удаляя из него. Можно добавлять необходимое количество ячеек.\n",
        "* Комментарии к решению пишите в markdown-ячейках.\n",
        "* Выполнение задания (ход решения, выводы и пр.) должно быть осуществлено на русском языке.\n",
        "* Если код будет не понятен проверяющему, оценка может быть снижена.\n",
        "* Никакой код из данного задания при проверке запускаться не будет. *Если код студента не выполнен, недописан и т.д., то он не оценивается.*\n",
        "\n",
        "\n",
        "**Баллы за задание:**\n",
        "\n",
        "* Задача 1 &mdash; 150 баллов\n",
        "* Задача 2 &mdash; 40 баллов\n",
        "\n",
        "Баллы учитываются в <b><font color=\"green\">факультативной части</font></b> курса и не влияют на оценку по основной части."
      ]
    },
    {
      "cell_type": "code",
      "execution_count": null,
      "metadata": {
        "id": "pWZ4wmCvW2Q0"
      },
      "outputs": [],
      "source": [
        "# Bot check\n",
        "\n",
        "# HW_ID: fpmi_ad5\n",
        "# Бот проверит этот ID и предупредит, если случайно сдать что-то не то.\n",
        "\n",
        "# Status: not final\n",
        "# Перед отправкой в финальном решении удали \"not\" в строчке выше.\n",
        "# Так бот проверит, что ты отправляешь финальную версию, а не промежуточную.\n",
        "# Никакие значения в этой ячейке не влияют на факт сдачи работы."
      ]
    },
    {
      "cell_type": "code",
      "source": [
        "!pip install torchinfo"
      ],
      "metadata": {
        "id": "Oh_JpvACb7Z6"
      },
      "execution_count": null,
      "outputs": []
    },
    {
      "cell_type": "code",
      "source": [
        "import time\n",
        "import warnings\n",
        "from collections import defaultdict\n",
        "from tqdm import tqdm\n",
        "\n",
        "import numpy as np\n",
        "import matplotlib.pyplot as plt\n",
        "import seaborn as sns\n",
        "\n",
        "import torch\n",
        "from torch import nn\n",
        "import torchvision\n",
        "from torchvision import transforms\n",
        "from torchinfo import summary\n",
        "\n",
        "from IPython.display import clear_output\n",
        "sns.set(font_scale=1, style='darkgrid', palette='Set2')\n",
        "warnings.simplefilter(\"ignore\")\n",
        "\n",
        "device = f\"cuda\" if torch.cuda.is_available() else \"cpu\"\n",
        "print(device)"
      ],
      "metadata": {
        "id": "o2-SbeG5x3oj"
      },
      "execution_count": null,
      "outputs": []
    },
    {
      "cell_type": "markdown",
      "metadata": {
        "id": "2M__0kK2W2Q1"
      },
      "source": [
        "Перед выполнением задания обязательно посмотрите <a href=\"https://miptstats.github.io/courses/ad_fivt/lecture5_1.pdf\" target=\"_blank\">презентацию</a> и <a href=\"https://miptstats.github.io/courses/ad_fivt/CV_classification.html\" target=\"_blank\">ноутбук</a> про сверточные сети и классификацию, а так же <a href=\"https://miptstats.github.io/courses/ad_fivt/lecture5_2.pdf\" target=\"_blank\">презентацию</a> и <a href=\"https://miptstats.github.io/courses/ad_fivt/CV_complex_examples.html\" target=\"_blank\">ноутбук</a> про перенос стиля и генеративные сети."
      ]
    },
    {
      "cell_type": "markdown",
      "metadata": {
        "id": "x-9Z1rmVW2Q1"
      },
      "source": [
        "---\n",
        "### Задача 1. Классификация MNIST\n"
      ]
    },
    {
      "cell_type": "markdown",
      "source": [
        "Цель: сравнить сверточные нейросети с разными параметрами на датасете рукописных цифр MNIST. В нем содержатся черно-белые изображения цифр, всего 10 классов для каждой цифры. Пользоваться кодом семинара можно без ограничений. Классификация MNIST намного легче, чем CIFAR, поэтому ваша задача хотя бы в одной из моделей получить 98% точности **на валидации**.\n",
        "\n",
        "> Использования слоев с семинара (свертка, pooling) более чем достаточно для достижения 98% точности на тесте. Также не делайте сеть глубокой.\n",
        "\n",
        "> Тестируйте работоспособность кода на CPU с небольшим кол-вом итераций. Если все работает, и хочется ускорить процесс, переходите на GPU.\n",
        "\n",
        "Следуйте указаниям ниже."
      ],
      "metadata": {
        "id": "FiPesei5d_6Y"
      }
    },
    {
      "cell_type": "markdown",
      "source": [
        "Загрузим датаcет из `torchvision.datasets`."
      ],
      "metadata": {
        "id": "aZiM2W4leua-"
      }
    },
    {
      "cell_type": "code",
      "source": [
        "# Данные для обучения\n",
        "train_dataset = torchvision.datasets.MNIST(root='./data', train=True,\n",
        "                                           download=True,\n",
        "                                           transform=transforms.ToTensor())\n",
        "# Данные для тестирования\n",
        "val_dataset = torchvision.datasets.MNIST(root='./data', train=False,\n",
        "                                         download=True,\n",
        "                                         transform=transforms.ToTensor())\n",
        "# Классы объектов в датасете\n",
        "classes = [str(i) for i in range(10)]"
      ],
      "metadata": {
        "id": "rIaFpD-8wmnc"
      },
      "execution_count": null,
      "outputs": []
    },
    {
      "cell_type": "markdown",
      "source": [
        "Визуализируйте несколько картинок с соответствующими метками из датасета."
      ],
      "metadata": {
        "id": "S1y77vr0eyzK"
      }
    },
    {
      "cell_type": "code",
      "source": [],
      "metadata": {
        "id": "LnpGySak1woQ"
      },
      "execution_count": null,
      "outputs": []
    },
    {
      "cell_type": "markdown",
      "source": [
        "Создайте генераторы батчей."
      ],
      "metadata": {
        "id": "aypFdgXdZpGQ"
      }
    },
    {
      "cell_type": "code",
      "source": [],
      "metadata": {
        "id": "ZxF48UxiZq2O"
      },
      "execution_count": null,
      "outputs": []
    },
    {
      "cell_type": "markdown",
      "source": [
        "**Эксперимент 1.** Создайте хотя бы 5 сверточных нейросетей с разным количеством линейных и сверточных слоев. Должен присутствовать хотя бы 1 сверточный слой и хотя бы 1 линейный слой. Для каждой посмотрите количество параметров с помощью `torchinfo.summary`."
      ],
      "metadata": {
        "id": "eKLKBG3OfBSR"
      }
    },
    {
      "cell_type": "code",
      "source": [],
      "metadata": {
        "id": "XtDoy51q15s_"
      },
      "execution_count": null,
      "outputs": []
    },
    {
      "cell_type": "markdown",
      "source": [
        "Обучите сети, используя функцию потерь `nn.CrossEntropyLoss` и оптимизатор `torch.optim.Adam` с дефолтными параметрами."
      ],
      "metadata": {
        "id": "PQiEK0kQgUVs"
      }
    },
    {
      "cell_type": "code",
      "execution_count": null,
      "metadata": {
        "execution": {
          "iopub.execute_input": "2022-11-29T02:06:46.314950Z",
          "iopub.status.busy": "2022-11-29T02:06:46.313963Z",
          "iopub.status.idle": "2022-11-29T02:15:25.832768Z",
          "shell.execute_reply": "2022-11-29T02:15:25.831808Z",
          "shell.execute_reply.started": "2022-11-29T02:06:46.314912Z"
        },
        "id": "EnEk2EiJVJog"
      },
      "outputs": [],
      "source": [
        "criterion = nn.CrossEntropyLoss()\n",
        "optimizer = torch.optim.Adam(simple_cnn.parameters())\n",
        "\n",
        "<...>"
      ]
    },
    {
      "cell_type": "markdown",
      "source": [
        "Постройте график лосса и график accuracy, где сравниваются все модели (на train и на val). Нужная функция есть в семинаре."
      ],
      "metadata": {
        "id": "HKeKUcptgylG"
      }
    },
    {
      "cell_type": "code",
      "source": [],
      "metadata": {
        "id": "C-tIcHs_bZ28"
      },
      "execution_count": null,
      "outputs": []
    },
    {
      "cell_type": "markdown",
      "source": [
        "Сделайте вывод. Как количество разных слоев влияет на качество и время обучения?\n",
        "\n",
        "**Вывод по эксперименту 1:** <...>"
      ],
      "metadata": {
        "id": "dm2vwgrVlkj-"
      }
    },
    {
      "cell_type": "markdown",
      "source": [
        "**Эксперимент 2.** Теперь выберите лучший вариант, зафиксируйте это количество сверточных и линейных слоев и обучите хотя бы 4 сверточных нейросети, варьируя размеры ядер сверток. Например, в разном порядке поставьте ядра 3x3, 5x5."
      ],
      "metadata": {
        "id": "htYb8OWXehWB"
      }
    },
    {
      "cell_type": "code",
      "source": [],
      "metadata": {
        "id": "vGaa6OZKfxuz"
      },
      "execution_count": null,
      "outputs": []
    },
    {
      "cell_type": "markdown",
      "source": [
        "Постройте график лосса и график accuracy, где сравниваются все модели этого эксперимента (на train и на val)."
      ],
      "metadata": {
        "id": "cgvL8CP6fype"
      }
    },
    {
      "cell_type": "code",
      "source": [],
      "metadata": {
        "id": "dW4ZP422fypf"
      },
      "execution_count": null,
      "outputs": []
    },
    {
      "cell_type": "markdown",
      "source": [
        "Сделайте вывод. Как размеры ядер влияют на качество и время обучения?\n",
        "\n",
        "**Вывод по эксперименту 2:** <...>"
      ],
      "metadata": {
        "id": "MUy9v-IAltAP"
      }
    },
    {
      "cell_type": "markdown",
      "source": [
        "**Анализ лучшей модели.** Выберите лучшую конфигурацию из всех по accuracy на валидации. Она должна быть не меньше 98%."
      ],
      "metadata": {
        "id": "bqLZr0CCdV-p"
      }
    },
    {
      "cell_type": "code",
      "source": [],
      "metadata": {
        "id": "ztRtP5VtgQ3h"
      },
      "execution_count": null,
      "outputs": []
    },
    {
      "cell_type": "markdown",
      "source": [
        "Проведите еще один проход валидации выбранной моделью по всему датасету. В нем посчитайте точность по каждому классу и соберите информацию о неправильных предсказаниях. Равномерна ли точность по отношению к классам? Покажите 10-20 примеров, на которых нейросеть выдала неправильную метку. Что можно о них сказать?"
      ],
      "metadata": {
        "id": "TMPEvu2bg3Zc"
      }
    },
    {
      "cell_type": "code",
      "source": [],
      "metadata": {
        "id": "A94g5BGz6uU4"
      },
      "execution_count": null,
      "outputs": []
    },
    {
      "cell_type": "markdown",
      "metadata": {
        "id": "KVfdfsXZnhcs"
      },
      "source": [
        "**Ответ:** <...>"
      ]
    },
    {
      "cell_type": "markdown",
      "metadata": {
        "id": "a_EvDaB7W2Q2"
      },
      "source": [
        "**Вывод по всей задаче:** <...>"
      ]
    },
    {
      "cell_type": "markdown",
      "metadata": {
        "id": "EWHsMVWwW2Q2"
      },
      "source": [
        "---\n",
        "### Задача 2. Перенос стиля"
      ]
    },
    {
      "cell_type": "markdown",
      "source": [
        "Здесь вы потренируетесь в работе с картинками и составлением промптов. Используя код с <a href=\"https://miptstats.github.io/courses/ad_fivt/CV_complex_examples.html\" target=\"_blank\">семинара</a>, проведите перенос стиля на хотя бы 3 своих примерах.\n",
        "\n",
        "> Заметьте, что в примерах с семинара в качестве картинок стиля и контента использовались картинки среднего разрешения. Если возникают проблемы: оптимизация останавливается на 0-й эпохе и не создает картинку; loss в какой-то момент стал nan; нехватка RAM; &mdash; то либо уменьшите разрешение ваших картинок, либо попробуйте картинку полегче."
      ],
      "metadata": {
        "id": "33gKkfQz2mIx"
      }
    },
    {
      "cell_type": "code",
      "source": [],
      "metadata": {
        "id": "Syn9JDq04ISQ"
      },
      "execution_count": null,
      "outputs": []
    },
    {
      "cell_type": "markdown",
      "source": [
        "Теперь для каждой пары контекст-стиль попытайтесь сгенерировать картинку с таким контекстом и стилем с помощью диффузионной модели, рассмотренной на семинаре, задав нужный промпт."
      ],
      "metadata": {
        "id": "I2yeDQMz4IiY"
      }
    },
    {
      "cell_type": "code",
      "source": [],
      "metadata": {
        "id": "oQ_6F1NP47ot"
      },
      "execution_count": null,
      "outputs": []
    },
    {
      "cell_type": "markdown",
      "metadata": {
        "id": "zPoMmyGgW2Q3"
      },
      "source": [
        "**Вывод:**\n",
        "<...>"
      ]
    }
  ],
  "metadata": {
    "colab": {
      "provenance": [],
      "gpuType": "T4"
    },
    "kernelspec": {
      "display_name": "Python 3",
      "name": "python3"
    },
    "language_info": {
      "codemirror_mode": {
        "name": "ipython",
        "version": 3
      },
      "file_extension": ".py",
      "mimetype": "text/x-python",
      "name": "python",
      "nbconvert_exporter": "python",
      "pygments_lexer": "ipython3",
      "version": "3.8.10"
    },
    "accelerator": "GPU"
  },
  "nbformat": 4,
  "nbformat_minor": 0
}
