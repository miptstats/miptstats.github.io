{
 "cells": [
  {
   "cell_type": "markdown",
   "metadata": {},
   "source": [
    "# <a href=\"https://mipt-stats.gitlab.io/courses/ad_mipt.html\">Phystech@DataScience</a>\n",
    "## Домашнее задание 3\n",
    "\n",
    "**Правила, <font color=\"red\">прочитайте внимательно</font>:**\n",
    "\n",
    "* Выполненную работу нужно отправить телеграм-боту `@miptstats_pds_bot`. Для начала работы с ботом каждый раз отправляйте `/start`. **Работы, присланные иным способом, не принимаются.**\n",
    "* Дедлайн см. в боте. После дедлайна работы не принимаются кроме случаев наличия уважительной причины.\n",
    "* Прислать нужно ноутбук в формате `ipynb`.\n",
    "* Выполнять задание необходимо полностью самостоятельно. **При обнаружении списывания все участники списывания будут сдавать устный зачет.**\n",
    "* Решения, размещенные на каких-либо интернет-ресурсах, не принимаются. Кроме того, публикация решения в открытом доступе может быть приравнена к предоставлении возможности списать.\n",
    "* Для выполнения задания используйте этот ноутбук в качестве основы, ничего не удаляя из него. Можно добавлять необходимое количество ячеек.\n",
    "* Комментарии к решению пишите в markdown-ячейках.\n",
    "* Выполнение задания (ход решения, выводы и пр.) должно быть осуществлено на русском языке.\n",
    "* Если код будет не понятен проверяющему, оценка может быть снижена.\n",
    "* Никакой код из данного задания при проверке запускаться не будет. *Если код студента не выполнен, недописан и т.д., то он не оценивается.*\n",
    "* **Код из рассказанных на занятиях ноутбуков можно использовать без ограничений.**\n",
    "\n",
    "**Правила оформления теоретических задач:**\n",
    "\n",
    "* Решения необходимо прислать одним из следующих способов:\n",
    "  * фотографией в правильной ориентации, где все четко видно, а почерк разборчив,\n",
    "    * отправив ее как файл боту вместе с ноутбуком *или*\n",
    "    * вставив ее в ноутбук посредством `Edit -> Insert Image` (<font color=\"red\">фото, вставленные ссылкой, не принимаются</font>);\n",
    "  * в виде $LaTeX$ в markdown-ячейках.\n",
    "* Решения не проверяются, если какое-то требование не выполнено. Особенно внимательно все проверьте в случае выбора второго пункта (вставки фото в ноутбук). <font color=\"red\"><b>Неправильно вставленные фотографии могут не передаться при отправке.</b></font> Для проверки попробуйте переместить `ipynb` в другую папку и открыть его там.\n",
    "* В решениях поясняйте, чем вы пользуетесь, хотя бы кратко. Например, если пользуетесь независимостью, то достаточно подписи вида \"*X и Y незав.*\"\n",
    "* Решение, в котором есть только ответ, и отсутствуют вычисления, оценивается в 0 баллов.\n",
    "\n",
    "**Баллы за задание:**\n",
    "\n",
    "<b><font color=\"blue\">Легкая часть</font></b> (достаточно на \"хор\"):\n",
    "* Задача 1 &mdash; 15 баллов\n",
    "* Задача 2 &mdash; 20 баллов\n",
    "\n",
    "<b><font color=\"orange\">Сложная часть</font></b> (необходимо на \"отл\"):\n",
    "* Задача 3 &mdash; 25 баллов\n",
    "* Задача 4 &mdash; 30 баллов\n",
    "\n",
    "\n",
    "<b><font color=\"blue\">Легкая часть</font></b> (достаточно на \"хор\"):\n",
    "* Задача 5 &mdash;  20 баллов\n",
    "* Задача 6 &mdash;  15 баллов\n",
    "* Задача 7 &mdash;  15 баллов\n",
    "\n",
    "<b><font color=\"orange\">Сложная часть</font></b> (необходимо на \"отл\"):\n",
    "* Задача 8 &mdash;  30 баллов\n",
    "\n",
    "\n",
    "\n",
    "\n",
    "-----"
   ]
  },
  {
   "cell_type": "code",
   "execution_count": null,
   "metadata": {},
   "outputs": [],
   "source": [
    "# Bot check\n",
    "\n",
    "# HW_ID: phds_hw3\n",
    "# Бот проверит этот ID и предупредит, если случайно сдать что-то не то.\n",
    "\n",
    "# Status: not final\n",
    "# Перед отправкой в финальном решении удали \"not\" в строчке выше.\n",
    "# Так бот проверит, что ты отправляешь финальную версию, а не промежуточную.\n",
    "# Никакие значения в этой ячейке не влияют на факт сдачи работы."
   ]
  },
  {
   "cell_type": "markdown",
   "metadata": {},
   "source": [
    "\n",
    "# Теоретическая часть\n",
    "\n",
    "### <b><font color=\"blue\">Легкая часть</font></b>\n",
    "\n",
    "\n",
    "## Задача 1. \n",
    "\n",
    "Пусть $X_1,...,X_n$ выборка из некоторого распределения $\\mathrm{P}$, причем ${\\sf D} X_1=\\sigma^2<+\\infty$, и $\\sigma$ неизвестно. \n",
    "Рассмотрим статистику $S^2=\\frac1n\\sum\\limits_{i=1}^n(X_i-\\overline{X})^2$.\n",
    "\n",
    "1. Докажите, что статистика $S^2$ равна $\\overline{X^2}-\\overline{X}^2$.\n",
    "\n",
    "\n",
    "2. Является ли она состоятельной оценкой $\\sigma^2$? Для ответа на этот вопрос воспользуйтесь утверждениями с лекции.\n",
    "\n",
    "\n",
    "3. Является ли статистика $S^2$ несмещенной оценкой $\\sigma^2$? Для ответа на этот вопрос вспомните различные варианты определения дисперсии."
   ]
  },
  {
   "cell_type": "markdown",
   "metadata": {},
   "source": [
    "## Задача 2.\n",
    "\n",
    "Пусть $X_1,...,X_n$ выборка из из распределения $\\mathcal{N}(\\theta, \\sigma^2)$, где оба параметра неизветны. \n",
    "    \n",
    "1. Предложите несмещенную, сильно состоятельную, асимптотически нормальную оценку $\\theta$.\n",
    " \n",
    " \n",
    "2. Постройте асимптотический доверительный интервал для $\\theta$ уровня доверия $\\alpha$. Поскольку $\\theta$ и $\\sigma$ неизвестны, в ответе их не должно быть.\n",
    "    \n",
    "*Указание.* Посмотрите пример с занятия."
   ]
  },
  {
   "cell_type": "markdown",
   "metadata": {},
   "source": [
    "### <b><font color=\"orange\">Сложная часть</font></b> \n",
    "\n",
    "## Задача 3.\n",
    "Пусть $X_1,...,X_n$ выборка из из распределения $U(0, \\theta)$. \n",
    "\n",
    "1. Проверьте на несмещенность следующие оценки параметра $\\theta$: $2\\overline{X}$, $X_{(n)}$, $\\frac{n+1}{n}X_{(n)}$.\n",
    "\n",
    "*Указание.* Найдите функцию распределения случайной величины $X_{(n)}$, посчитав вероятность того, что максимальное значение среди элементов выборки не превосходит числа $x$. Используйте при этом определение выборки. После чего получите плотность $X_{(n)}$. \n",
    "\n",
    "2. Проверьте, является ли оценка $2\\overline{X}$ состоятельной, сильно состоятельной и асимптотически нормальной.\n",
    "\n",
    "\n",
    "3. Постройте асимптотический доверительный интервал для $\\theta$ уровня доверия $\\alpha$.\n",
    "    \n",
    "*Указание.* Посмотрите пример с занятия."
   ]
  },
  {
   "cell_type": "markdown",
   "metadata": {},
   "source": [
    "## Задача 4.\n",
    "\n",
    "Пусть $X_1,...,X_n$ выборка из из распределения $\\mathcal{N}(\\theta, \\sigma^2)$, где оба параметра неизветны. \n",
    "Постройте асимптотический доверительный интервал для нормированного сдвига, то есть величины $\\theta / \\sigma$."
   ]
  },
  {
   "cell_type": "markdown",
   "metadata": {},
   "source": [
    "---\n",
    "\n",
    "# Практическая часть\n"
   ]
  },
  {
   "cell_type": "code",
   "execution_count": null,
   "metadata": {},
   "outputs": [],
   "source": [
    "import numpy as np\n",
    "import scipy.stats as sps\n",
    "import matplotlib.pyplot as plt\n",
    "import seaborn as sns\n",
    "\n",
    "sns.set(font_scale=1.5, palette='Set2')"
   ]
  },
  {
   "cell_type": "markdown",
   "metadata": {},
   "source": [
    "### <b><font color=\"blue\">Легкая часть</font></b>\n"
   ]
  },
  {
   "cell_type": "markdown",
   "metadata": {},
   "source": [
    "## Задача 5\n",
    "\n",
    "\n",
    "Пусть $X_1, ..., X_n$ &mdash; выборка из распределения $\\mathcal{N}(0, \\sigma^2)$. Известно, что в качестве оценки параметра $\\sigma^2$ можно использовать следующие оценки $S^2, \\frac{n}{n-1}S^2$. Проверьте эти оценки на несмещенность повторив эксперимент с семинара."
   ]
  },
  {
   "cell_type": "markdown",
   "metadata": {},
   "source": [
    "Реализуйте две функции, каждая из которых на вход берет несколько выборок, а на выход выдает массив оценок  \n",
    "(первая функция - $S^2$, вторая функция - $\\frac{n}{n-1}S^2$)  для каждой выборки.  \n",
    "*Примечание:* У матрицы, заданной в виде `numpy.array` есть метод `var` вычисляющий выборочную дисперсию. "
   ]
  },
  {
   "cell_type": "code",
   "execution_count": null,
   "metadata": {},
   "outputs": [],
   "source": [
    "def estimate_s2(X):\n",
    "    '''     \n",
    "    Принимает на вход массив размером (n_samples, sample_size), выдает массив оценок размера (n_samples,)\n",
    "    '''\n",
    "    # ваш код\n",
    "\n",
    "def estimate_s2_corrected(X):\n",
    "    '''     \n",
    "    Принимает на вход массив размером (n_samples, sample_size), выдает массив оценок размера (n_samples,)\n",
    "    '''\n",
    "    # ваш код"
   ]
  },
  {
   "cell_type": "markdown",
   "metadata": {},
   "source": [
    "Проверьте правильность своей реализации"
   ]
  },
  {
   "cell_type": "code",
   "execution_count": null,
   "metadata": {},
   "outputs": [],
   "source": [
    "X = np.array([[1, 3, 3, 6], [2, 5, 1, 89]])\n",
    "estimate_s2(X)\n",
    "\n",
    "assert(sum(estimate_s2(X) != np.array([3.1875, 1399.6875])) == 0)\n",
    "assert(sum(estimate_s2_corrected(X) != np.array((4.25, 1866.25))) == 0)\n"
   ]
  },
  {
   "cell_type": "markdown",
   "metadata": {},
   "source": [
    "Задайте список оценок и разные параметры для отрисовки графика"
   ]
  },
  {
   "cell_type": "code",
   "execution_count": null,
   "metadata": {},
   "outputs": [],
   "source": [
    "estimators = [\n",
    "    (estimate_s2, r'$S^2$', 'purple', 0.1),\n",
    "    (estimate_s2_corrected, r'\\frac{n}{n-1}$S^2$', 'green', 0.2)\n",
    "]"
   ]
  },
  {
   "cell_type": "markdown",
   "metadata": {},
   "source": [
    "Создайте 500 выборок размера `sample_size`."
   ]
  },
  {
   "cell_type": "code",
   "execution_count": null,
   "metadata": {},
   "outputs": [],
   "source": [
    "sample_count = 500\n",
    "sample_size = 100\n",
    "X = # ваш код\n",
    "X.shape"
   ]
  },
  {
   "cell_type": "markdown",
   "metadata": {},
   "source": [
    "Визуализируйте полученные оценки на одном графике. Средние значения по 500 экспериментам для каждой оценки нужно обозначить звездочками.\n",
    "\n"
   ]
  },
  {
   "cell_type": "code",
   "execution_count": null,
   "metadata": {},
   "outputs": [],
   "source": [
    "# ваш код"
   ]
  },
  {
   "cell_type": "markdown",
   "metadata": {},
   "source": [
    "Напишите функцию построения таких графиков в общем виде: на вход функция может получать любые распределения (`distributions`) и любые оценки (`estimators`).\n",
    "\n",
    "\n"
   ]
  },
  {
   "cell_type": "code",
   "execution_count": null,
   "metadata": {},
   "outputs": [],
   "source": [
    "# ваш код"
   ]
  },
  {
   "cell_type": "markdown",
   "metadata": {},
   "source": [
    "Постройте три графика, аналогичных верхнему, для разных размеров выборок (10, 100, 500).\n"
   ]
  },
  {
   "cell_type": "code",
   "execution_count": null,
   "metadata": {},
   "outputs": [],
   "source": [
    "sample_size_list = (10, 100, 500)  # размеры выборок\n",
    "sample_count = 500  # количество экспериментов\n",
    "\n",
    "for sample_size in sample_size_list:\n",
    "    # ваш код"
   ]
  },
  {
   "cell_type": "markdown",
   "metadata": {},
   "source": [
    "Изучите поведение среднего оценок из первого пункта при росте размера $n$ выборки - постройте график зависимости среднего оценки по всем экспериментам от размера выборки. Для вычисления зависимости нужно один раз сгенерировать выборки из достаточно большого размера и посчитать оценки по префиксам, используя функции из `numpy`.\n",
    "\n",
    "\n"
   ]
  },
  {
   "cell_type": "code",
   "execution_count": null,
   "metadata": {},
   "outputs": [],
   "source": [
    "# ваш код"
   ]
  },
  {
   "cell_type": "markdown",
   "metadata": {},
   "source": [
    " Какие из оценок являются асимптотически несмещёнными (т.е. $\\forall \\theta \\in \\Theta\\colon \\mathsf{E}_\\theta \\widehat{\\theta} \\to \\theta$ при $n\\to +\\infty$)?"
   ]
  },
  {
   "cell_type": "markdown",
   "metadata": {},
   "source": [
    "#### **Ответ:**"
   ]
  },
  {
   "cell_type": "markdown",
   "metadata": {},
   "source": [
    "## Задача 6.\n",
    "\n",
    "Пусть $X_1, ..., X_n$ &mdash; выборка из распределения $Exp(\\theta)$. Как известно из теории, оценка $\\widehat{\\theta} = 1/\\overline{X}$ является *состоятельной* и *асимтотически нормальной* оценкой параметра $\\theta$ с асимптотической дисперсией $\\theta^2$. В этой задаче вам необходимо визуализировать данные свойства.\n",
    "\n"
   ]
  },
  {
   "cell_type": "markdown",
   "metadata": {},
   "source": [
    "Зададим параметры эксперимента"
   ]
  },
  {
   "cell_type": "code",
   "execution_count": null,
   "metadata": {},
   "outputs": [],
   "source": [
    "theta = 2  # истинное значение параметра\n",
    "sample_size = 300  # размер выборок\n",
    "sample_count = 500  # количество выборок\n",
    "n_range = (np.arange(sample_size) + 1)  # размеры подвыборок\n"
   ]
  },
  {
   "cell_type": "markdown",
   "metadata": {},
   "source": [
    "Сгенерируем множество выборок (количество выборок - `sample_count`, размер каждой выборки - `sample_size`)"
   ]
  },
  {
   "cell_type": "code",
   "execution_count": null,
   "metadata": {},
   "outputs": [],
   "source": [
    "# генерируем множество выборок, \n",
    "# параметр theta является обратным к параметру масштаба\n",
    "samples = sps.expon(scale=1/theta).rvs(size=(sample_count, sample_size))\n"
   ]
  },
  {
   "cell_type": "markdown",
   "metadata": {},
   "source": [
    "Вычислим оценки в зависимости от размера выборки, усредняем по последней оси"
   ]
  },
  {
   "cell_type": "code",
   "execution_count": null,
   "metadata": {},
   "outputs": [],
   "source": [
    "estimation = n_range / samples.cumsum(axis=1)"
   ]
  },
  {
   "cell_type": "markdown",
   "metadata": {},
   "source": [
    "Визуализируем для каждой выборки все оценки в зависимости от размера выборки.\n",
    "\n",
    "Что можно сказать о состоятельности данной оценки?"
   ]
  },
  {
   "cell_type": "code",
   "execution_count": null,
   "metadata": {},
   "outputs": [],
   "source": [
    "plt.figure(figsize=(15, 7))\n",
    "for i in range(sample_count):\n",
    "    plt.plot(np.arange(sample_size) + 1, estimation[i], color='blue', alpha=0.05)\n",
    "plt.title('Поведение оценки для разных реализаций')\n",
    "plt.xlabel('Размер выборки')\n",
    "plt.ylim((0, 5))\n",
    "plt.xlim((0, sample_size));"
   ]
  },
  {
   "cell_type": "markdown",
   "metadata": {},
   "source": [
    "#### **Ответ:**"
   ]
  },
  {
   "cell_type": "markdown",
   "metadata": {},
   "source": [
    "Добавим доверительный интервал для нашей оценки.\n",
    "\n",
    "Свойство *асимптотической нормальности* говорит о том, что с вероятностью около 0.95 при больших размерах выборки значение оценки отклоняется от истинного значения параметра не более чем на $2\\theta\\left/\\sqrt{n}\\right.$. Допишите код, чтобы на рисунок добавился доверительный интервал."
   ]
  },
  {
   "cell_type": "code",
   "execution_count": null,
   "metadata": {},
   "outputs": [],
   "source": [
    "plt.figure(figsize=(15, 7))\n",
    "for i in range(sample_count):\n",
    "    plt.plot(np.arange(sample_size) + 1, estimation[i], color='blue', alpha=0.05)\n",
    "\n",
    "# ваш код\n",
    "plt.title('Поведение оценки для разных реализаций')\n",
    "plt.xlabel('Размер выборки')\n",
    "plt.ylim((0, 5))\n",
    "plt.xlim((0, sample_size));"
   ]
  },
  {
   "cell_type": "markdown",
   "metadata": {},
   "source": [
    "**Вывод:** <...>"
   ]
  },
  {
   "cell_type": "markdown",
   "metadata": {},
   "source": [
    "Приблизим этот график в области малых размеров выборки (до 50). Какой вывод вы можете сделать?"
   ]
  },
  {
   "cell_type": "code",
   "execution_count": null,
   "metadata": {},
   "outputs": [],
   "source": [
    "# ваш код"
   ]
  },
  {
   "cell_type": "markdown",
   "metadata": {},
   "source": [
    "#### **Ответ:**"
   ]
  },
  {
   "cell_type": "markdown",
   "metadata": {},
   "source": [
    "## Задача 7.\n",
    "\n",
    "Пусть $X_1, \\ldots, X_n$ &mdash; выборка из распределения $\\mathcal{N}(a, \\sigma^2)$. Визуализируйте свойства состоятельности и асимптотической нормальности для оценки $S^2$ дисперсии $\\sigma^2$. \n"
   ]
  },
  {
   "cell_type": "markdown",
   "metadata": {},
   "source": [
    "### <b><font color=\"orange\">Сложная часть</font></b> \n"
   ]
  },
  {
   "cell_type": "markdown",
   "metadata": {},
   "source": [
    "## Задача 8\n",
    "Асимпотические доверительные интервалы ничего не могут гарантировать на малых размерах выборки.\n",
    "В этой задаче вам предстоит иллюстрировать этот факт, посчитав реальный уровень доверия для интервалов. \n",
    "\n",
    "**Реальный уровень доверия**  - доля случаев попадания истинного начения параметра в доверительный интервал для его оценки. \n",
    "\n",
    "*Пример:* вы проводите 100 экспериментов (создаете 100 выборок), для каждой выборки рассчитываете АДИ для оценки. Истинный параметр попадает в 93 интервала из 100, значит реальный уровень доверия в этом случае будет 0.93\n"
   ]
  },
  {
   "cell_type": "markdown",
   "metadata": {},
   "source": [
    "Сгенерируйте набор выборок из нормального распределения $\\mathcal{N}(\\theta, 1)$, $\\theta=0$"
   ]
  },
  {
   "cell_type": "code",
   "execution_count": null,
   "metadata": {},
   "outputs": [],
   "source": [
    "theta = 0  # истинное значение параметра\n",
    "samplr_size = 300  \n",
    "sample_count = 500 \n",
    "X = # ваш код"
   ]
  },
  {
   "cell_type": "markdown",
   "metadata": {},
   "source": [
    "Рассмотрим $\\hat{\\theta} = \\overline{X}$.\n",
    "\n",
    "Напоминание из теории:\n",
    "$$\\hat{\\theta} - \\frac{z_{\\frac{1+\\alpha}{2}}\\hat{\\sigma}}{\\sqrt{n}} < \\theta < \\hat{\\theta} + \\frac{z_{\\frac{1+\\alpha}{2}}\\hat{\\sigma}}{\\sqrt{n}}$$"
   ]
  },
  {
   "cell_type": "markdown",
   "metadata": {},
   "source": [
    "Посичтайте $z$ (используйте функцию `.ppf`)"
   ]
  },
  {
   "cell_type": "code",
   "execution_count": null,
   "metadata": {},
   "outputs": [],
   "source": [
    "z = # ваш код"
   ]
  },
  {
   "cell_type": "markdown",
   "metadata": {},
   "source": [
    "Постройте график зависимости реального уровня доверия от размера выборки. "
   ]
  },
  {
   "cell_type": "code",
   "execution_count": null,
   "metadata": {},
   "outputs": [],
   "source": [
    "# ваш код"
   ]
  },
  {
   "cell_type": "markdown",
   "metadata": {},
   "source": [
    "Сделайте выводы."
   ]
  },
  {
   "cell_type": "markdown",
   "metadata": {},
   "source": [
    "**Вывод:**"
   ]
  }
 ],
 "metadata": {
  "kernelspec": {
   "display_name": "Python 3",
   "language": "python",
   "name": "python3"
  },
  "language_info": {
   "codemirror_mode": {
    "name": "ipython",
    "version": 3
   },
   "file_extension": ".py",
   "mimetype": "text/x-python",
   "name": "python",
   "nbconvert_exporter": "python",
   "pygments_lexer": "ipython3",
   "version": "3.8.10"
  },
  "varInspector": {
   "cols": {
    "lenName": 16,
    "lenType": 16,
    "lenVar": 40
   },
   "kernels_config": {
    "python": {
     "delete_cmd_postfix": "",
     "delete_cmd_prefix": "del ",
     "library": "var_list.py",
     "varRefreshCmd": "print(var_dic_list())"
    },
    "r": {
     "delete_cmd_postfix": ") ",
     "delete_cmd_prefix": "rm(",
     "library": "var_list.r",
     "varRefreshCmd": "cat(var_dic_list()) "
    }
   },
   "types_to_exclude": [
    "module",
    "function",
    "builtin_function_or_method",
    "instance",
    "_Feature"
   ],
   "window_display": false
  },
  "vscode": {
   "interpreter": {
    "hash": "415525cc3f40ad8355b7c2a7d3b034c5d7bb85ff256d91eaa0aa6b53328ab0d3"
   }
  }
 },
 "nbformat": 4,
 "nbformat_minor": 5
}
