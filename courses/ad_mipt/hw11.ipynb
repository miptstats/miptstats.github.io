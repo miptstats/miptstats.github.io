{
 "cells": [
  {
   "attachments": {},
   "cell_type": "markdown",
   "metadata": {},
   "source": [
    "# <a href=\"https://miptstats.github.io/courses/ad_mipt.html\">Phystech@DataScience</a>\n",
    "## Домашнее задание 11\n",
    "\n",
    "**Правила, <font color=\"red\">прочитайте внимательно</font>:**\n",
    "\n",
    "* Выполненную работу нужно отправить телеграм-боту `@miptstats_pds_bot`. Для начала работы с ботом каждый раз отправляйте `/start`. **Работы, присланные иным способом, не принимаются.**\n",
    "* Дедлайн см. в боте. После дедлайна работы не принимаются кроме случаев наличия уважительной причины.\n",
    "* Прислать нужно ноутбук в формате `ipynb`.\n",
    "* Выполнять задание необходимо полностью самостоятельно. **При обнаружении списывания все участники списывания будут сдавать устный зачет.**\n",
    "* Решения, размещенные на каких-либо интернет-ресурсах, не принимаются. Кроме того, публикация решения в открытом доступе может быть приравнена к предоставлении возможности списать.\n",
    "* Для выполнения задания используйте этот ноутбук в качестве основы, ничего не удаляя из него. Можно добавлять необходимое количество ячеек.\n",
    "* Комментарии к решению пишите в markdown-ячейках.\n",
    "* Выполнение задания (ход решения, выводы и пр.) должно быть осуществлено на русском языке.\n",
    "* Если код будет не понятен проверяющему, оценка может быть снижена.\n",
    "* Никакой код из данного задания при проверке запускаться не будет. *Если код студента не выполнен, недописан и т.д., то он не оценивается.*\n",
    "* **Код из рассказанных на занятиях ноутбуков можно использовать без ограничений.**\n",
    "\n",
    "**Правила оформления теоретических задач:**\n",
    "\n",
    "* Решения необходимо прислать одним из следующих способов:\n",
    "  * фотографией в правильной ориентации, где все четко видно, а почерк разборчив,\n",
    "    * отправив ее как файл боту вместе с ноутбуком *или*\n",
    "    * вставив ее в ноутбук посредством `Edit -> Insert Image` (<font color=\"red\">фото, вставленные ссылкой, не принимаются</font>);\n",
    "  * в виде $\\LaTeX$ в markdown-ячейках.\n",
    "* Решения не проверяются, если какое-то требование не выполнено. Особенно внимательно все проверьте в случае выбора второго пункта (вставки фото в ноутбук). <font color=\"red\"><b>Неправильно вставленные фотографии могут не передаться при отправке.</b></font> Для проверки попробуйте переместить `ipynb` в другую папку и открыть его там.\n",
    "* В решениях поясняйте, чем вы пользуетесь, хотя бы кратко. Например, если пользуетесь независимостью, то достаточно подписи вида \"*X и Y незав.*\"\n",
    "* Решение, в котором есть только ответ, и отсутствуют вычисления, оценивается в 0 баллов.\n",
    "\n",
    "**Баллы за задание:**\n",
    "\n",
    "<b><font color=\"blue\">Легкая часть</font></b> (достаточно на \"хор\"):\n",
    "* Задача 1 &mdash;  50 баллов\n",
    "\n",
    "<b><font color=\"orange\">Легкая часть</font></b> (необходимо на \"отл\"):\n",
    "* Задача 2 &mdash;  40 баллов\n",
    "\n",
    "\n",
    "\n",
    "\n",
    "\n",
    "\n",
    "\n",
    "-----"
   ]
  },
  {
   "cell_type": "code",
   "execution_count": null,
   "metadata": {},
   "outputs": [],
   "source": [
    "# Bot check\n",
    "\n",
    "# HW_ID: phds_hw11\n",
    "# Бот проверит этот ID и предупредит, если случайно сдать что-то не то.\n",
    "\n",
    "# Status: not final\n",
    "# Перед отправкой в финальном решении удали \"not\" в строчке выше.\n",
    "# Так бот проверит, что ты отправляешь финальную версию, а не промежуточную.\n",
    "# Никакие значения в этой ячейке не влияют на факт сдачи работы."
   ]
  },
  {
   "cell_type": "code",
   "execution_count": null,
   "metadata": {},
   "outputs": [],
   "source": [
    "import pandas as pd\n",
    "import matplotlib.pyplot as plt\n",
    "import numpy as np\n"
   ]
  },
  {
   "attachments": {},
   "cell_type": "markdown",
   "metadata": {},
   "source": [
    "Импорты из sklearn:"
   ]
  },
  {
   "cell_type": "code",
   "execution_count": null,
   "metadata": {},
   "outputs": [],
   "source": [
    "from sklearn.metrics import mean_squared_error, mean_absolute_error, mean_absolute_percentage_error\n",
    "<...>"
   ]
  },
  {
   "attachments": {},
   "cell_type": "markdown",
   "metadata": {},
   "source": [
    "## Задача 1"
   ]
  },
  {
   "cell_type": "code",
   "execution_count": null,
   "metadata": {},
   "outputs": [],
   "source": [
    "def plot_results(y_to_train, y_to_test, y_forecast, title): \n",
    "    \"\"\"\n",
    "    Функция для визуализации временного ряда и предсказания.\n",
    "    Параметры:\n",
    "        - y_to_train: pd.Series размер T_train\n",
    "            Временной ряд, на котором обучалась модель.\n",
    "        - y_to_test: pd.Series размер T_test\n",
    "            Временной ряд, который предсказывает модель.\n",
    "        - y_forecast: array размер T_test\n",
    "            Предсказания модели.\n",
    "        - title: str\n",
    "            Название графика\n",
    "    \"\"\"\n",
    "    \n",
    "    plt.figure(figsize=(15, 5))\n",
    "    plt.title(title, fontsize=15) \n",
    "    plt.plot(y_to_train, label=\"train\")\n",
    "    plt.plot(y_to_test, label=\"test\")\n",
    "    plt.plot(y_to_test.index, y_forecast, label=\"prediction\") \n",
    "    plt.legend()\n",
    "    plt.show()\n",
    "\n",
    "def calc_metrics(y_true, y_pred):\n",
    "    \"\"\"\n",
    "    Функция для подсчета метрик качества прогноза\n",
    "    Параметры:\n",
    "        - y_true: np.array, pd.Series,  размер T_test\n",
    "            Вектор истинных значений таргета\n",
    "        - y_pred: np.array, pd.Series, размер T_test\n",
    "            Векотр предсказанных знаяений таргета\n",
    "    \"\"\"\n",
    "\n",
    "    print('MSE: ', mean_squared_error(y_true, y_pred))\n",
    "    print('MAE: ', mean_absolute_error(y_true, y_pred))\n",
    "    print('MAPE: ', mean_absolute_percentage_error(y_true, y_pred))\n",
    "\n",
    "\n",
    "def create_date_features(date):\n",
    "    \"\"\"Создает фичи из даты\"\"\"\n",
    "    \n",
    "    row = {}\n",
    "    row['dayofweek'] = date.dayofweek\n",
    "    row['quarter'] = date.quarter\n",
    "    row['month'] = date.month\n",
    "    row['year'] = date.year\n",
    "    row['dayofyear'] = date.dayofyear\n",
    "    row['dayofmonth'] = date.day\n",
    "    row['weekofyear'] = date.weekofyear\n",
    "    return row\n",
    "\n",
    "\n",
    "def create_only_date_train_features(y_series):\n",
    "    \"\"\"\n",
    "        Создает обучающий датасет из признаков, полученных из дат для y_series\n",
    "    \"\"\"\n",
    "    \n",
    "    time_features = pd.DataFrame([create_date_features(date) for date in y_series.index])\n",
    "    return time_features, y_series\n",
    "\n",
    "\n",
    "def create_shifted_features(\n",
    "    y_series, shifts=5, week_seasonal_shifts=1, year_seasonal_shifts=1\n",
    "):\n",
    "    \"\"\"\n",
    "    Создает обучающий датасет из признаков, полученных из дат и значений ряда ранее.\n",
    "    При этом используются значения ряда со сдвигами на неделю и год назад.\n",
    "    Параметры:\n",
    "        - y_series: pd.Series, размер T\n",
    "            временной ряд.\n",
    "        - shifts: int\n",
    "            дневной сдвиг (сколько дней учитываем).\n",
    "        - week_seasonal_shifts: int\n",
    "            недельный сдвиг (сколько недель учитываем).\n",
    "        - year_seasonal_shifts: int\n",
    "            годовой сдвиг (сколько лет учитываем).\n",
    "    \"\"\"\n",
    "    \n",
    "    curr_df, y = create_only_date_train_features(y_series)\n",
    "    curr_df.index = y_series.index\n",
    "\n",
    "    # применяем сдвиг по дням\n",
    "    for shift in range(1, shifts + 1):\n",
    "        curr_df[f'shift_{shift}'] = y_series.shift(shift, axis=0)\n",
    "\n",
    "    # применяем сдвиг по неделям\n",
    "    <...>\n",
    "    \n",
    "    # применяем сдвиг по годам\n",
    "    <...>\n",
    "\n",
    "    y = y_series\n",
    "    \n",
    "    # удалим первые строчки с nan\n",
    "    drop_indices = curr_df.index[curr_df.isna().sum(axis=1) > 0]\n",
    "    curr_df = curr_df.drop(index=drop_indices)\n",
    "    y = y.drop(index=drop_indices)\n",
    "    return curr_df, y\n",
    "\n",
    "\n",
    "\n",
    "\n",
    "def recursive_prediction(model, test_dates, y_to_train, features_creation_function):\n",
    "    \"\"\"\n",
    "    Функция для рекурсивного предсказания для дат, указанных в test_dates.\n",
    "    \n",
    "    Параметры:\n",
    "        - model\n",
    "            Обученная МЛ-модель.\n",
    "        - test_dates\n",
    "            массив с датами, в которые надо сделать предсказания.\n",
    "        - y_to_train\n",
    "            Предыдущие значения\n",
    "        - features_creation_function\n",
    "            функция для создания тестовых признаков\n",
    "    \"\"\"\n",
    "\n",
    "    predictions = []\n",
    "    previous_y = list(y_to_train)\n",
    "    \n",
    "    for date in test_dates:\n",
    "\n",
    "        # получаем признаки для тестовых данных из тестовой даты и предыдущих значений\n",
    "        row = features_creation_function(date, previous_y)\n",
    "        curr_test = pd.DataFrame([row])\n",
    "\n",
    "        # выоплняем предсказание моделью\n",
    "        curr_prediction = <...>\n",
    "\n",
    "        # добавляем текущее предсказание к предыдущем значениям в список previous_y\n",
    "        <...>\n",
    "\n",
    "        # сохраняем текущее предсказание для вердикта на тесте в список predictions\n",
    "        <...>\n",
    "    \n",
    "    return np.array(predictions)"
   ]
  },
  {
   "attachments": {},
   "cell_type": "markdown",
   "metadata": {},
   "source": [
    "#### **Профиль физика**\n",
    "\n",
    "В этом задании мы будем работать с данными о загрязнении воздуха в Пекине, которые можно скачать [здесь](https://archive.ics.uci.edu/ml/datasets/Beijing+Multi-Site+Air-Quality+Data). В этой папке представлены несколько таблиц, данные в них сняты с различных станций. Для дальнейшей работы выберите любую таблицу.\n",
    "\n",
    " В данных представлены следующие колонки:\n",
    "\n",
    "* `year, month, day, hour`  &mdash; год, месяц, день и час измерения\n",
    "\n",
    "* `PM2.5` концентрация PM2.5 (ug/m^3). `PM2.5` &mdash; описывает мелкие вдыхаемые частицы, диаметр которых обычно составляет 2,5 микрометра и меньше.\n",
    "* `PM10` концентрация PM10 (ug/m^3). `PM10` &mdash; любые твердые частицы в воздухе диаметром 10 микрометров или меньше, включая дым, пыль, сажу, соли, кислоты и металлы.\n",
    "* `SO2`: концентрация SO2 (ug/m^3),\n",
    "* `NO2`: концентрация NO2 (ug/m^3),\n",
    "* `CO`: концентрация CO (ug/m^3),\n",
    "* `O3`: концентрация O3 (ug/m^3),\n",
    "* `TEMP`: температура (degree Celsius),\n",
    "* `PRES`: давление (hPa=100Pa),\n",
    "* `DEWP`: температура точки росы (degree Celsius),\n",
    "* `RAIN`: атмосферные осадки (mm),\n",
    "* `wd`: направление ветра,\n",
    "* `WSPM`: скорость ветра (m/s),\n",
    "* `station`: название станции.\n",
    "\n",
    "Таргетом в этой задаче будет показатель загрязнения воздуха `PM10`."
   ]
  },
  {
   "cell_type": "code",
   "execution_count": null,
   "metadata": {},
   "outputs": [],
   "source": [
    "data = <...>"
   ]
  },
  {
   "attachments": {},
   "cell_type": "markdown",
   "metadata": {},
   "source": [
    "Колонка с исходными датами здесь отсутствует. Создадим ее сами и поставим вместо индекса."
   ]
  },
  {
   "cell_type": "code",
   "execution_count": null,
   "metadata": {},
   "outputs": [],
   "source": [
    "data['date'] = pd.to_datetime(data[['year', 'month', 'day']])\n",
    "data = data.set_index('date')\n",
    "data"
   ]
  },
  {
   "attachments": {},
   "cell_type": "markdown",
   "metadata": {},
   "source": [
    "Удалим ненужные колонки."
   ]
  },
  {
   "cell_type": "code",
   "execution_count": null,
   "metadata": {},
   "outputs": [],
   "source": [
    "data = data.drop(['No', 'station', 'wd'], axis=1)\n"
   ]
  },
  {
   "attachments": {},
   "cell_type": "markdown",
   "metadata": {},
   "source": [
    "Проверьте, есть ли в данным пропуски. Если да - удалите эти строки."
   ]
  },
  {
   "cell_type": "code",
   "execution_count": null,
   "metadata": {},
   "outputs": [],
   "source": [
    "<...>"
   ]
  },
  {
   "attachments": {},
   "cell_type": "markdown",
   "metadata": {},
   "source": [
    "Визуализируйте временные ряды для колонок, описывающих химические и физические свойства (т. е. для всех колонок, кроме временных признаков)"
   ]
  },
  {
   "cell_type": "code",
   "execution_count": null,
   "metadata": {},
   "outputs": [],
   "source": [
    "<...>"
   ]
  },
  {
   "attachments": {},
   "cell_type": "markdown",
   "metadata": {},
   "source": [
    "Какие закономерности вы видите на графиках?"
   ]
  },
  {
   "attachments": {},
   "cell_type": "markdown",
   "metadata": {},
   "source": [
    "**Ответ:**"
   ]
  },
  {
   "attachments": {},
   "cell_type": "markdown",
   "metadata": {},
   "source": [
    "Сгенерируйте новые временные признаки, основываясь на графиках выше. Допишите функцию для создания данных со сдвигом `create_shifted_features`. Помните, что у нас данные поступают каждый час, то есть сдвиг на 1 отвечает сдвигу на 1 час, сдвиг 24 отвечает сдвигу на 1 день, сдвиг на 7*24 отвечает сдвигу на месяц. \n",
    "\n",
    "*Указание:* эту функцию нужно использовать для **таргета**!"
   ]
  },
  {
   "cell_type": "code",
   "execution_count": null,
   "metadata": {},
   "outputs": [],
   "source": [
    "<...>"
   ]
  },
  {
   "attachments": {},
   "cell_type": "markdown",
   "metadata": {},
   "source": [
    "Отделите таргет от признаков. К физическим признакам добавьте временные, полученные в ячейке выше."
   ]
  },
  {
   "cell_type": "code",
   "execution_count": null,
   "metadata": {},
   "outputs": [],
   "source": [
    "<...>"
   ]
  },
  {
   "attachments": {},
   "cell_type": "markdown",
   "metadata": {},
   "source": [
    "Разбейте ваши данные таким образом, чтобы в тесте остался последние 20% измерений."
   ]
  },
  {
   "cell_type": "code",
   "execution_count": null,
   "metadata": {},
   "outputs": [],
   "source": [
    "<...>"
   ]
  },
  {
   "attachments": {},
   "cell_type": "markdown",
   "metadata": {},
   "source": [
    "Обучите линейную регрессию с регуляризацией и случайный лес на ваших данных. Допишите функцию `recursive_prediction`.  Посчитайте метрики с помощью функции `calc_metrics`."
   ]
  },
  {
   "cell_type": "code",
   "execution_count": null,
   "metadata": {},
   "outputs": [],
   "source": [
    "<...>"
   ]
  },
  {
   "attachments": {},
   "cell_type": "markdown",
   "metadata": {},
   "source": [
    "Визуализируйте полученные прогнозы с помощью функции `plot_results`."
   ]
  },
  {
   "cell_type": "code",
   "execution_count": null,
   "metadata": {},
   "outputs": [],
   "source": [
    "<...>"
   ]
  },
  {
   "attachments": {},
   "cell_type": "markdown",
   "metadata": {},
   "source": [
    "Сделайте выводы."
   ]
  },
  {
   "attachments": {},
   "cell_type": "markdown",
   "metadata": {},
   "source": [
    "**Вывод:** <...>"
   ]
  },
  {
   "attachments": {},
   "cell_type": "markdown",
   "metadata": {},
   "source": [
    "#### **Профиль биология**\n",
    "\n",
    "### Загрузка данных\n",
    "В этом задании вы будете работать с данными о распространении COVID-19, их можно скачать [здесь](https://www.kaggle.com/datasets/gpreda/coronavirus-2019ncov). Мы будем предказывать показатель смертности, потому что способы измерения выздоровевших и заболевших разнятся между регионами.\n",
    "\n",
    " В данных представлены следующие столбцы:\n",
    "\n",
    "* `Country/Region` &mdash; страна или регион,\n",
    "\n",
    "* `Province/State` &mdash; город или населенный пункт,\n",
    "* `Latitude` &mdash; географическая широта,\n",
    "* `Longitude` &mdash; географическая долгота,\n",
    "* `Confirmed` &mdash; кол-во подтвержденных случаев заболевания,\n",
    "* `Recovered` &mdash; кол-во подтвержденных случаев выздоровления,\n",
    "* `Deaths` &mdash; кол-во смертей,\n",
    "* `Date` &mdash; дата. "
   ]
  },
  {
   "attachments": {},
   "cell_type": "markdown",
   "metadata": {},
   "source": [
    "Загрузим данные."
   ]
  },
  {
   "cell_type": "code",
   "execution_count": null,
   "metadata": {},
   "outputs": [],
   "source": [
    "data = <...>"
   ]
  },
  {
   "attachments": {},
   "cell_type": "markdown",
   "metadata": {},
   "source": [
    "Колонку `Date` преобразуем к правильному типу данных и поставим вместо индексов."
   ]
  },
  {
   "cell_type": "code",
   "execution_count": null,
   "metadata": {},
   "outputs": [],
   "source": [
    "data['Date'] = pd.to_datetime(data['Date'])\n",
    "data = data.set_index('Date')"
   ]
  },
  {
   "attachments": {},
   "cell_type": "markdown",
   "metadata": {},
   "source": [
    "Выберите любую страну из колонки `Country/Region` и любой крупный город из колонки `Province/State` (значения `Deaths` не должны опускаться ниже 2500). Обрежьте ваш датасет, чтобы в нем осталась информация только о выбранном городе."
   ]
  },
  {
   "cell_type": "code",
   "execution_count": null,
   "metadata": {},
   "outputs": [],
   "source": [
    "<...>"
   ]
  },
  {
   "attachments": {},
   "cell_type": "markdown",
   "metadata": {},
   "source": [
    "Оставьте в ваших данных только столбец `Deaths`."
   ]
  },
  {
   "cell_type": "code",
   "execution_count": null,
   "metadata": {},
   "outputs": [],
   "source": [
    "<...>"
   ]
  },
  {
   "attachments": {},
   "cell_type": "markdown",
   "metadata": {},
   "source": [
    "Визуализируйте, как изменяется таргет с течением времени. Какие зависимости вы можете увидеть?"
   ]
  },
  {
   "cell_type": "code",
   "execution_count": null,
   "metadata": {},
   "outputs": [],
   "source": [
    "<...>"
   ]
  },
  {
   "attachments": {},
   "cell_type": "markdown",
   "metadata": {},
   "source": [
    "**Ответ:**<...>"
   ]
  },
  {
   "attachments": {},
   "cell_type": "markdown",
   "metadata": {},
   "source": [
    "Сгенерируйте новые временные признаки, основываясь на графиках выше. Допишите функцию для создания данных со сдвигом `create_shifted_features`. Помните, что у нас данные поступают каждый день, то есть сдвиг на 1 отвечает сдвигу на 1 день, сдвиг 7 отвечает сдвигу на 1 неделю, сдвиг на 365 отвечает сдвигу на год. \n",
    "\n"
   ]
  },
  {
   "cell_type": "code",
   "execution_count": null,
   "metadata": {},
   "outputs": [],
   "source": [
    "<...>"
   ]
  },
  {
   "attachments": {},
   "cell_type": "markdown",
   "metadata": {},
   "source": [
    "Разбейте ваши данные таким образом, чтобы в тесте остался последние 20% измерений."
   ]
  },
  {
   "cell_type": "code",
   "execution_count": null,
   "metadata": {},
   "outputs": [],
   "source": [
    "<...>"
   ]
  },
  {
   "attachments": {},
   "cell_type": "markdown",
   "metadata": {},
   "source": [
    "Обучите линейную регрессию с регуляризацией и случайный лес на ваших данных. Допишите функцию `recursive_prediction`. Посчитайте метрики с помощью функции `calc_metrics`."
   ]
  },
  {
   "cell_type": "code",
   "execution_count": null,
   "metadata": {},
   "outputs": [],
   "source": [
    "<...>"
   ]
  },
  {
   "attachments": {},
   "cell_type": "markdown",
   "metadata": {},
   "source": [
    "Визуализируйте полученные прогнозы с помощью функции `plot_results`."
   ]
  },
  {
   "cell_type": "code",
   "execution_count": null,
   "metadata": {},
   "outputs": [],
   "source": [
    "<...>"
   ]
  },
  {
   "attachments": {},
   "cell_type": "markdown",
   "metadata": {},
   "source": [
    "Сделайте выводы."
   ]
  },
  {
   "attachments": {},
   "cell_type": "markdown",
   "metadata": {},
   "source": [
    "**Вывод:** <...>"
   ]
  },
  {
   "attachments": {},
   "cell_type": "markdown",
   "metadata": {},
   "source": [
    "## Задача 2\n",
    "\n",
    "Вспомним, что при построении деревьев в задаче регрессии для каждого листа вычисляется среднее по всем обучающим объектам, которые попали в данный лист. Тем самым значение в листе лежит в пределах области значений таргета на обучении (не превосходит максимального, не меньше минимального). В связи с этим деревья не могут предсказывать значения за пределами этой области. Зависимости в задачах временных рядов не редко имеют некоторый тренд, например, значения на тестовой части временного ряда могут оказаться вне области значений обучающей части ряда. Это означает, что решающее дерево не сможет построить хороший прогноз временного ряда. Проблема также распространяется на случайный лес. \n",
    "\n",
    "В данной задаче вы реализуете другой способ прогнозирования временных рядов, который может решить эту проблему."
   ]
  },
  {
   "attachments": {},
   "cell_type": "markdown",
   "metadata": {},
   "source": [
    "Исследуйте `Ridge`, `Lasso` и `ElasticNet` с различными параметрами на данных из предыдущей задачи. Подберите лучшую линейную модель."
   ]
  },
  {
   "cell_type": "code",
   "execution_count": null,
   "metadata": {},
   "outputs": [],
   "source": [
    "<...>\n",
    "\n",
    "y_pred = <...>"
   ]
  },
  {
   "attachments": {},
   "cell_type": "markdown",
   "metadata": {},
   "source": [
    "Посчитайте остатки прогноза вашей модели на тренировочной выборке. Остатком является разность истинного значния и спрогнозированного."
   ]
  },
  {
   "cell_type": "code",
   "execution_count": null,
   "metadata": {},
   "outputs": [],
   "source": [
    "<...>"
   ]
  },
  {
   "attachments": {},
   "cell_type": "markdown",
   "metadata": {},
   "source": [
    "Теперь сделаем необычный ход &mdash; научим случайный лес предсказывать ошибку линейной модели. Для этого за `Х` возьмем исходные признаки, а за `y` - вектор разностей, который вы посчитали в ячейке выше."
   ]
  },
  {
   "attachments": {},
   "cell_type": "markdown",
   "metadata": {},
   "source": [
    "Предскажем ошибку линейной модели на тестовой выборке. Получим вектор предсказанных ошибок."
   ]
  },
  {
   "cell_type": "code",
   "execution_count": null,
   "metadata": {},
   "outputs": [],
   "source": [
    "errors_pred = <...>"
   ]
  },
  {
   "attachments": {},
   "cell_type": "markdown",
   "metadata": {},
   "source": [
    "Теперь сложим прогноз линейной модели для тестовой выборки и прогноз ошибок случайного леса для этой же тестовой выборки. Посчитайте метрики для полученного вектора."
   ]
  },
  {
   "cell_type": "code",
   "execution_count": null,
   "metadata": {},
   "outputs": [],
   "source": [
    "calc_metrics(y_test, y_pred+errors_pred)"
   ]
  },
  {
   "attachments": {},
   "cell_type": "markdown",
   "metadata": {},
   "source": [
    "Визуализируйте новый прогноз."
   ]
  },
  {
   "cell_type": "code",
   "execution_count": null,
   "metadata": {},
   "outputs": [],
   "source": [
    "<...>"
   ]
  },
  {
   "attachments": {},
   "cell_type": "markdown",
   "metadata": {},
   "source": [
    "Сделайте вывод."
   ]
  },
  {
   "attachments": {},
   "cell_type": "markdown",
   "metadata": {},
   "source": [
    "**Вывод:**<...>"
   ]
  },
  {
   "attachments": {},
   "cell_type": "markdown",
   "metadata": {},
   "source": [
    "Процедура, которую вы сейчас провели, называется **бустинг**. В этой модели последовательно объединяются деревья, которые учатся предсказывать ошибку предыдущего дерева. Благодаря такой схеме модели удается достичь высокого качества. Подробнее с бустингом мы ознакомимся в следующем семестре."
   ]
  }
 ],
 "metadata": {
  "colab": {
   "collapsed_sections": [],
   "name": "SVM_hw.ipynb",
   "provenance": []
  },
  "kernelspec": {
   "display_name": "Python 3",
   "language": "python",
   "name": "python3"
  },
  "language_info": {
   "codemirror_mode": {
    "name": "ipython",
    "version": 3
   },
   "file_extension": ".py",
   "mimetype": "text/x-python",
   "name": "python",
   "nbconvert_exporter": "python",
   "pygments_lexer": "ipython3",
   "version": "3.10.4"
  },
  "varInspector": {
   "cols": {
    "lenName": 16,
    "lenType": 16,
    "lenVar": 40
   },
   "kernels_config": {
    "python": {
     "delete_cmd_postfix": "",
     "delete_cmd_prefix": "del ",
     "library": "var_list.py",
     "varRefreshCmd": "print(var_dic_list())"
    },
    "r": {
     "delete_cmd_postfix": ") ",
     "delete_cmd_prefix": "rm(",
     "library": "var_list.r",
     "varRefreshCmd": "cat(var_dic_list()) "
    }
   },
   "types_to_exclude": [
    "module",
    "function",
    "builtin_function_or_method",
    "instance",
    "_Feature"
   ],
   "window_display": false
  }
 },
 "nbformat": 4,
 "nbformat_minor": 1
}
