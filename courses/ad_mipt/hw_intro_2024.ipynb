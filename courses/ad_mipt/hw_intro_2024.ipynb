{
 "cells": [
  {
   "cell_type": "markdown",
   "id": "df2330a21b4fb0f0",
   "metadata": {
    "collapsed": false,
    "jupyter": {
     "outputs_hidden": false
    }
   },
   "source": [
    "# <a href=\"https://miptstats.github.io/courses/ad_mipt.html\">Phystech@DataScience</a>\n",
    "## Домашнее задание 1\n",
    "\n",
    "**Правила, <font color=\"red\">прочитайте внимательно</font>:**\n",
    "\n",
    "* Выполненную работу нужно отправить телеграм-боту `@miptstats_pds_bot`. Для начала работы с ботом каждый раз отправляйте `/start`. **Работы, присланные иным способом, не принимаются.**\n",
    "* Дедлайн см. в боте. После дедлайна работы не принимаются кроме случаев наличия уважительной причины.\n",
    "* Прислать нужно ноутбук в формате `ipynb`.\n",
    "* Выполнять задание необходимо полностью самостоятельно. **При обнаружении списывания все участники списывания будут сдавать устный зачет.**\n",
    "* Решения, размещенные на каких-либо интернет-ресурсах, не принимаются. Кроме того, публикация решения в открытом доступе может быть приравнена к предоставлении возможности списать.\n",
    "* Для выполнения задания используйте этот ноутбук в качестве основы, ничего не удаляя из него. Можно добавлять необходимое количество ячеек.\n",
    "* Комментарии к решению пишите в markdown-ячейках.\n",
    "* Выполнение задания (ход решения, выводы и пр.) должно быть осуществлено на русском языке.\n",
    "* Если код будет не понятен проверяющему, оценка может быть снижена.\n",
    "* Никакой код из данного задания при проверке запускаться не будет. *Если код студента не выполнен, недописан и т.д., то он не оценивается.*\n",
    "* **Код из рассказанных на занятиях ноутбуков можно использовать без ограничений.**\n",
    "\n",
    "**Правила оформления теоретических задач:**\n",
    "\n",
    "* Решения необходимо прислать одним из следующих способов:\n",
    "  * фотографией в правильной ориентации, где все четко видно, а почерк разборчив,\n",
    "    * отправив ее как файл боту вместе с ноутбуком *или*\n",
    "    * вставив ее в ноутбук посредством `Edit -> Insert Image` (<font color=\"red\">фото, вставленные ссылкой, не принимаются</font>);\n",
    "  * в виде $\\LaTeX$ в markdown-ячейках.\n",
    "* Решения не проверяются, если какое-то требование не выполнено. Особенно внимательно все проверьте в случае выбора второго пункта (вставки фото в ноутбук). <font color=\"red\"><b>Неправильно вставленные фотографии могут не передаться при отправке.</b></font> Для проверки попробуйте переместить `ipynb` в другую папку и открыть его там.\n",
    "* В решениях поясняйте, чем вы пользуетесь, хотя бы кратко. Например, если пользуетесь независимостью, то достаточно подписи вида \"*X и Y незав.*\"\n",
    "* Решение, в котором есть только ответ, и отсутствуют вычисления, оценивается в 0 баллов.\n",
    "\n",
    "**Баллы за задание:**\n",
    "\n",
    "<b><font color=\"blue\">Легкая часть</font></b>:\n",
    "* Задача 1 (20 баллов)\n",
    "* Задача 2 (40 баллов)\n",
    "* Задача 3 (40 баллов)\n",
    "\n",
    "<b><font color=\"orange\">Сложная часть</font></b>:\n",
    "* Задача 4 (30 баллов)\n",
    "* Задача 5 (40 баллов)\n",
    "\n",
    "\n",
    "-----"
   ]
  },
  {
   "cell_type": "code",
   "execution_count": null,
   "id": "26c190f9",
   "metadata": {},
   "outputs": [],
   "source": [
    "# Bot check\n",
    "\n",
    "# HW_ID: phds_hw1\n",
    "# Бот проверит этот ID и предупредит, если случайно сдать что-то не то.\n",
    "\n",
    "# Status: not final\n",
    "# Перед отправкой в финальном решении удали \"not\" в строчке выше.\n",
    "# Так бот проверит, что ты отправляешь финальную версию, а не промежуточную.\n",
    "# Никакие значения в этой ячейке не влияют на факт сдачи работы."
   ]
  },
  {
   "cell_type": "code",
   "execution_count": 24,
   "id": "201535e099620c9e",
   "metadata": {
    "ExecuteTime": {
     "end_time": "2024-02-09T14:17:48.585599Z",
     "start_time": "2024-02-09T14:17:48.512895Z"
    },
    "collapsed": false,
    "jupyter": {
     "outputs_hidden": false
    }
   },
   "outputs": [],
   "source": [
    "import pandas as pd\n",
    "import numpy as np\n",
    "import scipy.stats as sps\n",
    "import matplotlib.pyplot as plt\n",
    "import seaborn as sns\n",
    "sns.set(style='white')\n",
    "\n",
    "%matplotlib inline"
   ]
  },
  {
   "cell_type": "markdown",
   "id": "86baa84724f44155",
   "metadata": {
    "collapsed": false,
    "jupyter": {
     "outputs_hidden": false
    }
   },
   "source": [
    "Для выполнения задания вы можете установить свою палитру цветов при отрисовке графиков с помощью кода ниже. Если введете несуществующее имя, то вам напечатается список возможных палитр. Также вы можете устанавливать свои цвета конкретным объектам на графиках, обычно это делается с помощью аргумента `color`."
   ]
  },
  {
   "cell_type": "code",
   "execution_count": 25,
   "id": "c4b46d031f2067f0",
   "metadata": {
    "ExecuteTime": {
     "end_time": "2024-02-09T14:17:49.684381Z",
     "start_time": "2024-02-09T14:17:49.626449Z"
    },
    "collapsed": false,
    "jupyter": {
     "outputs_hidden": false
    }
   },
   "outputs": [],
   "source": [
    "sns.set_palette('Set2')"
   ]
  },
  {
   "cell_type": "markdown",
   "id": "dc45818ba6e1aabb",
   "metadata": {
    "collapsed": false,
    "jupyter": {
     "outputs_hidden": false
    }
   },
   "source": [
    "<b><i><font color=\"blue\">Легкая часть</font></i></b>\n",
    "\n",
    "### Задача 1\n",
    "Изобразите график параметрически заданной функции. Переменные необходимо задавать с помощью Numpy.\n",
    "\n",
    "$$ x=\\alpha\\times\\left(\\cos t+\\frac{cos(\\beta t)}{\\beta}\\right)$$\n",
    "\n",
    "$$y=\\alpha\\times\\left(\\sin t−\\frac{sin(\\beta t)}{\\beta}\\right)$$\n",
    "\n",
    "$$t∈[0;20π]$$ \n",
    "\n",
    "1. Реализуйте функции $x(t, \\alpha, \\beta)$ и $y(t, \\alpha, \\beta)$"
   ]
  },
  {
   "cell_type": "code",
   "execution_count": null,
   "id": "92d2c2014ca1c2d9",
   "metadata": {
    "collapsed": false,
    "jupyter": {
     "outputs_hidden": false
    }
   },
   "outputs": [],
   "source": [
    "# Ваш код здесь"
   ]
  },
  {
   "cell_type": "markdown",
   "id": "fe87111deb25b35a",
   "metadata": {
    "collapsed": false,
    "jupyter": {
     "outputs_hidden": false
    }
   },
   "source": [
    "2. Постройте график в осях $x$ и $y$ при $\\alpha=4$ и $\\beta=1.1$. Подпишите оси."
   ]
  },
  {
   "cell_type": "code",
   "execution_count": null,
   "id": "d0e2bebef19a02e8",
   "metadata": {
    "collapsed": false,
    "jupyter": {
     "outputs_hidden": false
    }
   },
   "outputs": [],
   "source": [
    "# Ваш код здесь"
   ]
  },
  {
   "cell_type": "markdown",
   "id": "68dc5613c723e494",
   "metadata": {
    "collapsed": false,
    "jupyter": {
     "outputs_hidden": false
    }
   },
   "source": [
    "3. Постройте графики для различных значений $\\alpha$ и $\\beta$.  \n",
    "- $\\alpha$ : [2, 4, 6, 8, 10]  \n",
    "- $\\beta$ : [1.2, 1.8, 2, 5, 10]  \n",
    "\n",
    "У вас должна получиться сетка 5х5 графиков. На каждом графике укажите параметры $\\alpha$ и $\\beta$."
   ]
  },
  {
   "cell_type": "code",
   "execution_count": null,
   "id": "92e68d3275f94a38",
   "metadata": {
    "collapsed": false,
    "jupyter": {
     "outputs_hidden": false
    }
   },
   "outputs": [],
   "source": [
    "# Ваш код здесь"
   ]
  },
  {
   "cell_type": "markdown",
   "id": "175af4df8208c92e",
   "metadata": {
    "collapsed": false,
    "jupyter": {
     "outputs_hidden": false
    }
   },
   "source": [
    "### Задача 2\n",
    "\n",
    "Для выполнения задания выберите любой профиль, в течении 1-2 недель его можно поменять.\n",
    "\n",
    "**Профиль биология**\n",
    "\n",
    "Скачайте <a href=\"https://www.kaggle.com/ruslankl/mice-protein-expression\n",
    "\">датасет</a> с данными об экспрессии белков у белых мышей. Данный датасет состоит из таблицы значений уровней экспрессии 77 различных белков в мозге у мышей. Каждая строка соответствует одной особи, каждый столбец соответствует одному белку. На столбцы Genotype, Treatment и подобные пока не обращаем внимания. \n",
    "\n",
    "Для исследования рекомендуется выбрать столбцы 'ITSN1_N', 'DYRK1A_N', 'pBRAF_N', 'pCREB_N', но можно взять и другие.\n",
    "\n",
    "**Профиль физика**\n",
    "\n",
    "Скачайте <a href=\"https://www.kaggle.com/fedesoriano/cern-electron-collision-data\n",
    "\">датасет</a> с данными о столкновении электронов на Большом Адронном Коллайдере. \n",
    "\n",
    "Данный датасет  содержит информацию о событиях столкновения двух электронов. Он состоит из таблицы различных параметров столкновений. Каждая строка соответствует одному столкновению, каждый столбец соответствует одному параметру. Например, в столбцах E1, E2 записаны значения энергии сталкивающихся электронов, в столбцах px1, py1, pz1, px2, py2, pz2 — значения моментов импульса, в столбцах Q1, Q2 $-$ заряды электронов.\n",
    "\n",
    "Для исследования рекомендуется выбрать столбцы 'E2', 'px2', 'eta2', 'phi2'. Все эти столбцы — некоторые параметры второго электрона. Можно взять и другие столбцы.\n",
    "\n",
    "----\n",
    "\n",
    "Чтобы скачать данные, зарегистрируйтесь на сайте, после нажмите download на странице датасета и распакуйте скачанный архив. Вы получите файл формата `csv`.\n",
    "\n",
    "Если вы работаете в Google Colab, можно загрузить полученный файл в разделе \"Файлы\" (значок папки) на левой панели."
   ]
  },
  {
   "cell_type": "code",
   "execution_count": null,
   "id": "65c4a2ada4a16c1e",
   "metadata": {
    "collapsed": false,
    "jupyter": {
     "outputs_hidden": false
    }
   },
   "outputs": [],
   "source": [
    "# эта функция читает данные, в кавычках укажите путь к файлу на вашем компьютере или в Colab\n",
    "#df = pd.read_csv(\"./Data_Cortex_Nuclear.csv\")\n",
    "#df = pd.read_csv(\"./dielectron.csv\")"
   ]
  },
  {
   "cell_type": "markdown",
   "id": "f8bbf2f6361e2e8c",
   "metadata": {
    "collapsed": false,
    "jupyter": {
     "outputs_hidden": false
    }
   },
   "source": [
    "Посмотрим на первые строки этой таблицы."
   ]
  },
  {
   "cell_type": "code",
   "execution_count": null,
   "id": "bd02d2cc29656a22",
   "metadata": {
    "collapsed": false,
    "jupyter": {
     "outputs_hidden": false
    }
   },
   "outputs": [],
   "source": [
    "df.head()"
   ]
  },
  {
   "cell_type": "markdown",
   "id": "4955c2f7b37949af",
   "metadata": {
    "collapsed": false,
    "jupyter": {
     "outputs_hidden": false
    }
   },
   "source": [
    "Выберите несколько (3-6) столбцов для анализа значений в них."
   ]
  },
  {
   "cell_type": "code",
   "execution_count": null,
   "id": "af078646c72e3409",
   "metadata": {
    "collapsed": false,
    "jupyter": {
     "outputs_hidden": false
    }
   },
   "outputs": [],
   "source": [
    "# укажите столбцы данных \n",
    "# Пример: columns = ['ITSN1_N', ...]\n",
    "columns = [...]\n",
    "\n",
    "df_chosen_columns = df[columns]\n",
    "\n",
    "#Одномерный массив значений одного признака (например, 'math score') можно получить так:\n",
    "#df_chosen_columns['math score']"
   ]
  },
  {
   "cell_type": "markdown",
   "id": "d43e696ea3fe1c34",
   "metadata": {
    "collapsed": false,
    "jupyter": {
     "outputs_hidden": false
    }
   },
   "source": [
    "#### Гистограммы\n",
    "\n",
    "Для каждого из выбранных признаков нарисуйте гистограмму распределения. Для этого воспользуйтесь функцией `matplotlib.pyplot.hist`.\n",
    "\n",
    "*Примечание.* В анализе данных обычно используется слово \"признак\" для обозначения исследуемого свойства объекта. Например, для биологического датасета признаком является белок.\n"
   ]
  },
  {
   "cell_type": "code",
   "execution_count": null,
   "id": "9bc617e7870601d3",
   "metadata": {
    "collapsed": false,
    "jupyter": {
     "outputs_hidden": false
    }
   },
   "outputs": [],
   "source": [
    "for i, column in enumerate(columns):\n",
    "    plt.figure(figsize=(15, 6))\n",
    "    \n",
    "    plt.hist(<...>, bins=20)\n",
    "    plt.title(column + ' distribution');"
   ]
  },
  {
   "cell_type": "markdown",
   "id": "51cba22c05b7f99b",
   "metadata": {
    "collapsed": false,
    "jupyter": {
     "outputs_hidden": false
    }
   },
   "source": [
    "Выбросы — значения, которые сильно отличаются от большинства значений выборки. Они могут возникать из-за ошибки измерения, из-за необычной природы входных данных, но также могут быть и частью распределения.\n",
    "\n",
    "По гистограммам предположите, в каких из исследуемых признаков могут быть выбросы?"
   ]
  },
  {
   "cell_type": "markdown",
   "id": "504a5b73d161e27f",
   "metadata": {
    "collapsed": false,
    "jupyter": {
     "outputs_hidden": false
    }
   },
   "source": [
    "**Ответ:**"
   ]
  },
  {
   "cell_type": "markdown",
   "id": "59323313c3f47905",
   "metadata": {
    "collapsed": false,
    "jupyter": {
     "outputs_hidden": false
    }
   },
   "source": [
    "Выбросы могут сильно портить внешний вид графика.\n",
    "\n",
    "Продемонстрируем это на примере. Сгенерируем выборку размера 1000 из стандартного нормального распределения и построим по ней гистограмму. В библиотеке `scipy` это можно сделать с помощью метода `rvs`"
   ]
  },
  {
   "cell_type": "code",
   "execution_count": null,
   "id": "64a820aa4491e56e",
   "metadata": {
    "collapsed": false,
    "jupyter": {
     "outputs_hidden": false
    }
   },
   "outputs": [],
   "source": [
    "sample = sps.norm.rvs(size=1000)\n",
    "\n",
    "plt.figure(figsize=(15, 6))\n",
    "plt.hist(sample, bins=20, range=(-3, 4));"
   ]
  },
  {
   "cell_type": "markdown",
   "id": "ab3637f37a437eed",
   "metadata": {
    "collapsed": false,
    "jupyter": {
     "outputs_hidden": false
    }
   },
   "source": [
    "Как видим, большая часть значений находятся в промежутке от -3 до 3.\n",
    "\n",
    "Теперь добавим выброс — очень большое значение, которое могло появиться, например, в результате ошибок измерения. Допустим, что выброс — первое измерение."
   ]
  },
  {
   "cell_type": "code",
   "execution_count": null,
   "id": "1163c28a5a462e3d",
   "metadata": {
    "collapsed": false,
    "jupyter": {
     "outputs_hidden": false
    }
   },
   "outputs": [],
   "source": [
    "outlier = 50\n",
    "sample[0] = outlier\n",
    "\n",
    "plt.figure(figsize=(15, 6))\n",
    "plt.hist(sample, bins=20);"
   ]
  },
  {
   "cell_type": "markdown",
   "id": "a170e0917f646a07",
   "metadata": {
    "collapsed": false,
    "jupyter": {
     "outputs_hidden": false
    }
   },
   "source": [
    "По такому графику уже нельзя сделать предположение о распределении выборки.\n",
    "Также обратите внимание, что большая часть графика пустая, что говорит о неинформативности данного графика.\n",
    "\n",
    "Эту проблему с графиками можно решить с помощью параметра `range`, который определяет, в каких границах строится гистограмма."
   ]
  },
  {
   "cell_type": "code",
   "execution_count": null,
   "id": "61817ae89a502a2b",
   "metadata": {
    "collapsed": false,
    "jupyter": {
     "outputs_hidden": false
    }
   },
   "outputs": [],
   "source": [
    "plt.figure(figsize=(15, 6))\n",
    "plt.hist(sample, bins=20, range=(-3, 4));"
   ]
  },
  {
   "cell_type": "markdown",
   "id": "b8180b9ba9ec6054",
   "metadata": {
    "collapsed": false,
    "jupyter": {
     "outputs_hidden": false
    }
   },
   "source": [
    "Проделайте то же самое с теми столбцам, в которых, как вы считаете, есть выбросы.\n",
    "\n",
    "В словаре `ranges_without_outliers` укажите, в каких пределах, по вашему мнению, стоит нарисовать гистограмму распределения для каждого признака."
   ]
  },
  {
   "cell_type": "markdown",
   "id": "63fb7d4eb289623c",
   "metadata": {
    "collapsed": false,
    "jupyter": {
     "outputs_hidden": false
    }
   },
   "source": [
    "Пример заполнения словаря на ячейке ниже. \n",
    "\n",
    "Здесь мы считаем, что для признака `column1` большая часть значений находится в промежутке от -1 до 5, а все значения за пределами этого промежутка — выбросы.\n",
    "Мы хотим нарисовать информативный график для гистограммы значений признака `column1`, поэтому гистограмму будем строить только на основе значений из промежутка (-1, 5)\n",
    "\n",
    "Аналогично для признака `column2`"
   ]
  },
  {
   "cell_type": "code",
   "execution_count": null,
   "id": "5050aefab7459e21",
   "metadata": {
    "collapsed": false,
    "jupyter": {
     "outputs_hidden": false
    }
   },
   "outputs": [],
   "source": [
    "ranges_without_outliers_example = {\n",
    "    'column1' : (-1, 5),\n",
    "    'column2' : (0, 3)\n",
    "}"
   ]
  },
  {
   "cell_type": "markdown",
   "id": "b8f70ad1495a45ea",
   "metadata": {
    "collapsed": false,
    "jupyter": {
     "outputs_hidden": false
    }
   },
   "source": [
    "Аналогично определите интервалы для исследуемых признаков"
   ]
  },
  {
   "cell_type": "code",
   "execution_count": null,
   "id": "a88a60ea8661023e",
   "metadata": {
    "collapsed": false,
    "jupyter": {
     "outputs_hidden": false
    }
   },
   "outputs": [],
   "source": [
    "ranges_without_outliers = {\n",
    "    'column1' : (-1, 5),\n",
    "    'column2' : (0, 3)\n",
    "}\n",
    "\n",
    "\n",
    "for column, column_range in ranges_without_outliers.items():\n",
    "    plt.figure(figsize=(15, 6))\n",
    "    plt.hist(<...>, range=column_range, bins=20)\n",
    "    plt.title(column + ' distribution')"
   ]
  },
  {
   "cell_type": "markdown",
   "id": "f89ece0299361714",
   "metadata": {
    "collapsed": false,
    "jupyter": {
     "outputs_hidden": false
    }
   },
   "source": [
    "**Сделайте выводы** \n",
    "\n",
    "Изменилась ли форма распределений, стали ли графики информативнее?"
   ]
  },
  {
   "cell_type": "markdown",
   "id": "dc48111bcb7d9578",
   "metadata": {
    "collapsed": false,
    "jupyter": {
     "outputs_hidden": false
    }
   },
   "source": [
    "**Ответ:**"
   ]
  },
  {
   "cell_type": "markdown",
   "id": "54a7b1b500ab2f68",
   "metadata": {
    "collapsed": false,
    "jupyter": {
     "outputs_hidden": false
    }
   },
   "source": [
    "#### Ядерные оценки плотности\n",
    "\n",
    "Иногда гистограммы недостаточно, чтобы понять, какое у распределение у элементов выборки. В таких случаях можно использовать ядерные оценки плотности. \n",
    "\n",
    "В библиотеке `seaborn` они представлены функциями `distplot` (в версиях до `0.11.1`), `kdeplot` (начиная с версии `0.11.1`)"
   ]
  },
  {
   "cell_type": "code",
   "execution_count": null,
   "id": "547dbc45ab9fa2d4",
   "metadata": {
    "collapsed": false,
    "jupyter": {
     "outputs_hidden": false
    }
   },
   "outputs": [],
   "source": [
    "sns.__version__"
   ]
  },
  {
   "cell_type": "markdown",
   "id": "127e87215d0946cf",
   "metadata": {
    "collapsed": false,
    "jupyter": {
     "outputs_hidden": false
    }
   },
   "source": [
    "Пример для нормального распределения с выбросом."
   ]
  },
  {
   "cell_type": "code",
   "execution_count": null,
   "id": "5d68e2300d258d2b",
   "metadata": {
    "collapsed": false,
    "jupyter": {
     "outputs_hidden": false
    }
   },
   "outputs": [],
   "source": [
    "plt.figure(figsize=(15, 6))\n",
    "sns.distplot(sample, bins=20);"
   ]
  },
  {
   "cell_type": "markdown",
   "id": "15ea4f1942074d04",
   "metadata": {
    "collapsed": false,
    "jupyter": {
     "outputs_hidden": false
    }
   },
   "source": [
    "Видно, что, даже несмотря на \"хвост\", плотность основной части данных довольно похожа на плотность нормального распределения. Теперь нарисуем этот же график для выборки без выброса.\n",
    "\n",
    "Для наглядности на этом же графике нарисуем плотность стандартного нормального распределения. В библиотеке `scipy` плотность распределения называется `pdf`."
   ]
  },
  {
   "cell_type": "code",
   "execution_count": null,
   "id": "679c8b86efffc381",
   "metadata": {
    "collapsed": false,
    "jupyter": {
     "outputs_hidden": false
    }
   },
   "outputs": [],
   "source": [
    "# уберем выброс\n",
    "sample_wo_ourliers = sample[1:]\n",
    "\n",
    "# сетка от -4 до 4 из 1000 значений\n",
    "grid = np.linspace(-4, 4, 1000)\n",
    "# считаем значения функции в выборке\n",
    "norm_pdf_values = sps.norm.pdf(grid)\n",
    "\n",
    "# отрисовка графика\n",
    "plt.figure(figsize=(15, 6))\n",
    "sns.distplot(sample_wo_ourliers, bins=20, kde_kws={\"label\": \"KDE\", \"linewidth\": 2})\n",
    "plt.plot(grid, norm_pdf_values, label='Плотность $\\\\mathcal{N}(0,1)$', lw=2)\n",
    "plt.title('Сравнение оценки плотности с истинной')\n",
    "plt.legend();"
   ]
  },
  {
   "cell_type": "markdown",
   "id": "2b5c4cf25846d073",
   "metadata": {
    "collapsed": false,
    "jupyter": {
     "outputs_hidden": false
    }
   },
   "source": [
    "Однако ядерные оценки плотности тоже не универсальны.\n",
    "Рассмотрим пример экспоненциального распределения.\n",
    "\n",
    "Сгенерируйте выборку размера 100 из экспоненциального распределения $\\textit{Exp(1)}$. Для этого воспользуйтесь функцией `sps.expon.rvs`."
   ]
  },
  {
   "cell_type": "code",
   "execution_count": null,
   "id": "6a274f3577a98811",
   "metadata": {
    "collapsed": false,
    "jupyter": {
     "outputs_hidden": false
    }
   },
   "outputs": [],
   "source": []
  },
  {
   "cell_type": "markdown",
   "id": "456f8bf228cea1b0",
   "metadata": {
    "collapsed": false,
    "jupyter": {
     "outputs_hidden": false
    }
   },
   "source": [
    "Посчитайте значения плотности этого распределения на промежутке от 0 до 6."
   ]
  },
  {
   "cell_type": "code",
   "execution_count": null,
   "id": "80624fc5e1543cf2",
   "metadata": {
    "collapsed": false,
    "jupyter": {
     "outputs_hidden": false
    }
   },
   "outputs": [],
   "source": []
  },
  {
   "cell_type": "markdown",
   "id": "8bf82a1b38b582e",
   "metadata": {
    "collapsed": false,
    "jupyter": {
     "outputs_hidden": false
    }
   },
   "source": [
    "Нарисуйте гистограмму и ядерную оценку плотности для выборки из сгененированного экспоненциального распределения."
   ]
  },
  {
   "cell_type": "code",
   "execution_count": null,
   "id": "2ab8a80ba9d739b5",
   "metadata": {
    "collapsed": false,
    "jupyter": {
     "outputs_hidden": false
    }
   },
   "outputs": [],
   "source": []
  },
  {
   "cell_type": "markdown",
   "id": "b3a2b9ed00a4f5c6",
   "metadata": {
    "collapsed": false,
    "jupyter": {
     "outputs_hidden": false
    }
   },
   "source": [
    "Как вы думаете, почему ядерная оценка плотности так плохо приближает реальную плотность распределения?\n",
    "\n",
    "**Ответ:** "
   ]
  },
  {
   "cell_type": "markdown",
   "id": "aefffd0a1238ea23",
   "metadata": {
    "collapsed": false,
    "jupyter": {
     "outputs_hidden": false
    }
   },
   "source": [
    "Нарисуйте гистограммы и ядерные оценки плотности для исследуемых признаков"
   ]
  },
  {
   "cell_type": "code",
   "execution_count": null,
   "id": "a6fe56a769800739",
   "metadata": {
    "collapsed": false,
    "jupyter": {
     "outputs_hidden": false
    }
   },
   "outputs": [],
   "source": [
    "for column, column_range in ranges_without_outliers.items():\n",
    "    plt.figure(figsize=(15, 6))\n",
    "    \n",
    "    # для каждого признака оставьте значения внутри ранее заданного промежутка column_range\n",
    "    <...>\n",
    "    \n",
    "    sns.distplot(<...>, bins=20);\n",
    "    plt.title('Оценка распределения ' + column)"
   ]
  },
  {
   "cell_type": "markdown",
   "id": "ea2e8698ef3e0113",
   "metadata": {
    "collapsed": false,
    "jupyter": {
     "outputs_hidden": false
    }
   },
   "source": [
    "**Сделайте выводы.** Какой из двух видов графиков более нагляден для данных выборки? Какими свойствами должно обладать распределение признака, чтобы ядерная оценка плотности, полученная по выборке, была похожа на настоящую плотность? "
   ]
  },
  {
   "cell_type": "markdown",
   "id": "76d08123b9be5f94",
   "metadata": {
    "collapsed": false,
    "jupyter": {
     "outputs_hidden": false
    }
   },
   "source": [
    "**Вывод:**"
   ]
  },
  {
   "cell_type": "markdown",
   "id": "4f7a9fbf4017d23a",
   "metadata": {
    "collapsed": false,
    "jupyter": {
     "outputs_hidden": false
    }
   },
   "source": [
    "Здесь мы \"избавились\" от выбросов для того, чтобы понять, как распределена бОльшая часть выборки.\n",
    "\n",
    "Но нужно понимать, что избавляться от выбросов при анализе данных стоит не всегда.\n",
    "Прежде, чем удалять выбросы из выборки, хорошо бы понимать:\n",
    "1. **Какая цель исследования**. Например, если мы хотим узнать, как хорошо \"средний\" студент МФТИ решает задачи по теории вероятностей, результаты лучших студентов на потоке не сильно проясняют ситуацию и затрудняют анализ. Такие результаты нужно выкинуть. Если же надо отобрать студентов на стажировку для аналитиков данных, хорошие результаты не только не нужно отсеивать, но и нужно анализировать дополнительно.\n",
    "2. **Почему** отличающееся значение могло появиться в выборке. Это случайность / ошибка в измерениях / следствие какого-то еще фактора? Возможно, удаление отличающегося элемента лишит нас важных знаний о природе исследуемых данных.\n",
    "\n"
   ]
  },
  {
   "cell_type": "markdown",
   "id": "37aaaf42fc4d6ba4",
   "metadata": {
    "collapsed": false,
    "jupyter": {
     "outputs_hidden": false
    }
   },
   "source": [
    "**Приведите примеры исследований**, в которых нужно/не нужно удалять выбросы в данных:\n",
    "\n",
    "..."
   ]
  },
  {
   "cell_type": "markdown",
   "id": "e68558bbb07b2be1",
   "metadata": {
    "collapsed": false,
    "jupyter": {
     "outputs_hidden": false
    }
   },
   "source": [
    "**Сделайте выводы по всей задаче:**\n",
    "\n",
    "..."
   ]
  },
  {
   "cell_type": "markdown",
   "id": "e225181827844121",
   "metadata": {
    "collapsed": false,
    "jupyter": {
     "outputs_hidden": false
    }
   },
   "source": [
    "### Задача 3\n",
    "\n",
    "В этой задаче нужно визуализировать *центральную предельную теорему*.\n",
    "\n",
    "\n",
    "\n",
    "*a).* Пусть $\\xi_1, ..., \\xi_n$ — независимые случайные величины из распределения $Exp(\\lambda)$. Согласно центральной предельной теореме выполнена сходимость $Z_n = \\frac{X_n - \\mathsf{E}X_n}{\\sqrt{\\mathsf{D}X_n}} \\stackrel{d}{\\to} \\mathcal{N}(0, 1)$, где $X_n = \\sum\\limits_{i=1}^n \\xi_i$. Вам нужно убедиться в этом, сгенерировав множество наборов случайных величин и посчитав по каждому из наборов величину $Z_n$ в зависимости от размера набора. \n",
    "\n",
    "Сгенерируйте 500 наборов случайных величин $\\xi_1^j, ..., \\xi_{300}^j$ из распределения $Exp(1)$. "
   ]
  },
  {
   "cell_type": "code",
   "execution_count": null,
   "id": "102d19524560a895",
   "metadata": {
    "collapsed": false,
    "jupyter": {
     "outputs_hidden": false
    }
   },
   "outputs": [],
   "source": [
    "size = <...>  # размер выборки\n",
    "samples_count = <...> # количество выборок\n",
    "\n",
    "sample = <...>\n"
   ]
  },
  {
   "cell_type": "markdown",
   "id": "7ba8d90d172f1a1b",
   "metadata": {
    "collapsed": false,
    "jupyter": {
     "outputs_hidden": false
    }
   },
   "source": [
    "По каждому из них посчитайте сумму $X_{jn} = \\sum\\limits_{i=1}^n \\xi_i^j$ для $1 \\leqslant n \\leqslant 300$, то есть сумма первых $n$ величин $j$-го набора. "
   ]
  },
  {
   "cell_type": "code",
   "execution_count": null,
   "id": "3ec97a1af7e88f71",
   "metadata": {
    "collapsed": false,
    "jupyter": {
     "outputs_hidden": false
    }
   },
   "outputs": [],
   "source": [
    "sums = <...>"
   ]
  },
  {
   "cell_type": "markdown",
   "id": "a55a25e43ceba861",
   "metadata": {
    "collapsed": false,
    "jupyter": {
     "outputs_hidden": false
    }
   },
   "source": [
    "Для этого среднего посчитайте величину $Z_{jn} = \\frac{X_{jn} - \\mathsf{E}X_{jn}}{\\sqrt{\\mathsf{D}X_{jn}}}$.\n",
    "\n",
    "*Подсказка: можно воспользоваться возможностями библиотеки `numpy`.*"
   ]
  },
  {
   "cell_type": "code",
   "execution_count": null,
   "id": "db9eb686927357",
   "metadata": {
    "collapsed": false,
    "jupyter": {
     "outputs_hidden": false
    }
   },
   "outputs": [],
   "source": [
    "<...>"
   ]
  },
  {
   "cell_type": "markdown",
   "id": "a33ecd5bcd2cf82c",
   "metadata": {
    "collapsed": false,
    "jupyter": {
     "outputs_hidden": false
    }
   },
   "source": [
    "Для каждого $j$ нанесите на один график зависимость $Z_{jn}$ от $n$ с помощью `plt.plot`. Каждая кривая должна быть нарисована *одним цветом* с прозрачностью `alpha=0.05`. Сходятся ли значения $Z_{jn}$ к какой-либо константе?"
   ]
  },
  {
   "cell_type": "code",
   "execution_count": null,
   "id": "14ffd9de409ec7c8",
   "metadata": {
    "collapsed": false,
    "jupyter": {
     "outputs_hidden": false
    }
   },
   "outputs": [],
   "source": [
    "<...>"
   ]
  },
  {
   "cell_type": "markdown",
   "id": "6693c3c8d14e9f19",
   "metadata": {
    "collapsed": false,
    "jupyter": {
     "outputs_hidden": false
    }
   },
   "source": [
    "\n",
    "Для $n=300$ по набору случайных величин $Z_{1,300}, ..., Z_{500,300}$ постройте гистограмму. Похожа ли она на плотность распределения $\\mathcal{N}(0, 1)$, которую тоже постройте на том же графике? Не забудьте сделать легенду (подписи на графиках, см. семинар и туториалы)."
   ]
  },
  {
   "cell_type": "code",
   "execution_count": null,
   "id": "28fc89fb4b59bc08",
   "metadata": {
    "collapsed": false,
    "jupyter": {
     "outputs_hidden": false
    }
   },
   "outputs": [],
   "source": [
    "<...>"
   ]
  },
  {
   "cell_type": "markdown",
   "id": "12dec92075dc9729",
   "metadata": {
    "collapsed": false,
    "jupyter": {
     "outputs_hidden": false
    }
   },
   "source": [
    "\n",
    "\n",
    "\n",
    "\n",
    "\n",
    "*b).* Выполните те же действия для распределения $Pois(1)$.\n",
    "\n",
    "\n",
    "Сделайте вывод о смысле центральной предельной теоремы. Подтверждают ли сделанные эксперименты теоретические свойства?"
   ]
  },
  {
   "cell_type": "markdown",
   "id": "4137b9376a8ff1d6",
   "metadata": {
    "collapsed": false,
    "jupyter": {
     "outputs_hidden": false
    }
   },
   "source": [
    "<b><i><font color=\"orange\">Сложная часть</font></i></b>\n",
    "\n",
    "### Задача 4:\n",
    "\n",
    "Ссылка на контест в боте."
   ]
  },
  {
   "cell_type": "markdown",
   "id": "54819d2e18fc260a",
   "metadata": {
    "collapsed": false,
    "jupyter": {
     "outputs_hidden": false
    }
   },
   "source": [
    "### Задача 5:\n",
    "\n",
    "Ссылка на контест в боте.\n"
   ]
  }
 ],
 "metadata": {
  "kernelspec": {
   "display_name": "Python 3 (ipykernel)",
   "language": "python",
   "name": "python3"
  },
  "language_info": {
   "codemirror_mode": {
    "name": "ipython",
    "version": 3
   },
   "file_extension": ".py",
   "mimetype": "text/x-python",
   "name": "python",
   "nbconvert_exporter": "python",
   "pygments_lexer": "ipython3",
   "version": "3.11.5"
  }
 },
 "nbformat": 4,
 "nbformat_minor": 5
}
