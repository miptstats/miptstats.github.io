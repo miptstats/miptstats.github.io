{
  "cells": [
    {
      "attachments": {},
      "cell_type": "markdown",
      "metadata": {
        "id": "lOAuttJGNL5M"
      },
      "source": [
        "# <a href=\"https://mipt-stats.gitlab.io/courses/ad_mipt.html\">Phystech@DataScience</a>\n",
        "## Домашнее задание 2\n",
        "\n",
        "**Правила, <font color=\"red\">прочитайте внимательно</font>:**\n",
        "\n",
        "* Выполненную работу нужно отправить телеграм-боту `@miptstats_pds_bot`. Для начала работы с ботом каждый раз отправляйте `/start`. **Работы, присланные иным способом, не принимаются.**\n",
        "* Дедлайн см. в боте. После дедлайна работы не принимаются кроме случаев наличия уважительной причины.\n",
        "* Прислать нужно ноутбук в формате `ipynb`.\n",
        "* Выполнять задание необходимо полностью самостоятельно. **При обнаружении списывания все участники списывания будут сдавать устный зачет.**\n",
        "* Решения, размещенные на каких-либо интернет-ресурсах, не принимаются. Кроме того, публикация решения в открытом доступе может быть приравнена к предоставлении возможности списать.\n",
        "* Для выполнения задания используйте этот ноутбук в качестве основы, ничего не удаляя из него. Можно добавлять необходимое количество ячеек.\n",
        "* Комментарии к решению пишите в markdown-ячейках.\n",
        "* Выполнение задания (ход решения, выводы и пр.) должно быть осуществлено на русском языке.\n",
        "* Если код будет не понятен проверяющему, оценка может быть снижена.\n",
        "* Никакой код из данного задания при проверке запускаться не будет. *Если код студента не выполнен, недописан и т.д., то он не оценивается.*\n",
        "\n",
        "**Баллы за задание:**\n",
        "\n",
        "<b><font color=\"blue\">Легкая часть</font></b> (достаточно на \"хор\"):\n",
        "* Задача 1 &mdash; 20 баллов\n",
        "* Задача 2 &mdash; 20 баллов\n",
        "* Задача 3 &mdash; 30 баллов\n",
        "\n",
        "<b><font color=\"orange\">Сложная часть</font></b> (необходимо на \"отл\"):\n",
        "* Задача 4 &mdash; 35 баллов\n",
        "* Задача 5 &mdash; 15 баллов\n",
        "* Задача 6 &mdash; 15 баллов \n",
        "\n",
        "\n",
        "\n",
        "\n",
        "-----"
      ]
    },
    {
      "cell_type": "code",
      "execution_count": null,
      "metadata": {
        "id": "sdgPqOFFNL5U"
      },
      "outputs": [],
      "source": [
        "import pandas as pd\n",
        "import numpy as np\n",
        "import scipy.stats as sps\n",
        "import matplotlib.pyplot as plt\n",
        "import seaborn as sns\n",
        "sns.set(style='white')\n",
        "\n",
        "%matplotlib inline"
      ]
    },
    {
      "cell_type": "markdown",
      "metadata": {
        "id": "U3URZrQkNL5W"
      },
      "source": [
        "Для выполнения задания вы можете установить свою палитру цветов при отрисовке графиков с помощью кода ниже. Если введете несуществующее имя, то вам напечатается список возможных палитр. Также вы можете устанавливать свои цвета конкретным объектам на графиках, обычно это делается с помощью аргумента `color`."
      ]
    },
    {
      "cell_type": "code",
      "execution_count": null,
      "metadata": {
        "id": "bPuAHaAkNL5W"
      },
      "outputs": [],
      "source": [
        "sns.set_palette('Set2')"
      ]
    },
    {
      "cell_type": "markdown",
      "metadata": {
        "id": "ju2OFUC9NL5X"
      },
      "source": [
        "### Задача 1\n",
        "\n",
        "Для выполнения задания выберите любой профиль, ваш выбор сохранится на весь семестр, изменить профиль будет нельзя. Студенты кафедры инновационная педагогика выполняют задание по профилю педагогика. Студенты ЛФИ, для которых этот курс обязательный, выполняют задания по профилю физика.\n",
        "\n",
        "**Профиль биология**\n",
        "\n",
        "Скачайте <a href=\"https://www.kaggle.com/ruslankl/mice-protein-expression\n",
        "\">датасет</a> с данными об экспрессии белков у белых мышей. Данный датасет состоит из таблицы значений уровней экспрессии 77 различных белков в мозге у мышей. Каждая строка соответствует одной особи, каждый столбец соответствует одному белку. На столбцы Genotype, Treatment и подобные пока не обращаем внимания. \n",
        "\n",
        "Для исследования рекомендуется выбрать столбцы 'ITSN1_N', 'DYRK1A_N', 'pBRAF_N', 'pCREB_N', но можно взять и другие.\n",
        "\n",
        "**Профиль физика (+профиль химия)**\n",
        "\n",
        "Скачайте <a href=\"https://www.kaggle.com/fedesoriano/cern-electron-collision-data\n",
        "\">датасет</a> с данными о столкновении электронов на Большом Адронном Коллайдере. \n",
        "\n",
        "Данный датасет  содержит информацию о событиях столкновения двух электронов. Он состоит из таблицы различных параметров столкновений. Каждая строка соответствует одному столкновению, каждый столбец соответствует одному параметру. Например, в столбцах E1, E2 записаны значения энергии сталкивающихся электронов, в столбцах px1, py1, pz1, px2, py2, pz2 — значения моментов импульса, в столбцах Q1, Q2 $-$ заряды электронов.\n",
        "\n",
        "Для исследования рекомендуется выбрать столбцы 'E2', 'px2', 'eta2', 'phi2'. Все эти столбцы — некоторые параметры второго электрона. Можно взять и другие столбцы.\n",
        "\n",
        "**Профиль педагогика**\n",
        "\n",
        "Скачайте <a href=\"https://www.kaggle.com/spscientist/students-performance-in-exams\n",
        "\">датасет</a> с данными о результатах учащихся на экзаменах.\n",
        "\n",
        "Данный датасет состоит из таблицы баллов учащихся на экзаменах по математике, чтению и письму, а также дополнительной информации о студентах. Каждая строка соответствует одному учащемуся, каждый столбец соответствует одному признаку. В столбцах math score, reading score и writing score записаны баллы за экзамены.\n",
        "\n",
        "Для исследования возьмите столбцы 'math score', 'reading score', 'writing score'.\n",
        "\n",
        "----\n",
        "\n",
        "Чтобы скачать данные, зарегистрируйтесь на сайте, после нажмите download на странице датасета и распакуйте скачанный архив. Вы получите файл формата `csv`.\n",
        "\n",
        "Если вы работаете в Google Colab, можно загрузить полученный файл в разделе \"Файлы\" (значок папки) на левой панели."
      ]
    },
    {
      "cell_type": "code",
      "execution_count": null,
      "metadata": {
        "id": "agJVsgfJNL5Y"
      },
      "outputs": [],
      "source": [
        "# эта функция читает данные, в кавычках укажите путь к файлу на вашем компьютере или в Colab\n",
        "df = pd.read_csv(\"./Data_Cortex_Nuclear.csv\")\n",
        "#df = pd.read_csv(\"./dielectron.csv\")\n",
        "#df = pd.read_csv(\"./StudentsPerformance.csv\")"
      ]
    },
    {
      "cell_type": "markdown",
      "metadata": {
        "id": "jGSWyFWuNL5Y"
      },
      "source": [
        "Посмотрим на первые строки этой таблицы."
      ]
    },
    {
      "cell_type": "code",
      "execution_count": null,
      "metadata": {
        "id": "i5EhytfONL5Z"
      },
      "outputs": [],
      "source": [
        "df.head()"
      ]
    },
    {
      "cell_type": "markdown",
      "metadata": {
        "id": "6V7XjkmWNL5Z"
      },
      "source": [
        "Выберите несколько (3-6) столбцов для анализа значений в них."
      ]
    },
    {
      "cell_type": "code",
      "execution_count": null,
      "metadata": {
        "id": "F84b8eMfNL5Z"
      },
      "outputs": [],
      "source": [
        "# укажите столбцы данных \n",
        "# Пример: columns = ['math score', ...]\n",
        "columns = [...]\n",
        "\n",
        "df_chosen_columns = df[columns]\n",
        "\n",
        "#Одномерный массив значений одного признака (например, 'math score') можно получить так:\n",
        "#df_chosen_columns['math score']"
      ]
    },
    {
      "cell_type": "markdown",
      "metadata": {
        "id": "kRXMXWg_NL5a"
      },
      "source": [
        "#### Гистограммы\n",
        "\n",
        "Для каждого из выбранных признаков нарисуйте гистограмму распределения. Для этого воспользуйтесь функцией `plt.hist`.\n",
        "\n",
        "*Примечание.* В анализе данных обычно используется слово \"признак\" для обозначения исследуемого свойства объекта. Например, для биологического датасета признаком является белок.\n"
      ]
    },
    {
      "cell_type": "code",
      "execution_count": null,
      "metadata": {
        "id": "MCN0MbV7NL5a"
      },
      "outputs": [],
      "source": [
        "for i, column in enumerate(columns):\n",
        "    plt.figure(figsize=(15, 6))\n",
        "    \n",
        "    plt.hist(<...>, bins=20)\n",
        "    plt.title(column + ' distribution');"
      ]
    },
    {
      "cell_type": "markdown",
      "metadata": {
        "id": "MeGTcIpMNL5b"
      },
      "source": [
        "Выбросы — значения, которые сильно отличаются от большинства значений выборки. Они могут возникать из-за ошибки измерения, из-за необычной природы входных данных, но также могут быть и частью распределения.\n",
        "\n",
        "По гистограммам предположите, в каких из исследуемых признаков могут быть выбросы?"
      ]
    },
    {
      "cell_type": "markdown",
      "metadata": {
        "id": "fujiBp62NL5b"
      },
      "source": [
        "**Ответ:**"
      ]
    },
    {
      "cell_type": "markdown",
      "metadata": {
        "id": "XYR3d4ySNL5b"
      },
      "source": [
        "Выбросы могут сильно портить внешний вид графика.\n",
        "\n",
        "Продемонстрируем это на примере. Сгенерируем выборку размера 1000 из стандартного нормального распределения и построим по ней гистограмму. В библиотеке `scipy` это можно сделать с помощью метода `rvs`"
      ]
    },
    {
      "cell_type": "code",
      "execution_count": null,
      "metadata": {
        "id": "-Oa_pPuGNL5c"
      },
      "outputs": [],
      "source": [
        "sample = sps.norm.rvs(size=1000)\n",
        "\n",
        "plt.figure(figsize=(15, 6))\n",
        "plt.hist(sample, bins=20, range=(-3, 4));"
      ]
    },
    {
      "cell_type": "markdown",
      "metadata": {
        "id": "P23q0fiHNL5c"
      },
      "source": [
        "Как видим, большая часть значений находятся в промежутке от -3 до 3.\n",
        "\n",
        "Теперь добавим выброс — очень большое значение, которое могло появиться, например, в результате ошибок измерения. Допустим, что выброс — первое измерение."
      ]
    },
    {
      "cell_type": "code",
      "execution_count": null,
      "metadata": {
        "id": "Or62SXTjNL5c"
      },
      "outputs": [],
      "source": [
        "outlier = 50\n",
        "sample[0] = outlier\n",
        "\n",
        "plt.figure(figsize=(15, 6))\n",
        "plt.hist(sample, bins=20);"
      ]
    },
    {
      "cell_type": "markdown",
      "metadata": {
        "id": "mL3edQr6NL5c"
      },
      "source": [
        "По такому графику уже нельзя сделать предположение о распределении выборки.\n",
        "Также обратите внимание, что большая часть графика пустая, что говорит о неинформативности данного графика.\n",
        "\n",
        "Эту проблему с графиками можно решить с помощью параметра `range`, который определяет, в каких границах строится гистограмма."
      ]
    },
    {
      "cell_type": "code",
      "execution_count": null,
      "metadata": {
        "id": "VYW-g_XcNL5j"
      },
      "outputs": [],
      "source": [
        "plt.figure(figsize=(15, 6))\n",
        "plt.hist(sample, bins=20, range=(-3, 4));"
      ]
    },
    {
      "cell_type": "markdown",
      "metadata": {
        "id": "CvF2t3QUNL5j"
      },
      "source": [
        "Проделайте то же самое с теми столбцам, в которых, как вы считаете, есть выбросы.\n",
        "\n",
        "В словаре `ranges_without_outliers` укажите, в каких пределах, по вашему мнению, стоит нарисовать гистограмму распределения для каждого признака."
      ]
    },
    {
      "cell_type": "markdown",
      "metadata": {
        "id": "T83KRjUSNL5l"
      },
      "source": [
        "Пример заполнения словаря на ячейке ниже. \n",
        "\n",
        "Здесь мы считаем, что для признака `column1` большая часть значений находится в промежутке от -1 до 5, а все значения за пределами этого промежутка — выбросы.\n",
        "Мы хотим нарисовать информативный график для гистограммы значений признака `column1`, поэтому гистограмму будем строить только на основе значений из промежутка (-1, 5)\n",
        "\n",
        "Аналогично для признака `column2`"
      ]
    },
    {
      "cell_type": "code",
      "execution_count": null,
      "metadata": {
        "id": "_CRbwwy0NL5l"
      },
      "outputs": [],
      "source": [
        "ranges_without_outliers_example = {\n",
        "    'column1' : (-1, 5),\n",
        "    'column2' : (0, 3)\n",
        "}"
      ]
    },
    {
      "cell_type": "markdown",
      "metadata": {
        "id": "c-8M01zyNL5m"
      },
      "source": [
        "Аналогично определите интервалы для исследуемых признаков"
      ]
    },
    {
      "cell_type": "code",
      "execution_count": null,
      "metadata": {
        "id": "7grNhn72NL5m"
      },
      "outputs": [],
      "source": [
        "ranges_without_outliers = {\n",
        "    'column1' : (-1, 5),\n",
        "    'column2' : (0, 3)\n",
        "}\n",
        "\n",
        "\n",
        "for column, column_range in ranges_without_outliers.items():\n",
        "    plt.figure(figsize=(15, 6))\n",
        "    plt.hist(<...>, range=column_range, bins=20)\n",
        "    plt.title(column + ' distribution')"
      ]
    },
    {
      "cell_type": "markdown",
      "metadata": {
        "id": "Bq6LsI2yNL5m"
      },
      "source": [
        "**Сделайте выводы** \n",
        "\n",
        "Изменилась ли форма распределений, стали ли графики информативнее?"
      ]
    },
    {
      "cell_type": "markdown",
      "metadata": {
        "id": "HOcXBy7kNL5n"
      },
      "source": [
        "**Ответ:**"
      ]
    },
    {
      "cell_type": "markdown",
      "metadata": {
        "id": "wXXBtvZ4NL5n"
      },
      "source": [
        "### Задача 2\n",
        "\n",
        "В этой задаче нужно визуализировать *закон больших чисел* (обратите внимание на ноутбук \"Простейший анализ данных\").\n"
      ]
    },
    {
      "cell_type": "markdown",
      "metadata": {
        "id": "ghwpJH2hNL5n"
      },
      "source": [
        "\n",
        "Пусть $\\xi_1, ..., \\xi_n$ &mdash; независимые случайные величины из некоторого распределения, причем $\\mathsf{E}\\xi_i = a$. Тогда выполнена сходимость $$\\frac{\\xi_1 + ... + \\xi_n}{n} \\stackrel{п.н.}{\\longrightarrow} a.$$ \n",
        "\n",
        "*Замечание 1.* Закон больших чисел имеет несколько формулировок. Данная формулировка часто называется *усиленным законом больших чисел*. В частности, усиленной она является, поскольку в отличии от \"простой\" версии она не требует условия на дисперсии и утверждает о более сильной сходимости \"почти наверное\".\n",
        "\n",
        "*Замечание 2.* Последовательность случайных величин $\\xi_1, \\xi_2, ...$ сходится почти наверное к случайной величине $\\xi$, если $\\mathsf{P}\\big(\\big\\{ \\omega \\in \\Omega\\:\\big|\\: \\xi_n(\\omega) \\to \\xi(\\omega)\\big\\}\\big) = 1$\n",
        "\n",
        "---\n",
        "\n",
        "\n",
        "\n",
        "\n",
        "\n",
        "\n"
      ]
    },
    {
      "cell_type": "markdown",
      "metadata": {
        "id": "XKHbVDd4NL5o"
      },
      "source": [
        "Рассмотрим распределение Коши с плотностью\n",
        "$$p(x)=\\frac{1}{\\pi(1+x^2)}$$\n",
        " \n",
        "для  $x\\in\\mathbb{R}$\n",
        " , которое известно своими тяжелыми хвостами. Иначе говоря, плотность убывает медленно при  $x \\to \\infty$\n",
        " . Сравните, например, с нормальным или экспоненциальным распределениями. В частности, из-за этого у распределения Коши даже не существует математического ожидания."
      ]
    },
    {
      "cell_type": "markdown",
      "metadata": {
        "id": "lPBs1loBNL5o"
      },
      "source": [
        "За распределение Коши отвечает класс [`scipy.stats.cauchy`](https://docs.scipy.org/doc/scipy/reference/generated/scipy.stats.cauchy.html).\n",
        "\n"
      ]
    },
    {
      "cell_type": "markdown",
      "metadata": {
        "id": "VZxYymIONL5p"
      },
      "source": [
        "1. Визуализируйте на одном графики плотности нормального распределения и распределения Коши. Что можно сказать?\n",
        "\n"
      ]
    },
    {
      "cell_type": "code",
      "execution_count": null,
      "metadata": {
        "id": "3hTOXNvgNL5p"
      },
      "outputs": [],
      "source": []
    },
    {
      "cell_type": "markdown",
      "metadata": {
        "id": "RBJdLHJoNL5q"
      },
      "source": [
        "2. Повторите эксперимент с занятия про закон больших чисел для распределения Коши. Выполняется ли закон?\n",
        "\n"
      ]
    },
    {
      "cell_type": "code",
      "execution_count": null,
      "metadata": {
        "id": "8pdDSZ1KNL5q"
      },
      "outputs": [],
      "source": []
    },
    {
      "cell_type": "markdown",
      "metadata": {
        "id": "a-D8BaX5NL5q"
      },
      "source": [
        "3. Аналогичным образом проведите эксперимент по изучению зависимости выборочной медианы от размера выборки. Медиану по выборке можно посчитать с помощью [`np.median`](https://numpy.org/doc/stable/reference/generated/numpy.median.html)."
      ]
    },
    {
      "cell_type": "code",
      "execution_count": null,
      "metadata": {
        "id": "bi32fIYgNL5q"
      },
      "outputs": [],
      "source": []
    },
    {
      "cell_type": "markdown",
      "metadata": {
        "id": "XNo1YspwNL5q"
      },
      "source": [
        "### Задача 3"
      ]
    },
    {
      "cell_type": "markdown",
      "metadata": {
        "id": "G91BGqCvNL5q"
      },
      "source": [
        "Постройте графики плотности для трех распределений: нормального, равномерного и эспоненциального. Вы можете пользоваться кодом из файла scipy.ipynb. Обязательно спользуйте метод `.pdf()`"
      ]
    },
    {
      "cell_type": "markdown",
      "metadata": {
        "id": "FoW_kgg_NL5r"
      },
      "source": [
        "#### 1. Нормальное распределение \n",
        "\n",
        "На одном рисунке постройте по 3 графика плотности <b>нормального</b> распределения, изменяя:\n",
        "\n",
        " - только параметр `scale` [1, 2, 0.25]\n",
        " - только параметр `loc` [-2, 0, 1]\n",
        " - одновременно изменяя и `scale` и `loc` [(1, 0), (1, 2), (2, 0)]\n",
        "\n",
        "У вас должно получиться три картинки по три графика на каждой (не сетка графиков!)."
      ]
    },
    {
      "cell_type": "code",
      "execution_count": null,
      "metadata": {
        "id": "iSydY_RyNL5r"
      },
      "outputs": [],
      "source": []
    },
    {
      "cell_type": "markdown",
      "metadata": {
        "id": "FJJvKBk4NL5r"
      },
      "source": [
        "Плотность нормального распределения описывается следующей формулой:\n",
        "\n",
        "$$ p(x) = \\frac{1}{\\sigma \\sqrt{2 \\pi}} exp \\left( -\\frac{(x-\\mu)^2}{2 \\sigma ^2}\\right)$$\n",
        "\n",
        "Как параметры `loc` и `scale` связаны с параметрами распределения $\\mu$ и $\\sigma$? (эту информацию можно найти в документации)\n"
      ]
    },
    {
      "cell_type": "markdown",
      "metadata": {
        "id": "H4l6Cs_4NL5r"
      },
      "source": [
        "**Ответ:**"
      ]
    },
    {
      "cell_type": "markdown",
      "metadata": {
        "id": "rmhaojCWNL5s"
      },
      "source": [
        "Приведите примеры нормального распределения из жизни."
      ]
    },
    {
      "cell_type": "markdown",
      "metadata": {
        "id": "Qy9nc0zSNL5s"
      },
      "source": [
        "**Ответ:**"
      ]
    },
    {
      "cell_type": "markdown",
      "metadata": {
        "id": "e-9J01vzNL5s"
      },
      "source": [
        "#### 2. Равномерное непрерывное распределение\n",
        "\n",
        "На одном рисунке постройте по 3 графика плотности <b>равномерного непрерывного</b> распределения, изменяя:\n",
        " - только параметр `scale` [1, 2, 0.25]\n",
        " - только параметр `loc` [1, -2, 3]\n",
        " - одновременно изменяя и `scale` и `loc` [(1, 0), (1, 2), (2, 0)]\n",
        "\n",
        " У вас должно получиться три картинки по три графика на каждой (не сетка графиков!)."
      ]
    },
    {
      "cell_type": "code",
      "execution_count": null,
      "metadata": {
        "id": "wzo6J0CNNL5s"
      },
      "outputs": [],
      "source": []
    },
    {
      "cell_type": "markdown",
      "metadata": {
        "id": "P7zhUArNNL5s"
      },
      "source": [
        "Плотность равномерного непрерывного распределения описывается следующей формулой:\n",
        "\n",
        "$$p(x) = \\frac{1}{b-a} I\\{x\\in [a, b]\\}$$\n",
        "\n",
        "Как параметры `loc` и `scale` связаны с параметрами распределения $a$ и $b$? (эту информацию можно найти в документации)\n"
      ]
    },
    {
      "cell_type": "markdown",
      "metadata": {
        "id": "Lfa-urDMNL5s"
      },
      "source": [
        "**Ответ:**"
      ]
    },
    {
      "cell_type": "markdown",
      "metadata": {
        "id": "F6FqnCFVNL5t"
      },
      "source": [
        "Приведите примеры равномерного непрерывного распределения из жизни."
      ]
    },
    {
      "cell_type": "markdown",
      "metadata": {
        "id": "T6XP_Gg3NL5u"
      },
      "source": [
        "**Ответ:**"
      ]
    },
    {
      "cell_type": "markdown",
      "metadata": {
        "id": "0QCf_csANL5u"
      },
      "source": [
        "#### 3. Экспоненциальное распределение\n",
        "\n",
        "На одном рисунке постройте по 3 графика плотности <b>экспоненциального</b> распределения, изменяя:\n",
        " - только параметр `scale` [1, 2, 0.25]\n",
        " - только параметр `loc` [-1, 0, 2]\n",
        " - одновременно изменяя и `scale` и `loc` [(1, 0), (1, 2), (2, 0)]\n",
        " \n",
        " У вас должно получиться три картинки по три графика на каждой (не сетка графиков!)."
      ]
    },
    {
      "cell_type": "code",
      "execution_count": null,
      "metadata": {
        "id": "kEZO1uwvNL5u"
      },
      "outputs": [],
      "source": []
    },
    {
      "cell_type": "markdown",
      "metadata": {
        "id": "6VMXxA5LNL5u"
      },
      "source": [
        "Плотность экспоненциального распределения описывается следующей формулой:\n",
        "\n",
        "$$p(x) = \\lambda e^{\\lambda x} I\\{x>0\\}$$\n",
        "\n",
        "Как параметры `loc` и `scale` связаны с параметром распределения $\\lambda$? (эту информацию можно найти в документации)\n"
      ]
    },
    {
      "cell_type": "markdown",
      "metadata": {
        "id": "bTFB7f7zNL5u"
      },
      "source": [
        "**Ответ:**"
      ]
    },
    {
      "cell_type": "markdown",
      "metadata": {
        "id": "0xoGjksHNL5v"
      },
      "source": [
        "Приведите примеры экспоненциального распределения из жизни."
      ]
    },
    {
      "cell_type": "markdown",
      "metadata": {
        "id": "bW2YBbebNL5v"
      },
      "source": [
        "**Ответ:**"
      ]
    },
    {
      "cell_type": "markdown",
      "metadata": {
        "id": "V79yDLdhNL5v"
      },
      "source": [
        "### Задача 4"
      ]
    },
    {
      "cell_type": "markdown",
      "metadata": {
        "id": "oyas4QVDWdta"
      },
      "source": [
        "Задача в [контесте](https://contest.yandex.ru/contest/46649/problems/) "
      ]
    },
    {
      "cell_type": "markdown",
      "metadata": {
        "id": "Kpl8HbbkWwKO"
      },
      "source": [
        "### Задача 5\n",
        "\n",
        "Создайте матрицу 10х10, каждый элемент которой равен сумме индексов этого элемента.  Используйте numpy.  Визуализируйте с помощью `plt.imshow()`.\n",
        "\n",
        "**Запрещено использовать циклы и list comprehension.** \n",
        "\n",
        "*Подсказка:* можно использовать np.broadcast и изменение формы массива."
      ]
    },
    {
      "cell_type": "code",
      "execution_count": null,
      "metadata": {
        "id": "xnKN1DhINL5v"
      },
      "outputs": [],
      "source": []
    },
    {
      "cell_type": "markdown",
      "metadata": {
        "id": "XQorEkwgXew7"
      },
      "source": [
        "### Задача 6\n"
      ]
    },
    {
      "cell_type": "markdown",
      "metadata": {
        "id": "jiQxWWYta8dP"
      },
      "source": [
        "Задача в [контесте](https://contest.yandex.ru/contest/46649/problems/) "
      ]
    }
  ],
  "metadata": {
    "colab": {
      "provenance": []
    },
    "kernelspec": {
      "display_name": "sber",
      "language": "python",
      "name": "python3"
    },
    "language_info": {
      "codemirror_mode": {
        "name": "ipython",
        "version": 3
      },
      "file_extension": ".py",
      "mimetype": "text/x-python",
      "name": "python",
      "nbconvert_exporter": "python",
      "pygments_lexer": "ipython3",
      "version": "3.10.4"
    },
    "orig_nbformat": 4,
    "vscode": {
      "interpreter": {
        "hash": "415525cc3f40ad8355b7c2a7d3b034c5d7bb85ff256d91eaa0aa6b53328ab0d3"
      }
    }
  },
  "nbformat": 4,
  "nbformat_minor": 0
}
