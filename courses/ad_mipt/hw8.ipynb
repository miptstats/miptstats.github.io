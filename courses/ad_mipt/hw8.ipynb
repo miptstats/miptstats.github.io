{
 "cells": [
  {
   "attachments": {},
   "cell_type": "markdown",
   "id": "8e55c641",
   "metadata": {},
   "source": [
    "# <a href=\"https://miptstats.github.io/courses/ad_mipt.html\">Phystech@DataScience</a>\n",
    "## Домашнее задание 8\n",
    "\n",
    "**Правила, <font color=\"red\">прочитайте внимательно</font>:**\n",
    "\n",
    "* Выполненную работу нужно отправить телеграм-боту `@miptstats_pds_bot`. Для начала работы с ботом каждый раз отправляйте `/start`. **Работы, присланные иным способом, не принимаются.**\n",
    "* Дедлайн см. в боте. После дедлайна работы не принимаются кроме случаев наличия уважительной причины.\n",
    "* Прислать нужно ноутбук в формате `ipynb`.\n",
    "* Выполнять задание необходимо полностью самостоятельно. **При обнаружении списывания все участники списывания будут сдавать устный зачет.**\n",
    "* Решения, размещенные на каких-либо интернет-ресурсах, не принимаются. Кроме того, публикация решения в открытом доступе может быть приравнена к предоставлении возможности списать.\n",
    "* Для выполнения задания используйте этот ноутбук в качестве основы, ничего не удаляя из него. Можно добавлять необходимое количество ячеек.\n",
    "* Комментарии к решению пишите в markdown-ячейках.\n",
    "* Выполнение задания (ход решения, выводы и пр.) должно быть осуществлено на русском языке.\n",
    "* Если код будет не понятен проверяющему, оценка может быть снижена.\n",
    "* Никакой код из данного задания при проверке запускаться не будет. *Если код студента не выполнен, недописан и т.д., то он не оценивается.*\n",
    "* **Код из рассказанных на занятиях ноутбуков можно использовать без ограничений.**\n",
    "\n",
    "**Правила оформления теоретических задач:**\n",
    "\n",
    "* Решения необходимо прислать одним из следующих способов:\n",
    "  * фотографией в правильной ориентации, где все четко видно, а почерк разборчив,\n",
    "    * отправив ее как файл боту вместе с ноутбуком *или*\n",
    "    * вставив ее в ноутбук посредством `Edit -> Insert Image` (<font color=\"red\">фото, вставленные ссылкой, не принимаются</font>);\n",
    "  * в виде $\\LaTeX$ в markdown-ячейках.\n",
    "* Решения не проверяются, если какое-то требование не выполнено. Особенно внимательно все проверьте в случае выбора второго пункта (вставки фото в ноутбук). <font color=\"red\"><b>Неправильно вставленные фотографии могут не передаться при отправке.</b></font> Для проверки попробуйте переместить `ipynb` в другую папку и открыть его там.\n",
    "* В решениях поясняйте, чем вы пользуетесь, хотя бы кратко. Например, если пользуетесь независимостью, то достаточно подписи вида \"*X и Y незав.*\"\n",
    "* Решение, в котором есть только ответ, и отсутствуют вычисления, оценивается в 0 баллов.\n",
    "\n",
    "**Баллы за задание:**\n",
    "\n",
    "<b><font color=\"blue\">Легкая часть</font></b> (достаточно на \"хор\"):\n",
    "* Задача 1 &mdash; 20 баллов\n",
    "* Задача 2 &mdash; 35 баллов\n",
    "\n",
    "\n",
    "<b><font color=\"orange\">Сложная часть</font></b> (необходимо на \"отл\"):\n",
    "* Задача 3 &mdash;  40 баллов\n",
    "* Задача 4 &mdash;  15 баллов\n",
    "\n",
    "\n",
    "\n",
    "\n",
    "-----"
   ]
  },
  {
   "cell_type": "code",
   "execution_count": null,
   "id": "34dee701",
   "metadata": {},
   "outputs": [],
   "source": [
    "import numpy as np\n",
    "import pandas as pd\n",
    "from sklearn.datasets import load_diabetes\n",
    "from sklearn.metrics import mean_squared_error, mean_absolute_error, mean_absolute_percentage_error\n",
    "from sklearn.model_selection import train_test_split\n",
    "from sklearn.linear_model import LinearRegression, Ridge, Lasso, ElasticNet\n",
    "from sklearn.preprocessing import StandardScaler\n",
    "\n",
    "import matplotlib.pyplot as plt\n",
    "import seaborn as sns\n",
    "\n",
    "sns.set(font_scale=1.3)"
   ]
  },
  {
   "attachments": {},
   "cell_type": "markdown",
   "id": "a8676562",
   "metadata": {},
   "source": [
    "#### <b><font color=\"blue\">Легкая часть</font></b>\n",
    "### Задача 1"
   ]
  },
  {
   "attachments": {},
   "cell_type": "markdown",
   "id": "c28f14ab",
   "metadata": {},
   "source": [
    "В данной задаче мы продолжим работать с датасетом о диабете, с которым вы познакомились на занятии."
   ]
  },
  {
   "cell_type": "code",
   "execution_count": null,
   "id": "eb3d088c",
   "metadata": {},
   "outputs": [],
   "source": [
    "data = load_diabetes()\n",
    "X, y = data['data'], data['target']"
   ]
  },
  {
   "attachments": {},
   "cell_type": "markdown",
   "id": "f068edf6",
   "metadata": {},
   "source": [
    "Разбейте данные случайно на две части — обучающую и тестовую в соотношении 80:20."
   ]
  },
  {
   "cell_type": "code",
   "execution_count": null,
   "id": "2746823e",
   "metadata": {},
   "outputs": [],
   "source": [
    "X_train, X_test, y_train, y_test = <...>\n"
   ]
  },
  {
   "attachments": {},
   "cell_type": "markdown",
   "id": "d75a57f5",
   "metadata": {},
   "source": [
    "Реализуйте линейную регрессию самостоятельно, используя формулы с лекции.\n",
    "Вам нужно только заполнить прочерки в методах `fit` и `predict`."
   ]
  },
  {
   "cell_type": "code",
   "execution_count": null,
   "id": "18737899",
   "metadata": {},
   "outputs": [],
   "source": [
    "class MyLinearRegression:\n",
    "    \"\"\"\n",
    "    Класс, реализующий линейную регрессию c помощью МНК.\n",
    "    \"\"\"\n",
    "    \n",
    "    def __init__(self):\n",
    "        pass\n",
    "        \n",
    "    def fit(self, X, Y):\n",
    "        \"\"\"\n",
    "        Функция обучения модели. \n",
    "        \n",
    "        Предполагается модель Y = X * theta + epsilon. \n",
    "        где X --- регрессор (матрица размера n x d), \n",
    "        Y --- отклик (матрица размера n x 1),\n",
    "        epsilon-ы имеют нормальное распределение\n",
    "\n",
    "        Обратите внимание, здесь нет intercept_\n",
    "        \"\"\"\n",
    "        \n",
    "        self.n, self.d = <...>\n",
    "        \n",
    "        self.theta = <МНК-оценка>\n",
    "  \n",
    "        return self\n",
    "    \n",
    "        \n",
    "    def predict(self, X):\n",
    "        \"\"\"\n",
    "        Возвращает предсказание отклика на новых объектах X \n",
    "        и опционально доверительный/предсказательный интервал.\n",
    "        \n",
    "        X --- матрица объектов размера n x d\n",
    "                        \n",
    "        \"\"\"\n",
    "        \n",
    "        y_pred = <...>\n",
    "        return <...>"
   ]
  },
  {
   "cell_type": "markdown",
   "id": "5264e546",
   "metadata": {},
   "source": [
    "Обучите вашу модель на данных о диабете с добавлением свободного члена.\n",
    "Распечатайте коэффициенты и сравните их с коэффициентами модели из `sklearn`."
   ]
  },
  {
   "cell_type": "code",
   "execution_count": null,
   "id": "5eead2df",
   "metadata": {},
   "outputs": [],
   "source": [
    "<...>"
   ]
  },
  {
   "cell_type": "markdown",
   "id": "3ce7b238",
   "metadata": {},
   "source": [
    "Теперь обучите модель без свободного члена."
   ]
  },
  {
   "cell_type": "code",
   "execution_count": null,
   "id": "dc3a3898",
   "metadata": {},
   "outputs": [],
   "source": [
    "<...>"
   ]
  },
  {
   "cell_type": "markdown",
   "id": "f1e8ddf0",
   "metadata": {},
   "source": [
    "Сравните качество моделей со свободным членом и без него на тестовой выборке."
   ]
  },
  {
   "cell_type": "code",
   "execution_count": null,
   "id": "f57fa4e6",
   "metadata": {},
   "outputs": [],
   "source": [
    "<...>"
   ]
  },
  {
   "cell_type": "markdown",
   "id": "ad6a7891",
   "metadata": {},
   "source": [
    "Сделайте выводы."
   ]
  },
  {
   "attachments": {},
   "cell_type": "markdown",
   "id": "a10dbc8d",
   "metadata": {},
   "source": [
    "**Вывод:** <...>"
   ]
  },
  {
   "cell_type": "markdown",
   "id": "56c18dda",
   "metadata": {},
   "source": [
    "### Задача 2\n"
   ]
  },
  {
   "attachments": {},
   "cell_type": "markdown",
   "id": "7d091a71",
   "metadata": {},
   "source": [
    "\n",
    "\n",
    "Вам предлагается изучить и сравнить свойства линейных регрессионных моделей: обычной и с регуляризациями &mdash; Lasso, Ridge, Elastic Net.  \n",
    "\n",
    "При выполнении задания воспользуйтесь готовыми реализациями методов в sklearn. Функции, описанные ниже, пригодятся вам во втором пункте этого задания."
   ]
  },
  {
   "cell_type": "code",
   "execution_count": null,
   "id": "b6c1e8c4",
   "metadata": {},
   "outputs": [],
   "source": [
    "def calculate_coef(model, X, y, log_min, log_max, \n",
    "               num):\n",
    "    \"\"\"Данная функция считает коэффициенты для признаков \n",
    "    при различных значениях параметра регуляризации.\n",
    "    \"\"\"\n",
    "    \n",
    "    alphas = np.logspace(log_min, log_max, num)   \n",
    "    coefs = []\n",
    "    for a in alphas:\n",
    "        if 'l1_ratio' in model.get_params():\n",
    "            # равномерно распределим alpha по обоим коэффициентам\n",
    "            a *= 3/2\n",
    "            model.set_params(alpha=a)\n",
    "        else:\n",
    "            model.set_params(alpha=a)\n",
    "        model.fit(X, y)\n",
    "        # отбираем только первые 20 признаков для ускорения работы кода\n",
    "        coefs.append(model.coef_[:20]) \n",
    "    return coefs\n",
    "\n",
    "def draw_track(coefs, log_min, log_max, \n",
    "               num, title='', figsize=(12, 6)):\n",
    "    \n",
    "    \"\"\"Данная функция строит график зависимости значений \n",
    "    коэффициентов модели от параметра регуляризации.\n",
    "    \"\"\"\n",
    "\n",
    "    alphas = np.logspace(log_min, log_max, num)   \n",
    "\n",
    "    plt.figure(figsize=figsize)\n",
    "    ax = plt.gca()\n",
    "    ax.hlines(0, 10 ** log_min, 10 ** log_max, linewidth=15, alpha=0.15)\n",
    "    ind = 1\n",
    "    for coef in np.array(coefs).T:\n",
    "        label = r'$\\theta_{' + str(ind) + '}$'\n",
    "        ax.plot(alphas, coef, linewidth=2, label=label)\n",
    "        ind += 1\n",
    "        \n",
    "    ax.set_xscale('log')\n",
    "    ax.set_xlim(ax.get_xlim()[::-1])  # reverse axis\n",
    "    plt.xlabel('Параметр регуляризации', fontsize=19)\n",
    "    plt.ylabel('Значения коэффициентов', fontsize=19)\n",
    "    plt.title(title, fontsize=22)\n",
    "    plt.legend(loc='upper left', fontsize=8)\n",
    "    plt.axis('tight')\n",
    "    plt.show()"
   ]
  },
  {
   "attachments": {},
   "cell_type": "markdown",
   "id": "09661aec",
   "metadata": {},
   "source": [
    "#### **Профиль биология**\n",
    "\n",
    "Скачайте данные <a href=\"https://archive.ics.uci.edu/ml/datasets/Parkinsons+Telemonitoring\">`Parkinsons telemonitoring`</a>. Сами данные лежат в `Data Folder`. Файл `.data` можно читать с помощью `read_csv`. В этой задаче мы хотим предсказать уровень выраженности болезни Паркинсона в зависимости от параметров речи пациента. В датасете есть записи о 42 пациентах, для каждого некотрое количество записей. "
   ]
  },
  {
   "cell_type": "code",
   "execution_count": null,
   "id": "17e2f47f",
   "metadata": {},
   "outputs": [],
   "source": [
    "data = pd.read_csv('parkinsons_updrs.data', sep=',')\n",
    "data.info()"
   ]
  },
  {
   "cell_type": "code",
   "execution_count": null,
   "id": "10752331",
   "metadata": {},
   "outputs": [],
   "source": [
    "data.head()"
   ]
  },
  {
   "cell_type": "markdown",
   "id": "559ea5e6",
   "metadata": {},
   "source": [
    "**1.** Нас интересует предсказание `total_UPDRS` &mdash; степени заболевания. Для корректной постановки задачи удалите из данных столбец `motor_UPDRS`, так как это тоже мера тяжести заболевания, но лишь в аспекте моторных нарушений. Будем предсказывать значение `total_UPDRS` в зависимости от остальных признаков. \n",
    "\n",
    "Также обратите внимане, что в данных есть группы (паценты). Колонку `subject#` следует использовать не в качестве признака, а в качестве группы. Разделите данные на признаки $X$, таргет $y$ и массив номеров групп."
   ]
  },
  {
   "cell_type": "code",
   "execution_count": null,
   "id": "d9ca09d1",
   "metadata": {},
   "outputs": [],
   "source": [
    "<...>\n"
   ]
  },
  {
   "attachments": {},
   "cell_type": "markdown",
   "id": "8ef87ab2",
   "metadata": {},
   "source": [
    "Разбейте данные на обучающую и тестирующие выборки в соотношении. Вам не подойдет стандартный метод `test_train_split`, так как в данных есть группы. Реализуйте разделение на тренировочную и тестовую выборки с учетом того, чтобы разные пациенты попали в разные выборки (вы моежете реализовать алгоритм самостоятельно или воспользоваться готовыми решениями, например `GroupShuffleSplit`). \n",
    "\n",
    "**Также, выведите что-либо, подтверждающее данное свойство.**\n",
    "\n"
   ]
  },
  {
   "cell_type": "code",
   "execution_count": null,
   "id": "020f162c",
   "metadata": {},
   "outputs": [],
   "source": [
    "<...>"
   ]
  },
  {
   "attachments": {},
   "cell_type": "markdown",
   "id": "2932d966",
   "metadata": {},
   "source": [
    "Разделяйте выборку в отношении примерно 7:3. Далее везде вплоть до сравнения моделей используйте обучающую выборку."
   ]
  },
  {
   "cell_type": "code",
   "execution_count": null,
   "id": "58825a7f",
   "metadata": {},
   "outputs": [],
   "source": [
    "<...>"
   ]
  },
  {
   "cell_type": "markdown",
   "id": "3726690e",
   "metadata": {},
   "source": [
    "Методы с регуляризацией требуют страндартизации признаков. Поясните, почему это необходимо."
   ]
  },
  {
   "attachments": {},
   "cell_type": "markdown",
   "id": "e06faf63",
   "metadata": {},
   "source": [
    "**Ответ:** <...>\n",
    "\n"
   ]
  },
  {
   "cell_type": "markdown",
   "id": "d1170057",
   "metadata": {},
   "source": [
    "Примените стандартизацию к обучающей и тестовой выборкам, используя класс <a href=\"https://scikit-learn.org/stable/modules/generated/sklearn.preprocessing.StandardScaler\">`StandardScaler`</a>, обученный на обучающей выборке."
   ]
  },
  {
   "cell_type": "code",
   "execution_count": null,
   "id": "f2cffee1",
   "metadata": {},
   "outputs": [],
   "source": [
    "X_train_stand = <...>\n",
    "X_test = <...>\n"
   ]
  },
  {
   "attachments": {},
   "cell_type": "markdown",
   "id": "ba930eb5",
   "metadata": {},
   "source": [
    "**2.** Исследуйте зависимость значений коэффициентов от параметра регуляризации `alpha` для Ridge, Lasso, Elastic регрессий. "
   ]
  },
  {
   "attachments": {},
   "cell_type": "markdown",
   "id": "d93e3cd8",
   "metadata": {},
   "source": [
    "Нарисуйте графики. Предложите диапазоны значений, где стоило бы искать оптимальные параметры регуляризации."
   ]
  },
  {
   "cell_type": "code",
   "execution_count": null,
   "id": "2ed2e29a",
   "metadata": {},
   "outputs": [],
   "source": [
    "<...>"
   ]
  },
  {
   "attachments": {},
   "cell_type": "markdown",
   "id": "be02c325",
   "metadata": {},
   "source": [
    "**Ответ:**"
   ]
  },
  {
   "attachments": {},
   "cell_type": "markdown",
   "id": "31e361e2",
   "metadata": {},
   "source": [
    "#### **Профиль физика и профиль химия**\n",
    "\n",
    "Загрузите данные с <a href=\"https://miptstats.github.io/courses/ad_mipt.html\">сайта</a>. Данные были предобработаны и сокращены для более быстрой работы алгоритмов предсказания, так как в этом задании их будет большое кол-во. С исходными данными вы можете ознакомиться <a href=\"https://www.kaggle.com/datasets/burakhmmtgl/energy-molecule\">здесь</a>.\n",
    "\n",
    "В таблице находятся записи в кулоновской матрице (сокращенный вид), которые действуют как молекулярные признаки. 300-я колонка — это Pubchem Id, по этому числу вы можете понять, для какой молекулы приведены числа (этот столбец для обучения не нужен). 301-й столбец — это энергия распыления, рассчитанная путем моделирования с использованием пакета Quantum Espresso, этот столбец и является целевой переменной.\n",
    "\n",
    "*Для интересующихся: cнижение размерности пространства признаков проводилось с помощью <a href=\"https://scikit-learn.org/stable/modules/generated/sklearn.decomposition.PCA.html\">метода главных компонент</a>*"
   ]
  },
  {
   "cell_type": "code",
   "execution_count": null,
   "id": "18521ff0",
   "metadata": {},
   "outputs": [],
   "source": [
    "data = pd.read_csv('physics_data.csv')\n",
    "data.head()"
   ]
  },
  {
   "attachments": {},
   "cell_type": "markdown",
   "id": "9f2b1daf",
   "metadata": {},
   "source": [
    "Разделите данные на признаки $X$ и целевые переменные $y$."
   ]
  },
  {
   "cell_type": "code",
   "execution_count": null,
   "id": "c1411d10",
   "metadata": {},
   "outputs": [],
   "source": [
    "<...>"
   ]
  },
  {
   "attachments": {},
   "cell_type": "markdown",
   "id": "e1cf92af",
   "metadata": {},
   "source": [
    "Разделите выборку в отношении 7:3. Далее везде вплоть до сравнения моделей используйте обучающую выборку."
   ]
  },
  {
   "cell_type": "code",
   "execution_count": null,
   "id": "7d1f2a51",
   "metadata": {},
   "outputs": [],
   "source": [
    "<...>\n"
   ]
  },
  {
   "attachments": {},
   "cell_type": "markdown",
   "id": "65051b3c",
   "metadata": {},
   "source": [
    "Методы с регуляризацией требуют страндартизации признаков. Поясните, почему это необходимо."
   ]
  },
  {
   "attachments": {},
   "cell_type": "markdown",
   "id": "5e41f4ab",
   "metadata": {},
   "source": [
    "**Ответ:** <...>"
   ]
  },
  {
   "attachments": {},
   "cell_type": "markdown",
   "id": "13c18ae9",
   "metadata": {},
   "source": [
    "Примените стандартизацию к обучающей и тестовой выборкам, используя класс <a href=\"https://scikit-learn.org/stable/modules/generated/sklearn.preprocessing.StandardScaler\">`StandardScaler`</a>, обученный на обучающей выборке."
   ]
  },
  {
   "cell_type": "code",
   "execution_count": null,
   "id": "fced841c",
   "metadata": {},
   "outputs": [],
   "source": [
    "X_train = <...>\n",
    "X_test = <...>"
   ]
  },
  {
   "attachments": {},
   "cell_type": "markdown",
   "id": "490d0eed",
   "metadata": {},
   "source": [
    "**2.** Исследуйте зависимость значений коэффициентов от параметра регуляризации `alpha` для Ridge, Lasso, Elastic регрессий. Используйте функции `calculate_coefs` и `draw_track`, реализованные в самом начале этой задачи."
   ]
  },
  {
   "attachments": {},
   "cell_type": "markdown",
   "id": "41420dc6",
   "metadata": {},
   "source": [
    "Нарисуйте графики. Предложите диапазоны значений, где стоило бы искать **оптимальные** параметры регуляризации."
   ]
  },
  {
   "cell_type": "code",
   "execution_count": null,
   "id": "76a63134",
   "metadata": {},
   "outputs": [],
   "source": [
    "<...>"
   ]
  },
  {
   "attachments": {},
   "cell_type": "markdown",
   "id": "7ebf483c",
   "metadata": {},
   "source": [
    "**Ответ:** <...>"
   ]
  },
  {
   "attachments": {},
   "cell_type": "markdown",
   "id": "aae9c103",
   "metadata": {},
   "source": [
    "#### <b><font color=\"orange\">Сложная часть</font></b>\n",
    "### Задача 3\n",
    "\n",
    "\n",
    "Эта задание является продолжением предыдущего. Здесь не нужно загружать новые данные, продолжайте работать с выбранными вами данными.\n",
    "\n",
    "**1.** Для Elastic исследуйте зависимость от параметра `l1_ratio`. Постройте график изменения весов признаков в зависимости от `l1_ratio` для первых 20 признаков из датасета. "
   ]
  },
  {
   "cell_type": "code",
   "execution_count": null,
   "id": "c4df9adc",
   "metadata": {},
   "outputs": [],
   "source": [
    "<...>"
   ]
  },
  {
   "attachments": {},
   "cell_type": "markdown",
   "id": "0e2e741f",
   "metadata": {},
   "source": [
    "Предложите диапазоны значений, где стоило бы искать оптимальные параметры регуляризации."
   ]
  },
  {
   "attachments": {},
   "cell_type": "markdown",
   "id": "acc2d9d5",
   "metadata": {},
   "source": [
    "**Вывод:** <...>\n"
   ]
  },
  {
   "attachments": {},
   "cell_type": "markdown",
   "id": "a35e6954",
   "metadata": {},
   "source": [
    "**2.** Проиллюстрируйте, как меняется качество предсказания моделей при изменении параметра `alpha`. Возьмите `Ridge`, `Lasso` и 3 `ElasticNet` с разными фиксированными значениями `l1_ratio` &mdash; вы будете исследовать 5 моделей с регуляризацией и 1 без нее."
   ]
  },
  {
   "attachments": {},
   "cell_type": "markdown",
   "id": "d86a03b7",
   "metadata": {},
   "source": [
    "Сначала посчитайте ошибки для линейной регрессии без регуляризации."
   ]
  },
  {
   "cell_type": "code",
   "execution_count": null,
   "id": "7ea90b50",
   "metadata": {},
   "outputs": [],
   "source": [
    "linreg = {}\n",
    "linreg['MSE'] = mean_squared_error(<...>)\n",
    "linreg['MAE'] = mean_absolute_error(<...>)\n",
    "linreg['MAPE'] = mean_absolute_percentage_error(<...>)"
   ]
  },
  {
   "attachments": {},
   "cell_type": "markdown",
   "id": "819e777f",
   "metadata": {},
   "source": [
    "Реализуйте функцию для отрисовки изменения величины ошибки от параметра регуляризации. "
   ]
  },
  {
   "cell_type": "code",
   "execution_count": null,
   "id": "e35c948c",
   "metadata": {},
   "outputs": [],
   "source": [
    "def draw_errors(error, error_name, alphas):\n",
    "\n",
    "    \"\"\"\n",
    "    Функция строит график зависимости величины ошибки от параметра alpha для разных моделей\n",
    "    \n",
    "    error - функция, вычисляющая ошибку\n",
    "    error_name - имя функции, вычисляющей ошибку (одно из 'MSE', 'MAE', 'MAPE')\n",
    "    alphas - массив величин alpha\n",
    "    \n",
    "    \"\"\"\n",
    "\n",
    "    <...>\n",
    "\n"
   ]
  },
  {
   "cell_type": "markdown",
   "id": "f447821a",
   "metadata": {},
   "source": [
    "Постройте графики для MSE, MAE и MAPE. Возьмите предложенный массив `alphas`."
   ]
  },
  {
   "cell_type": "code",
   "execution_count": null,
   "id": "d5da0a8e",
   "metadata": {},
   "outputs": [],
   "source": [
    "alphas = np.logspace(-2, 8, 20)"
   ]
  },
  {
   "cell_type": "code",
   "execution_count": null,
   "id": "65b373f4",
   "metadata": {},
   "outputs": [],
   "source": [
    "<...>\n"
   ]
  },
  {
   "attachments": {},
   "cell_type": "markdown",
   "id": "09afa99b",
   "metadata": {},
   "source": [
    "Оцените по графикам, в каких диапазонах достигается наилучшее качетсво предсказания моделей. Постройте графики для более узкого диапазона, чтобы сравнить модели более детально."
   ]
  },
  {
   "cell_type": "code",
   "execution_count": null,
   "id": "8fa3e217",
   "metadata": {},
   "outputs": [],
   "source": [
    "<...>"
   ]
  },
  {
   "attachments": {},
   "cell_type": "markdown",
   "id": "9847134d",
   "metadata": {},
   "source": [
    "**3.** Сделайте общий вывод по задаче."
   ]
  },
  {
   "attachments": {},
   "cell_type": "markdown",
   "id": "7a6bc1e1",
   "metadata": {},
   "source": [
    "**Вывод:** <...>"
   ]
  },
  {
   "attachments": {},
   "cell_type": "markdown",
   "id": "f5d987be",
   "metadata": {},
   "source": [
    "### Задача 4\n",
    "Во взвешенном методе наименьших квадратов каждому наблюдению задается некоторый известный вес $w_i$. Задача имеет вид: $$\\sum\\limits_{i=1}^n w_i\\left(Y_i - x_i^T \\theta\\right)^2 \\to \\min\\limits_\\theta$$ Найдите решение задачи в матричном виде.\n"
   ]
  }
 ],
 "metadata": {
  "kernelspec": {
   "display_name": "Python 3 (ipykernel)",
   "language": "python",
   "name": "python3"
  },
  "language_info": {
   "codemirror_mode": {
    "name": "ipython",
    "version": 3
   },
   "file_extension": ".py",
   "mimetype": "text/x-python",
   "name": "python",
   "nbconvert_exporter": "python",
   "pygments_lexer": "ipython3",
   "version": "3.10.4"
  }
 },
 "nbformat": 4,
 "nbformat_minor": 5
}
