{
 "cells": [
  {
   "cell_type": "markdown",
   "metadata": {},
   "source": [
    "# <a href=\"https://miptstats.github.io/courses/mathstat_bmhf.html\">Математическая статистика (ФБМФ, ФМХФ)</a>\n",
    "## Домашнее задание 2 &mdash; часть В\n",
    "\n",
    "**Правила, <font color=\"red\">прочитайте внимательно</font>:**\n",
    "\n",
    "* Выполненную работу нужно отправить телеграм-боту `@miptstats_st_bot`. Для начала работы с ботом каждый раз отправляйте `/start`. Дождитесь подтверждения от бота, что он принял файл. Если подтверждения нет, то что-то не так. **Работы, присланные иным способом, не принимаются.**\n",
    "* Дедлайн см. в боте. После дедлайна работы не принимаются **вообще никак**, кроме случаев наличия уважительной причины.\n",
    "* До дедлайна можно поменять решение любое количество раз. Начинайте точно так же сдавать задание, бот подскажет.\n",
    "* Любую уважительную причину нужно подтвердить документально, отправив скан или фото боту. При этом работу можно сдать позже на столько дней, на сколько время ее действия пересекается с временем выполнения задания.\n",
    "* Прислать нужно **ноутбук в формате ipynb**. Другие форматы не принимаются.\n",
    "* Выполнять задание необходимо **полностью самостоятельно**. При обнаружении списывания **все участники списывания будут сдавать устный зачет.**\n",
    "* Решения, размещенные на каких-либо интернет-ресурсах не принимаются. Кроме того, публикация решения в открытом доступе может быть приравнена к предоставлении возможности списать.\n",
    "* Простой или основной уровень вы выбираете самостоятельно, выполняя или не выполняя задания типа B. При выборе **простого уровня** достаточно выполнить задания *типа A*. При выборе **основного уровня** нужно выполнять *как задания типа A, так и задания типа B*.\n",
    "* Для выполнения задания используйте этот ноутбук в качествие основы, ничего не удаляя из него. Можно добавлять необходимое количество ячеек. Ячейки с assert'ами **удалять и изменять нельзя**, в противном случае соответствующее задание не будет оценено.\n",
    "* Комментарии к решению пишите в markdown-ячейках.\n",
    "* **Если код студента недописан и т.д., то он не оценивается.**\n",
    "* Каждая задача стоит **5 баллов**."
   ]
  },
  {
   "cell_type": "markdown",
   "metadata": {},
   "source": [
    "<font size=\"5\">Для выполнения задания используйте этот ноутбук в качествие основы, ничего не удаляя из него. Можно добавлять необходимое количество ячеек. Ячейки с assert'ами **удалять и изменять нельзя**, в противном случае соответствующее задание не будет оценено.</font>"
   ]
  },
  {
   "cell_type": "code",
   "execution_count": null,
   "metadata": {},
   "outputs": [],
   "source": [
    "import numpy as np\n",
    "import scipy.stats as sps\n",
    "import matplotlib.pyplot as plt\n",
    "%matplotlib inline"
   ]
  },
  {
   "cell_type": "markdown",
   "metadata": {
    "deletable": false,
    "editable": false,
    "nbgrader": {
     "cell_type": "markdown",
     "checksum": "85a2cbcf3acec34447343fb30a6a66a2",
     "grade": false,
     "grade_id": "cell-21c79437bc35dc4c",
     "locked": true,
     "points": 5,
     "schema_version": 3,
     "solution": false,
     "task": true
    }
   },
   "source": [
    "----\n",
    "\n",
    "### Задача 4\n",
    "\n",
    "В этой задаче нужно визуализировать доверительные интервалы для выборок из различных распределений. \n",
    "\n",
    "Пусть выборка $X_1, ... X_{100}$ имеет распределение $Bern(\\theta)$. <a href=\"https://miptstats.github.io/courses/python/07_random.html#2.-Работа-с-библиотекой-scipy.stats.\">Сгенерируйте</a> такую выборку, взяв $\\theta=1/2$. Для каждой подвыборке вида $X_1, ... X_i$, $1 \\le i \\le 100$ постройте асимптотический доверительный интервал для параметра $\\theta$ уровня доверия $\\alpha=0.95$. Формула для интервала была выведена на семинаре. Постройте график зависимости доверительного интервала от размера выборки (см. <a href=\"https://miptstats.github.io/courses/mathstat_bmhf/seminar3.html#Задача-1.\">код с семинара</a>). \n",
    "\n",
    "Аналогичные действия выполните для выборки из распределения Лапласса с плотностью $p(x) = \\frac{1}{2} e^{-|x-\\theta|}$, сгенерировав выборку для $\\theta=0$."
   ]
  },
  {
   "cell_type": "code",
   "execution_count": null,
   "metadata": {},
   "outputs": [],
   "source": [
    "<...>"
   ]
  },
  {
   "cell_type": "markdown",
   "metadata": {},
   "source": [
    "**Вывод:** <...>"
   ]
  },
  {
   "cell_type": "markdown",
   "metadata": {
    "deletable": false,
    "editable": false,
    "nbgrader": {
     "cell_type": "markdown",
     "checksum": "720302fbd450c9d525eb8a0f3f0d640b",
     "grade": false,
     "grade_id": "cell-edc8f8dc8da68532",
     "locked": true,
     "points": 5,
     "schema_version": 3,
     "solution": false,
     "task": true
    }
   },
   "source": [
    "__________________\n",
    "### Задача 5\n",
    "\n",
    "Если у вас еще не установлена <a href=\"https://miptstats.github.io/courses/python/09_seaborn.html\">библиотека `seaborn`</a> для получения красивых графиков, поставьте ее."
   ]
  },
  {
   "cell_type": "code",
   "execution_count": null,
   "metadata": {},
   "outputs": [],
   "source": [
    "import seaborn as sns\n",
    "sns.set(font_scale=1.2, palette='Set2')"
   ]
  },
  {
   "cell_type": "markdown",
   "metadata": {},
   "source": [
    "Загрузим данные <a target=\"_blank\" href=\"https://ru.wikipedia.org/wiki/Ирисы_Фишера\">\"Ирисы Фишера\"</a> о цветках ириса различных сортов и посмотрим на первые пять строк таблицы. Для хранения данных используется <a href=\"https://miptstats.github.io/courses/python/08_pandas1.html#2.-Тип-данных-DataFrame\">класс `DataFrame`</a> <a href=\"https://miptstats.github.io/courses/python/08_pandas1.html\">библиотеки `pandas`</a>."
   ]
  },
  {
   "cell_type": "code",
   "execution_count": null,
   "metadata": {},
   "outputs": [],
   "source": [
    "df = sns.load_dataset(\"iris\")\n",
    "df.head()"
   ]
  },
  {
   "cell_type": "markdown",
   "metadata": {},
   "source": [
    "Столбцы отвечают за длину и ширину чашелистика и лепестка соответственно, а так же за тип цветка (setosa, virginica, versicolor).\n",
    "\n",
    "Вектор значений первого столбца можно получить так"
   ]
  },
  {
   "cell_type": "code",
   "execution_count": null,
   "metadata": {},
   "outputs": [],
   "source": [
    "df['sepal_length']"
   ]
  },
  {
   "cell_type": "markdown",
   "metadata": {},
   "source": [
    "Первую строку можно получить так"
   ]
  },
  {
   "cell_type": "code",
   "execution_count": null,
   "metadata": {},
   "outputs": [],
   "source": [
    "df.iloc[0]"
   ]
  },
  {
   "cell_type": "markdown",
   "metadata": {},
   "source": [
    "Таблица с данными только по сорту virginica извлекается следующим образом"
   ]
  },
  {
   "cell_type": "code",
   "execution_count": null,
   "metadata": {},
   "outputs": [],
   "source": [
    "df[df['species'] == 'virginica']"
   ]
  },
  {
   "cell_type": "markdown",
   "metadata": {},
   "source": [
    "Визуализируем данные по двумерным проекциям. Цветом обозначен тип цветка."
   ]
  },
  {
   "cell_type": "code",
   "execution_count": null,
   "metadata": {},
   "outputs": [],
   "source": [
    "g = sns.PairGrid(df, hue='species', size=3)\n",
    "g.map_offdiag(plt.scatter, cmap =\"Blues_d\")\n",
    "g.map_diag(sns.kdeplot, lw=3)\n",
    "plt.legend();"
   ]
  },
  {
   "cell_type": "markdown",
   "metadata": {},
   "source": [
    "Для каждой характеристики цветка и каждого типа цветка проверьте с помощью <a href=\"https://miptstats.github.io/courses/mathstat_bmhf/seminar3.html#Критерий-Шапиро-Уилка\">критерия Шапиро-Уилка</a>, является ли соответствующая выборка нормальной с уровнем значимости $\\alpha=0.05$. Всего нужно совешить 12 проверок (4 характеристики, 3 типа). Например, нужно проверить, является ли выборка `df[df['species'] == 'virginica']['sepal_length']` нормальной."
   ]
  },
  {
   "cell_type": "code",
   "execution_count": null,
   "metadata": {},
   "outputs": [],
   "source": [
    "<...>"
   ]
  },
  {
   "cell_type": "markdown",
   "metadata": {},
   "source": [
    "Теперь для каждой характеристики для всех пар типов цветка проверьте с уровнем значимости $\\alpha=0.05$, отличаются ли значения данной харатеристики для этих типов цветков (см. <a href=\"https://miptstats.github.io/courses/mathstat_bmhf/seminar3_presentation.pdf\">презентацию с семинара</a>). Если для обеих выборок нормальность выше не отверглась, используйте <a href=\"https://miptstats.github.io/courses/mathstat_bmhf/seminar3.html#T-критерий-Стьюдента-—-независимые-выборки\">критерий Стьюдента</a>, иначе пользуйтесь <a href=\"https://miptstats.github.io/courses/mathstat_bmhf/seminar3.html#Критерий-Смирнова\">критерием Смирнова</a>. Например, нужно проверить, отличаются ли распределения выборкок `df[df['species'] == 'setosa']['sepal_length']` и `df[df['species'] == 'virginica']['sepal_length']`.\n",
    "\n",
    "*Замечание*. Для применения критерия Стьюдента было бы правильнее предварительно проверить, что дисперсии выборок совпадает, но в данном задании это можно не делать."
   ]
  },
  {
   "cell_type": "code",
   "execution_count": null,
   "metadata": {},
   "outputs": [],
   "source": [
    "<...>"
   ]
  },
  {
   "cell_type": "markdown",
   "metadata": {},
   "source": [
    "**Вывод:** <...>"
   ]
  },
  {
   "cell_type": "markdown",
   "metadata": {
    "deletable": false,
    "editable": false,
    "nbgrader": {
     "cell_type": "markdown",
     "checksum": "55e59510deec8dbf1ac10d55894749eb",
     "grade": false,
     "grade_id": "cell-b818da01445b4160",
     "locked": true,
     "points": 5,
     "schema_version": 3,
     "solution": false,
     "task": true
    }
   },
   "source": [
    "__________________\n",
    "### Задача 6\n",
    "\n",
    "Сколько проверок статистических гипотез пришлось совершить в предыдущей задачи?"
   ]
  },
  {
   "cell_type": "markdown",
   "metadata": {},
   "source": [
    "<...>"
   ]
  },
  {
   "cell_type": "markdown",
   "metadata": {},
   "source": [
    "Каким числом ограничена вероятность ошибки первого рода в каждой проверке?"
   ]
  },
  {
   "cell_type": "markdown",
   "metadata": {},
   "source": [
    "<...>"
   ]
  },
  {
   "cell_type": "markdown",
   "metadata": {},
   "source": [
    "Такую ошибку мы могли совершить в каждой проверке. Вероятность совершения хотя бы одной ошибки первого рода среди всех проверок не превосходит произведения указанных вами чисел. Но нам хотелось бы, чтобы вероятность совершения хотя бы одной ошибки первого рода не превосходила $\\alpha=0.05$. Можете ли вы предложить решение данной проблемы?"
   ]
  },
  {
   "cell_type": "markdown",
   "metadata": {},
   "source": [
    "<...>"
   ]
  },
  {
   "cell_type": "markdown",
   "metadata": {},
   "source": [
    "Реализуйте этот способ для предыдущей задачи"
   ]
  },
  {
   "cell_type": "code",
   "execution_count": null,
   "metadata": {},
   "outputs": [],
   "source": [
    "<...>"
   ]
  },
  {
   "cell_type": "markdown",
   "metadata": {},
   "source": [
    "***Вывод:** <...>"
   ]
  }
 ],
 "metadata": {
  "kernelspec": {
   "display_name": "Python 3",
   "language": "python",
   "name": "python3"
  },
  "language_info": {
   "codemirror_mode": {
    "name": "ipython",
    "version": 3
   },
   "file_extension": ".py",
   "mimetype": "text/x-python",
   "name": "python",
   "nbconvert_exporter": "python",
   "pygments_lexer": "ipython3",
   "version": "3.8.10"
  }
 },
 "nbformat": 4,
 "nbformat_minor": 2
}
